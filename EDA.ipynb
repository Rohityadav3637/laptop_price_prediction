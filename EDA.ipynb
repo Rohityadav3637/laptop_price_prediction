{
  "cells": [
    {
      "cell_type": "markdown",
      "metadata": {},
      "source": [
        "<div style=\"text-align: center\">\n",
        "    <h2>Laptop Price Prediction and Analysis</h2>\n",
        "    <p></p>\n",
        "</div>\n",
        "<div>\n",
        "    <p>By - Rohit Yadav</p>\n",
        "</div>\n",
        "This project aims to uncover latest trends in price of laptop and also helps in predicting price of laptop so that you can buy your dream laptop. Through data-driven analysis, we seek to hghlight the prices, and ultimately see the different laptop prices.  "
      ]
    },
    {
      "cell_type": "code",
      "execution_count": 284,
      "metadata": {
        "id": "me9j9zBB1opK"
      },
      "outputs": [],
      "source": [
        "import numpy as np\n",
        "import pandas as pd\n",
        "import seaborn as sns\n",
        "import matplotlib.pyplot as plt\n",
        "import sklearn"
      ]
    },
    {
      "cell_type": "markdown",
      "metadata": {},
      "source": [
        "### Laptop Price Analysis"
      ]
    },
    {
      "cell_type": "code",
      "execution_count": 285,
      "metadata": {
        "id": "-29e6X291opR"
      },
      "outputs": [],
      "source": [
        "df = pd.read_csv(r\"C:\\Users\\User\\OneDrive\\Desktop\\Sem4\\Project - EDA\\laptop_data.csv\")"
      ]
    },
    {
      "cell_type": "code",
      "execution_count": 287,
      "metadata": {},
      "outputs": [],
      "source": [
        "df.drop(columns='Unnamed: 0', inplace=True)"
      ]
    },
    {
      "cell_type": "code",
      "execution_count": 288,
      "metadata": {
        "colab": {
          "base_uri": "https://localhost:8080/",
          "height": 310
        },
        "id": "GlUPcZqG1opS",
        "outputId": "d56fe2d5-80e5-4555-d750-7ba9e8f9d464"
      },
      "outputs": [
        {
          "data": {
            "text/html": [
              "<div>\n",
              "<style scoped>\n",
              "    .dataframe tbody tr th:only-of-type {\n",
              "        vertical-align: middle;\n",
              "    }\n",
              "\n",
              "    .dataframe tbody tr th {\n",
              "        vertical-align: top;\n",
              "    }\n",
              "\n",
              "    .dataframe thead th {\n",
              "        text-align: right;\n",
              "    }\n",
              "</style>\n",
              "<table border=\"1\" class=\"dataframe\">\n",
              "  <thead>\n",
              "    <tr style=\"text-align: right;\">\n",
              "      <th></th>\n",
              "      <th>Company</th>\n",
              "      <th>TypeName</th>\n",
              "      <th>Inches</th>\n",
              "      <th>ScreenResolution</th>\n",
              "      <th>Cpu</th>\n",
              "      <th>Ram</th>\n",
              "      <th>Memory</th>\n",
              "      <th>Gpu</th>\n",
              "      <th>OpSys</th>\n",
              "      <th>Weight</th>\n",
              "      <th>Price</th>\n",
              "    </tr>\n",
              "  </thead>\n",
              "  <tbody>\n",
              "    <tr>\n",
              "      <th>0</th>\n",
              "      <td>Apple</td>\n",
              "      <td>Ultrabook</td>\n",
              "      <td>13.3</td>\n",
              "      <td>IPS Panel Retina Display 2560x1600</td>\n",
              "      <td>Intel Core i5 2.3GHz</td>\n",
              "      <td>8GB</td>\n",
              "      <td>128GB SSD</td>\n",
              "      <td>Intel Iris Plus Graphics 640</td>\n",
              "      <td>macOS</td>\n",
              "      <td>1.37kg</td>\n",
              "      <td>71378.6832</td>\n",
              "    </tr>\n",
              "    <tr>\n",
              "      <th>1</th>\n",
              "      <td>Apple</td>\n",
              "      <td>Ultrabook</td>\n",
              "      <td>13.3</td>\n",
              "      <td>1440x900</td>\n",
              "      <td>Intel Core i5 1.8GHz</td>\n",
              "      <td>8GB</td>\n",
              "      <td>128GB Flash Storage</td>\n",
              "      <td>Intel HD Graphics 6000</td>\n",
              "      <td>macOS</td>\n",
              "      <td>1.34kg</td>\n",
              "      <td>47895.5232</td>\n",
              "    </tr>\n",
              "    <tr>\n",
              "      <th>2</th>\n",
              "      <td>HP</td>\n",
              "      <td>Notebook</td>\n",
              "      <td>15.6</td>\n",
              "      <td>Full HD 1920x1080</td>\n",
              "      <td>Intel Core i5 7200U 2.5GHz</td>\n",
              "      <td>8GB</td>\n",
              "      <td>256GB SSD</td>\n",
              "      <td>Intel HD Graphics 620</td>\n",
              "      <td>No OS</td>\n",
              "      <td>1.86kg</td>\n",
              "      <td>30636.0000</td>\n",
              "    </tr>\n",
              "    <tr>\n",
              "      <th>3</th>\n",
              "      <td>Apple</td>\n",
              "      <td>Ultrabook</td>\n",
              "      <td>15.4</td>\n",
              "      <td>IPS Panel Retina Display 2880x1800</td>\n",
              "      <td>Intel Core i7 2.7GHz</td>\n",
              "      <td>16GB</td>\n",
              "      <td>512GB SSD</td>\n",
              "      <td>AMD Radeon Pro 455</td>\n",
              "      <td>macOS</td>\n",
              "      <td>1.83kg</td>\n",
              "      <td>135195.3360</td>\n",
              "    </tr>\n",
              "    <tr>\n",
              "      <th>4</th>\n",
              "      <td>Apple</td>\n",
              "      <td>Ultrabook</td>\n",
              "      <td>13.3</td>\n",
              "      <td>IPS Panel Retina Display 2560x1600</td>\n",
              "      <td>Intel Core i5 3.1GHz</td>\n",
              "      <td>8GB</td>\n",
              "      <td>256GB SSD</td>\n",
              "      <td>Intel Iris Plus Graphics 650</td>\n",
              "      <td>macOS</td>\n",
              "      <td>1.37kg</td>\n",
              "      <td>96095.8080</td>\n",
              "    </tr>\n",
              "  </tbody>\n",
              "</table>\n",
              "</div>"
            ],
            "text/plain": [
              "  Company   TypeName  Inches                    ScreenResolution  \\\n",
              "0   Apple  Ultrabook    13.3  IPS Panel Retina Display 2560x1600   \n",
              "1   Apple  Ultrabook    13.3                            1440x900   \n",
              "2      HP   Notebook    15.6                   Full HD 1920x1080   \n",
              "3   Apple  Ultrabook    15.4  IPS Panel Retina Display 2880x1800   \n",
              "4   Apple  Ultrabook    13.3  IPS Panel Retina Display 2560x1600   \n",
              "\n",
              "                          Cpu   Ram               Memory  \\\n",
              "0        Intel Core i5 2.3GHz   8GB            128GB SSD   \n",
              "1        Intel Core i5 1.8GHz   8GB  128GB Flash Storage   \n",
              "2  Intel Core i5 7200U 2.5GHz   8GB            256GB SSD   \n",
              "3        Intel Core i7 2.7GHz  16GB            512GB SSD   \n",
              "4        Intel Core i5 3.1GHz   8GB            256GB SSD   \n",
              "\n",
              "                            Gpu  OpSys  Weight        Price  \n",
              "0  Intel Iris Plus Graphics 640  macOS  1.37kg   71378.6832  \n",
              "1        Intel HD Graphics 6000  macOS  1.34kg   47895.5232  \n",
              "2         Intel HD Graphics 620  No OS  1.86kg   30636.0000  \n",
              "3            AMD Radeon Pro 455  macOS  1.83kg  135195.3360  \n",
              "4  Intel Iris Plus Graphics 650  macOS  1.37kg   96095.8080  "
            ]
          },
          "execution_count": 288,
          "metadata": {},
          "output_type": "execute_result"
        }
      ],
      "source": [
        "df.head()\n"
      ]
    },
    {
      "cell_type": "markdown",
      "metadata": {},
      "source": [
        "### Seeing the shape of the dataset"
      ]
    },
    {
      "cell_type": "code",
      "execution_count": 289,
      "metadata": {
        "colab": {
          "base_uri": "https://localhost:8080/"
        },
        "id": "pkVHVaGa1opV",
        "outputId": "da87ef63-d309-4ea7-f10b-eb2023034f82"
      },
      "outputs": [
        {
          "name": "stdout",
          "output_type": "stream",
          "text": [
            "(1303, 11)\n"
          ]
        }
      ],
      "source": [
        "print(df.shape)"
      ]
    },
    {
      "cell_type": "markdown",
      "metadata": {},
      "source": [
        "### Seeing the info of the dataset"
      ]
    },
    {
      "cell_type": "code",
      "execution_count": 290,
      "metadata": {
        "colab": {
          "base_uri": "https://localhost:8080/"
        },
        "id": "4SwtynKK1opW",
        "outputId": "7c72951c-73c2-4809-f6e2-4574f5d354b6"
      },
      "outputs": [
        {
          "name": "stdout",
          "output_type": "stream",
          "text": [
            "<class 'pandas.core.frame.DataFrame'>\n",
            "RangeIndex: 1303 entries, 0 to 1302\n",
            "Data columns (total 11 columns):\n",
            " #   Column            Non-Null Count  Dtype  \n",
            "---  ------            --------------  -----  \n",
            " 0   Company           1303 non-null   object \n",
            " 1   TypeName          1303 non-null   object \n",
            " 2   Inches            1303 non-null   float64\n",
            " 3   ScreenResolution  1303 non-null   object \n",
            " 4   Cpu               1303 non-null   object \n",
            " 5   Ram               1303 non-null   object \n",
            " 6   Memory            1303 non-null   object \n",
            " 7   Gpu               1303 non-null   object \n",
            " 8   OpSys             1303 non-null   object \n",
            " 9   Weight            1303 non-null   object \n",
            " 10  Price             1303 non-null   float64\n",
            "dtypes: float64(2), object(9)\n",
            "memory usage: 112.1+ KB\n",
            "None\n"
          ]
        }
      ],
      "source": [
        "print(df.info())"
      ]
    },
    {
      "cell_type": "markdown",
      "metadata": {},
      "source": [
        "### Seeing the null values of the dataset"
      ]
    },
    {
      "cell_type": "code",
      "execution_count": 291,
      "metadata": {
        "colab": {
          "base_uri": "https://localhost:8080/",
          "height": 460
        },
        "id": "EtAp3q-c1opX",
        "outputId": "0185f324-5f4c-4cb6-8b60-a7057e46d4c8"
      },
      "outputs": [
        {
          "data": {
            "text/plain": [
              "Company             0\n",
              "TypeName            0\n",
              "Inches              0\n",
              "ScreenResolution    0\n",
              "Cpu                 0\n",
              "Ram                 0\n",
              "Memory              0\n",
              "Gpu                 0\n",
              "OpSys               0\n",
              "Weight              0\n",
              "Price               0\n",
              "dtype: int64"
            ]
          },
          "execution_count": 291,
          "metadata": {},
          "output_type": "execute_result"
        }
      ],
      "source": [
        "df.isnull().sum()"
      ]
    },
    {
      "cell_type": "code",
      "execution_count": 292,
      "metadata": {
        "colab": {
          "base_uri": "https://localhost:8080/"
        },
        "id": "5w32a9bW1opX",
        "outputId": "77311f4d-e111-4995-dd07-77e23d29ae93"
      },
      "outputs": [
        {
          "name": "stdout",
          "output_type": "stream",
          "text": [
            "29\n"
          ]
        }
      ],
      "source": [
        "print(df.duplicated().sum())"
      ]
    },
    {
      "cell_type": "code",
      "execution_count": 293,
      "metadata": {
        "colab": {
          "base_uri": "https://localhost:8080/",
          "height": 293
        },
        "id": "yEu0Fw171opZ",
        "outputId": "dfacf051-211a-426b-faa5-ffad42f501de"
      },
      "outputs": [
        {
          "data": {
            "text/html": [
              "<div>\n",
              "<style scoped>\n",
              "    .dataframe tbody tr th:only-of-type {\n",
              "        vertical-align: middle;\n",
              "    }\n",
              "\n",
              "    .dataframe tbody tr th {\n",
              "        vertical-align: top;\n",
              "    }\n",
              "\n",
              "    .dataframe thead th {\n",
              "        text-align: right;\n",
              "    }\n",
              "</style>\n",
              "<table border=\"1\" class=\"dataframe\">\n",
              "  <thead>\n",
              "    <tr style=\"text-align: right;\">\n",
              "      <th></th>\n",
              "      <th>Company</th>\n",
              "      <th>TypeName</th>\n",
              "      <th>Inches</th>\n",
              "      <th>ScreenResolution</th>\n",
              "      <th>Cpu</th>\n",
              "      <th>Ram</th>\n",
              "      <th>Memory</th>\n",
              "      <th>Gpu</th>\n",
              "      <th>OpSys</th>\n",
              "      <th>Weight</th>\n",
              "      <th>Price</th>\n",
              "    </tr>\n",
              "  </thead>\n",
              "  <tbody>\n",
              "    <tr>\n",
              "      <th>0</th>\n",
              "      <td>Apple</td>\n",
              "      <td>Ultrabook</td>\n",
              "      <td>13.3</td>\n",
              "      <td>IPS Panel Retina Display 2560x1600</td>\n",
              "      <td>Intel Core i5 2.3GHz</td>\n",
              "      <td>8GB</td>\n",
              "      <td>128GB SSD</td>\n",
              "      <td>Intel Iris Plus Graphics 640</td>\n",
              "      <td>macOS</td>\n",
              "      <td>1.37kg</td>\n",
              "      <td>71378.6832</td>\n",
              "    </tr>\n",
              "    <tr>\n",
              "      <th>1</th>\n",
              "      <td>Apple</td>\n",
              "      <td>Ultrabook</td>\n",
              "      <td>13.3</td>\n",
              "      <td>1440x900</td>\n",
              "      <td>Intel Core i5 1.8GHz</td>\n",
              "      <td>8GB</td>\n",
              "      <td>128GB Flash Storage</td>\n",
              "      <td>Intel HD Graphics 6000</td>\n",
              "      <td>macOS</td>\n",
              "      <td>1.34kg</td>\n",
              "      <td>47895.5232</td>\n",
              "    </tr>\n",
              "    <tr>\n",
              "      <th>2</th>\n",
              "      <td>HP</td>\n",
              "      <td>Notebook</td>\n",
              "      <td>15.6</td>\n",
              "      <td>Full HD 1920x1080</td>\n",
              "      <td>Intel Core i5 7200U 2.5GHz</td>\n",
              "      <td>8GB</td>\n",
              "      <td>256GB SSD</td>\n",
              "      <td>Intel HD Graphics 620</td>\n",
              "      <td>No OS</td>\n",
              "      <td>1.86kg</td>\n",
              "      <td>30636.0000</td>\n",
              "    </tr>\n",
              "    <tr>\n",
              "      <th>3</th>\n",
              "      <td>Apple</td>\n",
              "      <td>Ultrabook</td>\n",
              "      <td>15.4</td>\n",
              "      <td>IPS Panel Retina Display 2880x1800</td>\n",
              "      <td>Intel Core i7 2.7GHz</td>\n",
              "      <td>16GB</td>\n",
              "      <td>512GB SSD</td>\n",
              "      <td>AMD Radeon Pro 455</td>\n",
              "      <td>macOS</td>\n",
              "      <td>1.83kg</td>\n",
              "      <td>135195.3360</td>\n",
              "    </tr>\n",
              "    <tr>\n",
              "      <th>4</th>\n",
              "      <td>Apple</td>\n",
              "      <td>Ultrabook</td>\n",
              "      <td>13.3</td>\n",
              "      <td>IPS Panel Retina Display 2560x1600</td>\n",
              "      <td>Intel Core i5 3.1GHz</td>\n",
              "      <td>8GB</td>\n",
              "      <td>256GB SSD</td>\n",
              "      <td>Intel Iris Plus Graphics 650</td>\n",
              "      <td>macOS</td>\n",
              "      <td>1.37kg</td>\n",
              "      <td>96095.8080</td>\n",
              "    </tr>\n",
              "  </tbody>\n",
              "</table>\n",
              "</div>"
            ],
            "text/plain": [
              "  Company   TypeName  Inches                    ScreenResolution  \\\n",
              "0   Apple  Ultrabook    13.3  IPS Panel Retina Display 2560x1600   \n",
              "1   Apple  Ultrabook    13.3                            1440x900   \n",
              "2      HP   Notebook    15.6                   Full HD 1920x1080   \n",
              "3   Apple  Ultrabook    15.4  IPS Panel Retina Display 2880x1800   \n",
              "4   Apple  Ultrabook    13.3  IPS Panel Retina Display 2560x1600   \n",
              "\n",
              "                          Cpu   Ram               Memory  \\\n",
              "0        Intel Core i5 2.3GHz   8GB            128GB SSD   \n",
              "1        Intel Core i5 1.8GHz   8GB  128GB Flash Storage   \n",
              "2  Intel Core i5 7200U 2.5GHz   8GB            256GB SSD   \n",
              "3        Intel Core i7 2.7GHz  16GB            512GB SSD   \n",
              "4        Intel Core i5 3.1GHz   8GB            256GB SSD   \n",
              "\n",
              "                            Gpu  OpSys  Weight        Price  \n",
              "0  Intel Iris Plus Graphics 640  macOS  1.37kg   71378.6832  \n",
              "1        Intel HD Graphics 6000  macOS  1.34kg   47895.5232  \n",
              "2         Intel HD Graphics 620  No OS  1.86kg   30636.0000  \n",
              "3            AMD Radeon Pro 455  macOS  1.83kg  135195.3360  \n",
              "4  Intel Iris Plus Graphics 650  macOS  1.37kg   96095.8080  "
            ]
          },
          "execution_count": 293,
          "metadata": {},
          "output_type": "execute_result"
        }
      ],
      "source": [
        "df.head()"
      ]
    },
    {
      "cell_type": "markdown",
      "metadata": {},
      "source": [
        "### Data preprocessing"
      ]
    },
    {
      "cell_type": "code",
      "execution_count": 294,
      "metadata": {
        "id": "eywjnd-S1opa"
      },
      "outputs": [],
      "source": [
        "df['Ram']=df['Ram'].str.replace('GB','')\n",
        "df['Weight']=df['Weight'].str.replace('kg','')"
      ]
    },
    {
      "cell_type": "code",
      "execution_count": 295,
      "metadata": {
        "id": "wj3A8dZu1opb"
      },
      "outputs": [],
      "source": [
        "df['Ram']=df['Ram'].astype('int32')\n",
        "df['Weight']=df['Weight'].astype('float32')"
      ]
    },
    {
      "cell_type": "markdown",
      "metadata": {},
      "source": [
        "### Seeing the info of the dataset"
      ]
    },
    {
      "cell_type": "code",
      "execution_count": 296,
      "metadata": {
        "colab": {
          "base_uri": "https://localhost:8080/"
        },
        "id": "NoHFFR_n1opd",
        "outputId": "a29e78c9-10fd-4701-a526-c1e4af768c7a"
      },
      "outputs": [
        {
          "name": "stdout",
          "output_type": "stream",
          "text": [
            "<class 'pandas.core.frame.DataFrame'>\n",
            "RangeIndex: 1303 entries, 0 to 1302\n",
            "Data columns (total 11 columns):\n",
            " #   Column            Non-Null Count  Dtype  \n",
            "---  ------            --------------  -----  \n",
            " 0   Company           1303 non-null   object \n",
            " 1   TypeName          1303 non-null   object \n",
            " 2   Inches            1303 non-null   float64\n",
            " 3   ScreenResolution  1303 non-null   object \n",
            " 4   Cpu               1303 non-null   object \n",
            " 5   Ram               1303 non-null   int32  \n",
            " 6   Memory            1303 non-null   object \n",
            " 7   Gpu               1303 non-null   object \n",
            " 8   OpSys             1303 non-null   object \n",
            " 9   Weight            1303 non-null   float32\n",
            " 10  Price             1303 non-null   float64\n",
            "dtypes: float32(1), float64(2), int32(1), object(7)\n",
            "memory usage: 101.9+ KB\n"
          ]
        }
      ],
      "source": [
        "df.info()"
      ]
    },
    {
      "cell_type": "markdown",
      "metadata": {},
      "source": [
        "### Univariate Analysis of target column price"
      ]
    },
    {
      "cell_type": "code",
      "execution_count": null,
      "metadata": {
        "colab": {
          "base_uri": "https://localhost:8080/",
          "height": 524
        },
        "id": "_r0iU2se1ope",
        "outputId": "8224b61f-2fdf-4879-fcff-e30cbd31a567"
      },
      "outputs": [
        {
          "data": {
            "text/plain": [
              "<seaborn.axisgrid.FacetGrid at 0x27d52a23320>"
            ]
          },
          "execution_count": 297,
          "metadata": {},
          "output_type": "execute_result"
        },
        {
          "data": {
            "image/png": "[encoded data removed]",
            "text/plain": [
              "<Figure size 500x500 with 1 Axes>"
            ]
          },
          "metadata": {},
          "output_type": "display_data"
        }
      ],
      "source": [
        "sns.displot(df['Price'])"
      ]
    },
    {
      "cell_type": "markdown",
      "metadata": {},
      "source": [
        "#### Analysis of the Company Column\n",
        "The Company column represents the manufacturers or brands of the laptops in the dataset. This information plays a significant role in determining the laptop's overall quality, design, build, and, most importantly,"
      ]
    },
    {
      "cell_type": "code",
      "execution_count": 298,
      "metadata": {
        "colab": {
          "base_uri": "https://localhost:8080/",
          "height": 524
        },
        "id": "4bojLHfW1opf",
        "outputId": "fbf04a0a-7689-4e02-f069-dc029a8e0547"
      },
      "outputs": [
        {
          "data": {
            "text/plain": [
              "Company\n",
              "Dell         297\n",
              "Lenovo       297\n",
              "HP           274\n",
              "Asus         158\n",
              "Acer         103\n",
              "MSI           54\n",
              "Toshiba       48\n",
              "Apple         21\n",
              "Samsung        9\n",
              "Mediacom       7\n",
              "Razer          7\n",
              "Microsoft      6\n",
              "Vero           4\n",
              "Xiaomi         4\n",
              "Chuwi          3\n",
              "Fujitsu        3\n",
              "Google         3\n",
              "LG             3\n",
              "Huawei         2\n",
              "Name: count, dtype: int64"
            ]
          },
          "execution_count": 298,
          "metadata": {},
          "output_type": "execute_result"
        }
      ],
      "source": [
        "df['Company'].value_counts()"
      ]
    },
    {
      "cell_type": "markdown",
      "metadata": {},
      "source": [
        "- Calculating the average price per company helps to identify how the pricing varies across different laptop brands. \n",
        "- By grouping the data by company and calculating the average price, you can better understand the pricing strategy of each manufacturer."
      ]
    },
    {
      "cell_type": "code",
      "execution_count": 299,
      "metadata": {
        "colab": {
          "base_uri": "https://localhost:8080/",
          "height": 529
        },
        "id": "GlGHeAoR1opf",
        "outputId": "bd14930c-b0d1-43d0-e527-5482e39cff8e"
      },
      "outputs": [
        {
          "data": {
            "image/png": "[encoded data removed]",
            "text/plain": [
              "<Figure size 640x480 with 1 Axes>"
            ]
          },
          "metadata": {},
          "output_type": "display_data"
        }
      ],
      "source": [
        "# Calculate average price per company\n",
        "avg_price = df.groupby('Company', as_index=False)['Price'].mean()\n",
        "\n",
        "# Plot the data\n",
        "sns.barplot(x=avg_price['Company'], y=avg_price['Price'])\n",
        "plt.xticks(rotation=90, ha='right')\n",
        "plt.xlabel('Company')\n",
        "plt.ylabel('Average Price')\n",
        "plt.title('Average Laptop Price by Company')\n",
        "\n",
        "plt.show()\n"
      ]
    },
    {
      "cell_type": "markdown",
      "metadata": {},
      "source": [
        "- This code visualizes the distribution of laptop types in the dataset. The TypeName column likely represents the type of each laptop and this bar chart helps to see how many laptops belong to each type."
      ]
    },
    {
      "cell_type": "code",
      "execution_count": 300,
      "metadata": {
        "colab": {
          "base_uri": "https://localhost:8080/",
          "height": 581
        },
        "id": "x5vZYoZg1opg",
        "outputId": "3d56d271-ecfe-44b0-9679-b60008bafb6b"
      },
      "outputs": [
        {
          "data": {
            "image/png": "[encoded data removed]",
            "text/plain": [
              "<Figure size 640x480 with 1 Axes>"
            ]
          },
          "metadata": {},
          "output_type": "display_data"
        }
      ],
      "source": [
        "df['TypeName'].value_counts().plot(kind='bar')\n",
        "plt.xlabel('Laptop Type')\n",
        "plt.ylabel('Count')\n",
        "plt.title('Distribution of Laptop Types')\n",
        "plt.show()"
      ]
    },
    {
      "cell_type": "markdown",
      "metadata": {},
      "source": [
        "- Calculating the average price per laptop type helps understand how different types of laptops are priced. It provides insights into which types are more premium or budget-friendly, aiding in market segmentation and product strategy."
      ]
    },
    {
      "cell_type": "code",
      "execution_count": 301,
      "metadata": {
        "colab": {
          "base_uri": "https://localhost:8080/",
          "height": 581
        },
        "id": "1-tXzZea1oph",
        "outputId": "5534118e-76a4-4d50-b335-8e015f3721fb"
      },
      "outputs": [
        {
          "data": {
            "image/png": "[encoded data removed]",
            "text/plain": [
              "<Figure size 640x480 with 1 Axes>"
            ]
          },
          "metadata": {},
          "output_type": "display_data"
        }
      ],
      "source": [
        "# Calculating average price per laptop type\n",
        "avg_price_type = df.groupby('TypeName', as_index=False)['Price'].mean()\n",
        "\n",
        "# Plot the data\n",
        "sns.barplot(x=avg_price_type['TypeName'], y=avg_price_type['Price'])\n",
        "plt.xticks(rotation=90, ha='right')\n",
        "plt.xlabel('Laptop Type')\n",
        "plt.ylabel('Average Price')\n",
        "plt.title('Average Laptop Price by Type')\n",
        "\n",
        "plt.show()\n",
        "\n"
      ]
    },
    {
      "cell_type": "markdown",
      "metadata": {},
      "source": [
        "Analysis visualizes the relationship between screen size (Inches) and price of the laptops. By using a scatter plot, you can see if there’s any correlation between the size of the laptop’s screen and its price. Larger screen sizes might indicate more expensive laptops"
      ]
    },
    {
      "cell_type": "code",
      "execution_count": 302,
      "metadata": {
        "colab": {
          "base_uri": "https://localhost:8080/",
          "height": 487
        },
        "id": "0Ca5yjQR1oph",
        "outputId": "766aca6b-75e2-48df-fc2f-a23a6afcd60e"
      },
      "outputs": [
        {
          "data": {
            "image/png": "[encoded data removed]",
            "text/plain": [
              "<Figure size 1000x500 with 1 Axes>"
            ]
          },
          "metadata": {},
          "output_type": "display_data"
        }
      ],
      "source": [
        "plt.figure(figsize=(10, 5))\n",
        "sns.scatterplot(x=df['Inches'], y=df['Price'], alpha=0.6, color='blue')\n",
        "plt.xlabel('Screen Size (Inches)')\n",
        "plt.ylabel('Price')\n",
        "plt.title('Laptop Price vs. Screen Size')\n",
        "plt.show()\n"
      ]
    },
    {
      "cell_type": "markdown",
      "metadata": {},
      "source": [
        "#### Analyzing the ScreenResolution Column"
      ]
    },
    {
      "cell_type": "markdown",
      "metadata": {},
      "source": [
        "1. Count the Unique Screen Resolutions: Using the value_counts() function to determine how many laptops have each screen resolution in the dataset."
      ]
    },
    {
      "cell_type": "code",
      "execution_count": 303,
      "metadata": {
        "colab": {
          "base_uri": "https://localhost:8080/",
          "height": 1000
        },
        "id": "cvClULBR1opi",
        "outputId": "1e63e6ab-658f-4234-aa4a-ad485774e12f"
      },
      "outputs": [
        {
          "data": {
            "text/plain": [
              "ScreenResolution\n",
              "Full HD 1920x1080                                507\n",
              "1366x768                                         281\n",
              "IPS Panel Full HD 1920x1080                      230\n",
              "IPS Panel Full HD / Touchscreen 1920x1080         53\n",
              "Full HD / Touchscreen 1920x1080                   47\n",
              "1600x900                                          23\n",
              "Touchscreen 1366x768                              16\n",
              "Quad HD+ / Touchscreen 3200x1800                  15\n",
              "IPS Panel 4K Ultra HD 3840x2160                   12\n",
              "IPS Panel 4K Ultra HD / Touchscreen 3840x2160     11\n",
              "4K Ultra HD / Touchscreen 3840x2160               10\n",
              "IPS Panel 1366x768                                 7\n",
              "Touchscreen 2560x1440                              7\n",
              "4K Ultra HD 3840x2160                              7\n",
              "IPS Panel Retina Display 2304x1440                 6\n",
              "IPS Panel Retina Display 2560x1600                 6\n",
              "Touchscreen 2256x1504                              6\n",
              "IPS Panel Quad HD+ / Touchscreen 3200x1800         6\n",
              "IPS Panel Touchscreen 2560x1440                    5\n",
              "IPS Panel Retina Display 2880x1800                 4\n",
              "1440x900                                           4\n",
              "IPS Panel Touchscreen 1920x1200                    4\n",
              "IPS Panel 2560x1440                                4\n",
              "IPS Panel Quad HD+ 2560x1440                       3\n",
              "IPS Panel Touchscreen 1366x768                     3\n",
              "Quad HD+ 3200x1800                                 3\n",
              "1920x1080                                          3\n",
              "2560x1440                                          3\n",
              "Touchscreen 2400x1600                              3\n",
              "IPS Panel Quad HD+ 3200x1800                       2\n",
              "IPS Panel Full HD 2160x1440                        2\n",
              "IPS Panel Touchscreen / 4K Ultra HD 3840x2160      2\n",
              "IPS Panel Full HD 1366x768                         1\n",
              "Touchscreen / Quad HD+ 3200x1800                   1\n",
              "IPS Panel Retina Display 2736x1824                 1\n",
              "IPS Panel Full HD 2560x1440                        1\n",
              "IPS Panel Full HD 1920x1200                        1\n",
              "Touchscreen / Full HD 1920x1080                    1\n",
              "Touchscreen / 4K Ultra HD 3840x2160                1\n",
              "IPS Panel Touchscreen 2400x1600                    1\n",
              "Name: count, dtype: int64"
            ]
          },
          "execution_count": 303,
          "metadata": {},
          "output_type": "execute_result"
        }
      ],
      "source": [
        "df['ScreenResolution'].value_counts()"
      ]
    },
    {
      "cell_type": "markdown",
      "metadata": {
        "id": "zkGX4p7B1opi"
      },
      "source": [
        "2.  To identify laptops with a touchscreen feature, a new column called 'Touchscreen' was added to the dataset. The column was created by applying a condition to the 'ScreenResolution' column. If the resolution contains the word 'Touchscreen', the corresponding value in the 'Touchscreen' column is set to 1. Otherwise, it is set to 0. This allows us to easily analyze and filter laptops based on the presence of a touchscreen"
      ]
    },
    {
      "cell_type": "code",
      "execution_count": 304,
      "metadata": {
        "colab": {
          "base_uri": "https://localhost:8080/",
          "height": 293
        },
        "id": "U8gIWaX81opk",
        "outputId": "068627fc-8bd2-4813-b456-9bda873024dc"
      },
      "outputs": [
        {
          "data": {
            "text/html": [
              "<div>\n",
              "<style scoped>\n",
              "    .dataframe tbody tr th:only-of-type {\n",
              "        vertical-align: middle;\n",
              "    }\n",
              "\n",
              "    .dataframe tbody tr th {\n",
              "        vertical-align: top;\n",
              "    }\n",
              "\n",
              "    .dataframe thead th {\n",
              "        text-align: right;\n",
              "    }\n",
              "</style>\n",
              "<table border=\"1\" class=\"dataframe\">\n",
              "  <thead>\n",
              "    <tr style=\"text-align: right;\">\n",
              "      <th></th>\n",
              "      <th>Company</th>\n",
              "      <th>TypeName</th>\n",
              "      <th>Inches</th>\n",
              "      <th>ScreenResolution</th>\n",
              "      <th>Cpu</th>\n",
              "      <th>Ram</th>\n",
              "      <th>Memory</th>\n",
              "      <th>Gpu</th>\n",
              "      <th>OpSys</th>\n",
              "      <th>Weight</th>\n",
              "      <th>Price</th>\n",
              "      <th>Touchscreen</th>\n",
              "    </tr>\n",
              "  </thead>\n",
              "  <tbody>\n",
              "    <tr>\n",
              "      <th>464</th>\n",
              "      <td>Lenovo</td>\n",
              "      <td>Notebook</td>\n",
              "      <td>15.6</td>\n",
              "      <td>Full HD 1920x1080</td>\n",
              "      <td>Intel Core i7 7820HQ 2.9GHz</td>\n",
              "      <td>8</td>\n",
              "      <td>256GB SSD</td>\n",
              "      <td>Nvidia Quadro M2200M</td>\n",
              "      <td>Windows 10</td>\n",
              "      <td>2.67</td>\n",
              "      <td>111355.2000</td>\n",
              "      <td>0</td>\n",
              "    </tr>\n",
              "    <tr>\n",
              "      <th>429</th>\n",
              "      <td>Mediacom</td>\n",
              "      <td>2 in 1 Convertible</td>\n",
              "      <td>11.6</td>\n",
              "      <td>IPS Panel Full HD / Touchscreen 1920x1080</td>\n",
              "      <td>Intel Celeron Dual Core N3350 1.1GHz</td>\n",
              "      <td>4</td>\n",
              "      <td>32GB SSD</td>\n",
              "      <td>Intel HD Graphics 500</td>\n",
              "      <td>Windows 10</td>\n",
              "      <td>1.16</td>\n",
              "      <td>15930.7200</td>\n",
              "      <td>1</td>\n",
              "    </tr>\n",
              "    <tr>\n",
              "      <th>1053</th>\n",
              "      <td>HP</td>\n",
              "      <td>Notebook</td>\n",
              "      <td>15.6</td>\n",
              "      <td>1366x768</td>\n",
              "      <td>Intel Core i5 7200U 2.5GHz</td>\n",
              "      <td>4</td>\n",
              "      <td>256GB SSD</td>\n",
              "      <td>Intel HD Graphics 620</td>\n",
              "      <td>Windows 10</td>\n",
              "      <td>2.04</td>\n",
              "      <td>52161.1200</td>\n",
              "      <td>0</td>\n",
              "    </tr>\n",
              "    <tr>\n",
              "      <th>93</th>\n",
              "      <td>Dell</td>\n",
              "      <td>Gaming</td>\n",
              "      <td>15.6</td>\n",
              "      <td>Full HD 1920x1080</td>\n",
              "      <td>Intel Core i5 7300HQ 2.5GHz</td>\n",
              "      <td>8</td>\n",
              "      <td>256GB SSD</td>\n",
              "      <td>Nvidia GeForce GTX 1060</td>\n",
              "      <td>Windows 10</td>\n",
              "      <td>2.65</td>\n",
              "      <td>63669.6000</td>\n",
              "      <td>0</td>\n",
              "    </tr>\n",
              "    <tr>\n",
              "      <th>1116</th>\n",
              "      <td>Lenovo</td>\n",
              "      <td>Gaming</td>\n",
              "      <td>17.3</td>\n",
              "      <td>IPS Panel Full HD 1920x1080</td>\n",
              "      <td>Intel Core i7 6820HK 2.7GHz</td>\n",
              "      <td>16</td>\n",
              "      <td>256GB SSD +  1.0TB Hybrid</td>\n",
              "      <td>Nvidia GeForce GTX 980M</td>\n",
              "      <td>Windows 10</td>\n",
              "      <td>4.60</td>\n",
              "      <td>146519.4672</td>\n",
              "      <td>0</td>\n",
              "    </tr>\n",
              "  </tbody>\n",
              "</table>\n",
              "</div>"
            ],
            "text/plain": [
              "       Company            TypeName  Inches  \\\n",
              "464     Lenovo            Notebook    15.6   \n",
              "429   Mediacom  2 in 1 Convertible    11.6   \n",
              "1053        HP            Notebook    15.6   \n",
              "93        Dell              Gaming    15.6   \n",
              "1116    Lenovo              Gaming    17.3   \n",
              "\n",
              "                               ScreenResolution  \\\n",
              "464                           Full HD 1920x1080   \n",
              "429   IPS Panel Full HD / Touchscreen 1920x1080   \n",
              "1053                                   1366x768   \n",
              "93                            Full HD 1920x1080   \n",
              "1116                IPS Panel Full HD 1920x1080   \n",
              "\n",
              "                                       Cpu  Ram                     Memory  \\\n",
              "464            Intel Core i7 7820HQ 2.9GHz    8                  256GB SSD   \n",
              "429   Intel Celeron Dual Core N3350 1.1GHz    4                   32GB SSD   \n",
              "1053            Intel Core i5 7200U 2.5GHz    4                  256GB SSD   \n",
              "93             Intel Core i5 7300HQ 2.5GHz    8                  256GB SSD   \n",
              "1116           Intel Core i7 6820HK 2.7GHz   16  256GB SSD +  1.0TB Hybrid   \n",
              "\n",
              "                          Gpu       OpSys  Weight        Price  Touchscreen  \n",
              "464      Nvidia Quadro M2200M  Windows 10    2.67  111355.2000            0  \n",
              "429     Intel HD Graphics 500  Windows 10    1.16   15930.7200            1  \n",
              "1053    Intel HD Graphics 620  Windows 10    2.04   52161.1200            0  \n",
              "93    Nvidia GeForce GTX 1060  Windows 10    2.65   63669.6000            0  \n",
              "1116  Nvidia GeForce GTX 980M  Windows 10    4.60  146519.4672            0  "
            ]
          },
          "execution_count": 304,
          "metadata": {},
          "output_type": "execute_result"
        }
      ],
      "source": [
        "df['Touchscreen'] = df['ScreenResolution'].apply(lambda x:1 if 'Touchscreen'in x else 0 )\n",
        "df.sample(5)"
      ]
    },
    {
      "cell_type": "markdown",
      "metadata": {
        "id": "oPsbC7h11opl"
      },
      "source": [
        "3. Visualize the Distribution: analyze the distribution of laptops with and without touchscreens"
      ]
    },
    {
      "cell_type": "code",
      "execution_count": 305,
      "metadata": {
        "colab": {
          "base_uri": "https://localhost:8080/",
          "height": 467
        },
        "id": "J1AAylok1opl",
        "outputId": "9e758967-8b38-4e14-fbee-4d0bd9fcc9d7"
      },
      "outputs": [
        {
          "data": {
            "image/png": "[encoded data removed]",
            "text/plain": [
              "<Figure size 640x480 with 1 Axes>"
            ]
          },
          "metadata": {},
          "output_type": "display_data"
        }
      ],
      "source": [
        "df['Touchscreen'].value_counts().plot(kind='bar', color=['lightblue', 'orange'])\n",
        "\n",
        "plt.xlabel('Touchscreen (0 = No, 1 = Yes)')\n",
        "plt.ylabel('Count')\n",
        "plt.title('Distribution of Laptops with/without Touchscreen')\n",
        "\n",
        "plt.show()\n"
      ]
    },
    {
      "cell_type": "markdown",
      "metadata": {
        "id": "rHQlE3-B1opm"
      },
      "source": [
        "4. Price Comparison by Touchscreen Availability\n",
        "To compare the average price of laptops with and without touchscreens, we use a bar plot. This plot displays the mean price of laptops in each category: laptops with a touchscreen (1) and those without a touchscreen (0)."
      ]
    },
    {
      "cell_type": "code",
      "execution_count": 306,
      "metadata": {
        "colab": {
          "base_uri": "https://localhost:8080/",
          "height": 472
        },
        "id": "E5W2_WQt1opm",
        "outputId": "09e76d4b-044e-4db9-aaf3-9f31a3ac7d87"
      },
      "outputs": [
        {
          "data": {
            "image/png": "[encoded data removed]",
            "text/plain": [
              "<Figure size 640x480 with 1 Axes>"
            ]
          },
          "metadata": {},
          "output_type": "display_data"
        }
      ],
      "source": [
        "# Bar plot to compare average price of laptops with and without touchscreen\n",
        "sns.barplot(x=df['Touchscreen'], y=df['Price'])\n",
        "plt.xlabel('Touchscreen (0 = No, 1 = Yes)')\n",
        "plt.ylabel('Average Price')\n",
        "plt.title('Average Price of Laptops with/without Touchscreen')\n",
        "\n",
        "plt.show()"
      ]
    },
    {
      "cell_type": "markdown",
      "metadata": {
        "id": "ZyvJj1Xz1opn"
      },
      "source": [
        "#### Creation of IPS Column\n",
        "A new column called 'IPS' is created to identify laptops with IPS screens based on the 'ScreenResolution' column. This column is generated by applying a lambda function that checks if the word 'Touchscreen' is present in the ScreenResolution column. If the word is found, the value is set to 1 (indicating an IPS screen); otherwise, it is set to 0. This will help us filter and analyze laptops with IPS displays."
      ]
    },
    {
      "cell_type": "code",
      "execution_count": 307,
      "metadata": {
        "colab": {
          "base_uri": "https://localhost:8080/",
          "height": 293
        },
        "id": "5qLBR-7J1opn",
        "outputId": "f78ef30d-4208-4b44-ca93-9c6abc86d49a"
      },
      "outputs": [
        {
          "data": {
            "text/html": [
              "<div>\n",
              "<style scoped>\n",
              "    .dataframe tbody tr th:only-of-type {\n",
              "        vertical-align: middle;\n",
              "    }\n",
              "\n",
              "    .dataframe tbody tr th {\n",
              "        vertical-align: top;\n",
              "    }\n",
              "\n",
              "    .dataframe thead th {\n",
              "        text-align: right;\n",
              "    }\n",
              "</style>\n",
              "<table border=\"1\" class=\"dataframe\">\n",
              "  <thead>\n",
              "    <tr style=\"text-align: right;\">\n",
              "      <th></th>\n",
              "      <th>Company</th>\n",
              "      <th>TypeName</th>\n",
              "      <th>Inches</th>\n",
              "      <th>ScreenResolution</th>\n",
              "      <th>Cpu</th>\n",
              "      <th>Ram</th>\n",
              "      <th>Memory</th>\n",
              "      <th>Gpu</th>\n",
              "      <th>OpSys</th>\n",
              "      <th>Weight</th>\n",
              "      <th>Price</th>\n",
              "      <th>Touchscreen</th>\n",
              "      <th>IPS</th>\n",
              "    </tr>\n",
              "  </thead>\n",
              "  <tbody>\n",
              "    <tr>\n",
              "      <th>1145</th>\n",
              "      <td>HP</td>\n",
              "      <td>Workstation</td>\n",
              "      <td>15.6</td>\n",
              "      <td>Full HD 1920x1080</td>\n",
              "      <td>Intel Core i7 6700HQ 2.6GHz</td>\n",
              "      <td>8</td>\n",
              "      <td>256GB SSD</td>\n",
              "      <td>Nvidia Quadro M1000M</td>\n",
              "      <td>Windows 7</td>\n",
              "      <td>2.00</td>\n",
              "      <td>101178.72</td>\n",
              "      <td>0</td>\n",
              "      <td>0</td>\n",
              "    </tr>\n",
              "    <tr>\n",
              "      <th>1000</th>\n",
              "      <td>Acer</td>\n",
              "      <td>Gaming</td>\n",
              "      <td>15.6</td>\n",
              "      <td>IPS Panel Full HD 1920x1080</td>\n",
              "      <td>Intel Core i7 7700HQ 2.8GHz</td>\n",
              "      <td>8</td>\n",
              "      <td>128GB SSD +  1TB HDD</td>\n",
              "      <td>Nvidia GeForce GTX 1050</td>\n",
              "      <td>Windows 10</td>\n",
              "      <td>2.70</td>\n",
              "      <td>67132.80</td>\n",
              "      <td>0</td>\n",
              "      <td>0</td>\n",
              "    </tr>\n",
              "    <tr>\n",
              "      <th>1042</th>\n",
              "      <td>Toshiba</td>\n",
              "      <td>Notebook</td>\n",
              "      <td>15.6</td>\n",
              "      <td>IPS Panel Full HD 1920x1080</td>\n",
              "      <td>Intel Core i7 6500U 2.5GHz</td>\n",
              "      <td>16</td>\n",
              "      <td>256GB SSD</td>\n",
              "      <td>Nvidia GeForce 930M</td>\n",
              "      <td>Windows 10</td>\n",
              "      <td>2.40</td>\n",
              "      <td>75924.00</td>\n",
              "      <td>0</td>\n",
              "      <td>0</td>\n",
              "    </tr>\n",
              "    <tr>\n",
              "      <th>456</th>\n",
              "      <td>Dell</td>\n",
              "      <td>Notebook</td>\n",
              "      <td>17.3</td>\n",
              "      <td>IPS Panel Full HD 1920x1080</td>\n",
              "      <td>Intel Core i7 7700HQ 2.7GHz</td>\n",
              "      <td>8</td>\n",
              "      <td>1TB HDD</td>\n",
              "      <td>Nvidia GeForce GTX 1060</td>\n",
              "      <td>Windows 10</td>\n",
              "      <td>4.42</td>\n",
              "      <td>109010.88</td>\n",
              "      <td>0</td>\n",
              "      <td>0</td>\n",
              "    </tr>\n",
              "    <tr>\n",
              "      <th>293</th>\n",
              "      <td>Dell</td>\n",
              "      <td>Notebook</td>\n",
              "      <td>15.6</td>\n",
              "      <td>Full HD 1920x1080</td>\n",
              "      <td>Intel Core i7 7700HQ 2.8GHz</td>\n",
              "      <td>8</td>\n",
              "      <td>256GB SSD</td>\n",
              "      <td>Nvidia GeForce GTX 1050</td>\n",
              "      <td>Windows 10</td>\n",
              "      <td>2.00</td>\n",
              "      <td>97449.12</td>\n",
              "      <td>0</td>\n",
              "      <td>0</td>\n",
              "    </tr>\n",
              "  </tbody>\n",
              "</table>\n",
              "</div>"
            ],
            "text/plain": [
              "      Company     TypeName  Inches             ScreenResolution  \\\n",
              "1145       HP  Workstation    15.6            Full HD 1920x1080   \n",
              "1000     Acer       Gaming    15.6  IPS Panel Full HD 1920x1080   \n",
              "1042  Toshiba     Notebook    15.6  IPS Panel Full HD 1920x1080   \n",
              "456      Dell     Notebook    17.3  IPS Panel Full HD 1920x1080   \n",
              "293      Dell     Notebook    15.6            Full HD 1920x1080   \n",
              "\n",
              "                              Cpu  Ram                Memory  \\\n",
              "1145  Intel Core i7 6700HQ 2.6GHz    8             256GB SSD   \n",
              "1000  Intel Core i7 7700HQ 2.8GHz    8  128GB SSD +  1TB HDD   \n",
              "1042   Intel Core i7 6500U 2.5GHz   16             256GB SSD   \n",
              "456   Intel Core i7 7700HQ 2.7GHz    8               1TB HDD   \n",
              "293   Intel Core i7 7700HQ 2.8GHz    8             256GB SSD   \n",
              "\n",
              "                          Gpu       OpSys  Weight      Price  Touchscreen  IPS  \n",
              "1145     Nvidia Quadro M1000M   Windows 7    2.00  101178.72            0    0  \n",
              "1000  Nvidia GeForce GTX 1050  Windows 10    2.70   67132.80            0    0  \n",
              "1042      Nvidia GeForce 930M  Windows 10    2.40   75924.00            0    0  \n",
              "456   Nvidia GeForce GTX 1060  Windows 10    4.42  109010.88            0    0  \n",
              "293   Nvidia GeForce GTX 1050  Windows 10    2.00   97449.12            0    0  "
            ]
          },
          "execution_count": 307,
          "metadata": {},
          "output_type": "execute_result"
        }
      ],
      "source": [
        "df['IPS'] = df['ScreenResolution'].apply(lambda x:1 if 'Touchscreen'in x else 0 )\n",
        "df.sample(5)"
      ]
    },
    {
      "cell_type": "markdown",
      "metadata": {
        "id": "xl-oLi2d1opo"
      },
      "source": [
        "* To analyze the distribution of laptops with and without IPS Display"
      ]
    },
    {
      "cell_type": "code",
      "execution_count": 308,
      "metadata": {
        "colab": {
          "base_uri": "https://localhost:8080/",
          "height": 467
        },
        "id": "GLr1udFI1opo",
        "outputId": "83b8f1dc-6db2-4666-b9bf-eac61337d5a4"
      },
      "outputs": [
        {
          "data": {
            "image/png": "[encoded data removed]",
            "text/plain": [
              "<Figure size 640x480 with 1 Axes>"
            ]
          },
          "metadata": {},
          "output_type": "display_data"
        }
      ],
      "source": [
        "df['IPS'].value_counts().plot(kind='bar', color=['lightblue', 'orange'])\n",
        "\n",
        "plt.xlabel('IPS (0 = No, 1 = Yes)')\n",
        "plt.ylabel('Count')\n",
        "plt.title('Distribution of Laptops with/without IPS')\n",
        "\n",
        "plt.show()"
      ]
    },
    {
      "cell_type": "markdown",
      "metadata": {
        "id": "guuB0Hij1opp"
      },
      "source": [
        "* Price Comparison for Laptops with/without IPS Display :\n",
        "This bar plot compares the average price of laptops with and without IPS displays (based on the 'IPS' column). The x-axis represents the two categories (laptops with an IPS display, marked as 1, and those without, marked as 0), while the y-axis represents the average price of laptops in each category. This analysis helps identify any significant pricing differences between laptops equipped with IPS displays and those that aren't.\n",
        "\n"
      ]
    },
    {
      "cell_type": "code",
      "execution_count": 309,
      "metadata": {
        "colab": {
          "base_uri": "https://localhost:8080/",
          "height": 489
        },
        "id": "LQcvpORN1opp",
        "outputId": "9801615f-0868-4768-fddb-d998e1f6e8cf"
      },
      "outputs": [
        {
          "data": {
            "text/plain": [
              "Text(0.5, 1.0, 'Average Price of Laptops with/without IPS Display')"
            ]
          },
          "execution_count": 309,
          "metadata": {},
          "output_type": "execute_result"
        },
        {
          "data": {
            "image/png": "[encoded data removed]",
            "text/plain": [
              "<Figure size 640x480 with 1 Axes>"
            ]
          },
          "metadata": {},
          "output_type": "display_data"
        }
      ],
      "source": [
        "# Bar plot to compare average price of laptops with and without IPS Display\n",
        "sns.barplot(x=df['IPS'], y=df['Price'])\n",
        "plt.xlabel('IPS Display (0 = No, 1 = Yes)')\n",
        "plt.ylabel('Average Price')\n",
        "plt.title('Average Price of Laptops with/without IPS Display')"
      ]
    },
    {
      "cell_type": "markdown",
      "metadata": {
        "id": "06yqRRms1opq"
      },
      "source": [
        "* Extract Screen Resolution into Width(x) and Height(y) : We split the 'ScreenResolution' column into width and height (x and y resolution) based on the 'x' separator."
      ]
    },
    {
      "cell_type": "code",
      "execution_count": 310,
      "metadata": {
        "colab": {
          "base_uri": "https://localhost:8080/",
          "height": 521
        },
        "id": "ZftxNWYB1opr",
        "outputId": "c25f506b-d2bf-414d-f92c-8f9db8f12ea2"
      },
      "outputs": [
        {
          "data": {
            "text/html": [
              "<div>\n",
              "<style scoped>\n",
              "    .dataframe tbody tr th:only-of-type {\n",
              "        vertical-align: middle;\n",
              "    }\n",
              "\n",
              "    .dataframe tbody tr th {\n",
              "        vertical-align: top;\n",
              "    }\n",
              "\n",
              "    .dataframe thead th {\n",
              "        text-align: right;\n",
              "    }\n",
              "</style>\n",
              "<table border=\"1\" class=\"dataframe\">\n",
              "  <thead>\n",
              "    <tr style=\"text-align: right;\">\n",
              "      <th></th>\n",
              "      <th>Company</th>\n",
              "      <th>TypeName</th>\n",
              "      <th>Inches</th>\n",
              "      <th>ScreenResolution</th>\n",
              "      <th>Cpu</th>\n",
              "      <th>Ram</th>\n",
              "      <th>Memory</th>\n",
              "      <th>Gpu</th>\n",
              "      <th>OpSys</th>\n",
              "      <th>Weight</th>\n",
              "      <th>Price</th>\n",
              "      <th>Touchscreen</th>\n",
              "      <th>IPS</th>\n",
              "      <th>x_Resolution</th>\n",
              "      <th>y_Resolution</th>\n",
              "    </tr>\n",
              "  </thead>\n",
              "  <tbody>\n",
              "    <tr>\n",
              "      <th>418</th>\n",
              "      <td>Dell</td>\n",
              "      <td>Notebook</td>\n",
              "      <td>15.6</td>\n",
              "      <td>1366x768</td>\n",
              "      <td>Intel Core i5 7200U 2.5GHz</td>\n",
              "      <td>8</td>\n",
              "      <td>1TB HDD</td>\n",
              "      <td>Intel HD Graphics 620</td>\n",
              "      <td>Windows 10</td>\n",
              "      <td>2.14</td>\n",
              "      <td>28768.5360</td>\n",
              "      <td>0</td>\n",
              "      <td>0</td>\n",
              "      <td>1366</td>\n",
              "      <td>768</td>\n",
              "    </tr>\n",
              "    <tr>\n",
              "      <th>87</th>\n",
              "      <td>HP</td>\n",
              "      <td>Notebook</td>\n",
              "      <td>15.6</td>\n",
              "      <td>Full HD 1920x1080</td>\n",
              "      <td>Intel Core i5 7200U 2.5GHz</td>\n",
              "      <td>8</td>\n",
              "      <td>256GB SSD</td>\n",
              "      <td>Intel HD Graphics 620</td>\n",
              "      <td>Windows 10</td>\n",
              "      <td>1.96</td>\n",
              "      <td>31914.1872</td>\n",
              "      <td>0</td>\n",
              "      <td>0</td>\n",
              "      <td>Full HD 1920</td>\n",
              "      <td>1080</td>\n",
              "    </tr>\n",
              "    <tr>\n",
              "      <th>302</th>\n",
              "      <td>Lenovo</td>\n",
              "      <td>Notebook</td>\n",
              "      <td>17.3</td>\n",
              "      <td>1600x900</td>\n",
              "      <td>Intel Core i5 7200U 2.5GHz</td>\n",
              "      <td>6</td>\n",
              "      <td>1TB HDD</td>\n",
              "      <td>Nvidia GeForce GTX 940M</td>\n",
              "      <td>Windows 10</td>\n",
              "      <td>2.80</td>\n",
              "      <td>34578.7200</td>\n",
              "      <td>0</td>\n",
              "      <td>0</td>\n",
              "      <td>1600</td>\n",
              "      <td>900</td>\n",
              "    </tr>\n",
              "    <tr>\n",
              "      <th>158</th>\n",
              "      <td>Dell</td>\n",
              "      <td>2 in 1 Convertible</td>\n",
              "      <td>15.6</td>\n",
              "      <td>Full HD / Touchscreen 1920x1080</td>\n",
              "      <td>Intel Core i7 8550U 1.8GHz</td>\n",
              "      <td>8</td>\n",
              "      <td>256GB SSD</td>\n",
              "      <td>Intel UHD Graphics 620</td>\n",
              "      <td>Windows 10</td>\n",
              "      <td>1.56</td>\n",
              "      <td>55890.7200</td>\n",
              "      <td>1</td>\n",
              "      <td>1</td>\n",
              "      <td>Full HD / Touchscreen 1920</td>\n",
              "      <td>1080</td>\n",
              "    </tr>\n",
              "    <tr>\n",
              "      <th>909</th>\n",
              "      <td>LG</td>\n",
              "      <td>Ultrabook</td>\n",
              "      <td>14.0</td>\n",
              "      <td>IPS Panel Full HD / Touchscreen 1920x1080</td>\n",
              "      <td>Intel Core i7 7500U 2.7GHz</td>\n",
              "      <td>8</td>\n",
              "      <td>512GB SSD</td>\n",
              "      <td>Intel HD Graphics 620</td>\n",
              "      <td>Windows 10</td>\n",
              "      <td>0.98</td>\n",
              "      <td>101178.7200</td>\n",
              "      <td>1</td>\n",
              "      <td>1</td>\n",
              "      <td>IPS Panel Full HD / Touchscreen 1920</td>\n",
              "      <td>1080</td>\n",
              "    </tr>\n",
              "  </tbody>\n",
              "</table>\n",
              "</div>"
            ],
            "text/plain": [
              "    Company            TypeName  Inches  \\\n",
              "418    Dell            Notebook    15.6   \n",
              "87       HP            Notebook    15.6   \n",
              "302  Lenovo            Notebook    17.3   \n",
              "158    Dell  2 in 1 Convertible    15.6   \n",
              "909      LG           Ultrabook    14.0   \n",
              "\n",
              "                              ScreenResolution                         Cpu  \\\n",
              "418                                   1366x768  Intel Core i5 7200U 2.5GHz   \n",
              "87                           Full HD 1920x1080  Intel Core i5 7200U 2.5GHz   \n",
              "302                                   1600x900  Intel Core i5 7200U 2.5GHz   \n",
              "158            Full HD / Touchscreen 1920x1080  Intel Core i7 8550U 1.8GHz   \n",
              "909  IPS Panel Full HD / Touchscreen 1920x1080  Intel Core i7 7500U 2.7GHz   \n",
              "\n",
              "     Ram     Memory                      Gpu       OpSys  Weight        Price  \\\n",
              "418    8    1TB HDD    Intel HD Graphics 620  Windows 10    2.14   28768.5360   \n",
              "87     8  256GB SSD    Intel HD Graphics 620  Windows 10    1.96   31914.1872   \n",
              "302    6    1TB HDD  Nvidia GeForce GTX 940M  Windows 10    2.80   34578.7200   \n",
              "158    8  256GB SSD   Intel UHD Graphics 620  Windows 10    1.56   55890.7200   \n",
              "909    8  512GB SSD    Intel HD Graphics 620  Windows 10    0.98  101178.7200   \n",
              "\n",
              "     Touchscreen  IPS                          x_Resolution y_Resolution  \n",
              "418            0    0                                  1366          768  \n",
              "87             0    0                          Full HD 1920         1080  \n",
              "302            0    0                                  1600          900  \n",
              "158            1    1            Full HD / Touchscreen 1920         1080  \n",
              "909            1    1  IPS Panel Full HD / Touchscreen 1920         1080  "
            ]
          },
          "execution_count": 310,
          "metadata": {},
          "output_type": "execute_result"
        }
      ],
      "source": [
        "# Split 'ScreenResolution' into two columns (x and y resolution)\n",
        "New_Resolution = df['ScreenResolution'].str.split('x', n=1, expand=True)\n",
        "\n",
        "# Assign the split values to new columns\n",
        "df['x_Resolution'] = New_Resolution[0]\n",
        "df['y_Resolution'] = New_Resolution[1]\n",
        "\n",
        "df.sample(5)"
      ]
    },
    {
      "cell_type": "markdown",
      "metadata": {
        "id": "K5eE2tMI1ops"
      },
      "source": [
        "* Extracting Numbers from Screen Resolution : This step replaces any commas in the 'x_Resolution' column with spaces and then extracts all numerical values (both integers and decimals) using a regular expression. This allows us to isolate the numeric components of the resolution, which can be useful for further analysis or comparison."
      ]
    },
    {
      "cell_type": "code",
      "execution_count": 311,
      "metadata": {
        "colab": {
          "base_uri": "https://localhost:8080/",
          "height": 458
        },
        "id": "JotBZHb51ops",
        "outputId": "3072f774-c876-492e-fa87-15b4f26e43a1"
      },
      "outputs": [
        {
          "data": {
            "text/plain": [
              "0       [2560]\n",
              "1       [1440]\n",
              "2       [1920]\n",
              "3       [2880]\n",
              "4       [2560]\n",
              "         ...  \n",
              "1298    [1920]\n",
              "1299    [3200]\n",
              "1300    [1366]\n",
              "1301    [1366]\n",
              "1302    [1366]\n",
              "Name: x_Resolution, Length: 1303, dtype: object"
            ]
          },
          "execution_count": 311,
          "metadata": {},
          "output_type": "execute_result"
        }
      ],
      "source": [
        "df['x_Resolution'].str.replace(',',' ').str.findall(r'(\\d+\\.?\\d+)')"
      ]
    },
    {
      "cell_type": "markdown",
      "metadata": {
        "id": "2_Rz84z_1opt"
      },
      "source": [
        "* Extracting and Standardizing x_Resolution Values: This step removes commas, extracts only numeric values (including decimals), and retains the first extracted number. This ensures that the 'x_resolution' column contains only clean numerical data for further analysis."
      ]
    },
    {
      "cell_type": "code",
      "execution_count": 312,
      "metadata": {
        "colab": {
          "base_uri": "https://localhost:8080/",
          "height": 504
        },
        "id": "8VCfQvDY1opt",
        "outputId": "37bab4ad-c162-4e27-91dc-0519c44e68dc"
      },
      "outputs": [
        {
          "data": {
            "text/html": [
              "<div>\n",
              "<style scoped>\n",
              "    .dataframe tbody tr th:only-of-type {\n",
              "        vertical-align: middle;\n",
              "    }\n",
              "\n",
              "    .dataframe tbody tr th {\n",
              "        vertical-align: top;\n",
              "    }\n",
              "\n",
              "    .dataframe thead th {\n",
              "        text-align: right;\n",
              "    }\n",
              "</style>\n",
              "<table border=\"1\" class=\"dataframe\">\n",
              "  <thead>\n",
              "    <tr style=\"text-align: right;\">\n",
              "      <th></th>\n",
              "      <th>Company</th>\n",
              "      <th>TypeName</th>\n",
              "      <th>Inches</th>\n",
              "      <th>ScreenResolution</th>\n",
              "      <th>Cpu</th>\n",
              "      <th>Ram</th>\n",
              "      <th>Memory</th>\n",
              "      <th>Gpu</th>\n",
              "      <th>OpSys</th>\n",
              "      <th>Weight</th>\n",
              "      <th>Price</th>\n",
              "      <th>Touchscreen</th>\n",
              "      <th>IPS</th>\n",
              "      <th>x_Resolution</th>\n",
              "      <th>y_Resolution</th>\n",
              "    </tr>\n",
              "  </thead>\n",
              "  <tbody>\n",
              "    <tr>\n",
              "      <th>84</th>\n",
              "      <td>Acer</td>\n",
              "      <td>Notebook</td>\n",
              "      <td>15.6</td>\n",
              "      <td>1366x768</td>\n",
              "      <td>AMD A9-Series 9420 3GHz</td>\n",
              "      <td>4</td>\n",
              "      <td>1TB HDD</td>\n",
              "      <td>AMD Radeon R5</td>\n",
              "      <td>Windows 10</td>\n",
              "      <td>2.10</td>\n",
              "      <td>21045.60</td>\n",
              "      <td>0</td>\n",
              "      <td>0</td>\n",
              "      <td>1366</td>\n",
              "      <td>768</td>\n",
              "    </tr>\n",
              "    <tr>\n",
              "      <th>804</th>\n",
              "      <td>Dell</td>\n",
              "      <td>Netbook</td>\n",
              "      <td>11.6</td>\n",
              "      <td>1366x768</td>\n",
              "      <td>Intel Pentium Quad Core N4200 1.1GHz</td>\n",
              "      <td>4</td>\n",
              "      <td>128GB SSD</td>\n",
              "      <td>Intel HD Graphics 505</td>\n",
              "      <td>Windows 10</td>\n",
              "      <td>1.63</td>\n",
              "      <td>39640.32</td>\n",
              "      <td>0</td>\n",
              "      <td>0</td>\n",
              "      <td>1366</td>\n",
              "      <td>768</td>\n",
              "    </tr>\n",
              "    <tr>\n",
              "      <th>280</th>\n",
              "      <td>Lenovo</td>\n",
              "      <td>Notebook</td>\n",
              "      <td>17.3</td>\n",
              "      <td>1600x900</td>\n",
              "      <td>Intel Core i7 7500U 2.7GHz</td>\n",
              "      <td>6</td>\n",
              "      <td>128GB SSD +  1TB HDD</td>\n",
              "      <td>Nvidia GeForce 940MX</td>\n",
              "      <td>Windows 10</td>\n",
              "      <td>2.80</td>\n",
              "      <td>45767.52</td>\n",
              "      <td>0</td>\n",
              "      <td>0</td>\n",
              "      <td>1600</td>\n",
              "      <td>900</td>\n",
              "    </tr>\n",
              "    <tr>\n",
              "      <th>1012</th>\n",
              "      <td>HP</td>\n",
              "      <td>Notebook</td>\n",
              "      <td>14.0</td>\n",
              "      <td>Full HD 1920x1080</td>\n",
              "      <td>Intel Core i5 7200U 2.5GHz</td>\n",
              "      <td>4</td>\n",
              "      <td>256GB SSD</td>\n",
              "      <td>Intel HD Graphics 620</td>\n",
              "      <td>Windows 10</td>\n",
              "      <td>1.48</td>\n",
              "      <td>84715.20</td>\n",
              "      <td>0</td>\n",
              "      <td>0</td>\n",
              "      <td>1920</td>\n",
              "      <td>1080</td>\n",
              "    </tr>\n",
              "    <tr>\n",
              "      <th>99</th>\n",
              "      <td>HP</td>\n",
              "      <td>Gaming</td>\n",
              "      <td>15.6</td>\n",
              "      <td>IPS Panel Full HD 1920x1080</td>\n",
              "      <td>Intel Core i7 7700HQ 2.8GHz</td>\n",
              "      <td>12</td>\n",
              "      <td>128GB SSD +  1TB HDD</td>\n",
              "      <td>Nvidia GeForce GTX 1050</td>\n",
              "      <td>Windows 10</td>\n",
              "      <td>2.62</td>\n",
              "      <td>66546.72</td>\n",
              "      <td>0</td>\n",
              "      <td>0</td>\n",
              "      <td>1920</td>\n",
              "      <td>1080</td>\n",
              "    </tr>\n",
              "  </tbody>\n",
              "</table>\n",
              "</div>"
            ],
            "text/plain": [
              "     Company  TypeName  Inches             ScreenResolution  \\\n",
              "84      Acer  Notebook    15.6                     1366x768   \n",
              "804     Dell   Netbook    11.6                     1366x768   \n",
              "280   Lenovo  Notebook    17.3                     1600x900   \n",
              "1012      HP  Notebook    14.0            Full HD 1920x1080   \n",
              "99        HP    Gaming    15.6  IPS Panel Full HD 1920x1080   \n",
              "\n",
              "                                       Cpu  Ram                Memory  \\\n",
              "84                 AMD A9-Series 9420 3GHz    4               1TB HDD   \n",
              "804   Intel Pentium Quad Core N4200 1.1GHz    4             128GB SSD   \n",
              "280             Intel Core i7 7500U 2.7GHz    6  128GB SSD +  1TB HDD   \n",
              "1012            Intel Core i5 7200U 2.5GHz    4             256GB SSD   \n",
              "99             Intel Core i7 7700HQ 2.8GHz   12  128GB SSD +  1TB HDD   \n",
              "\n",
              "                          Gpu       OpSys  Weight     Price  Touchscreen  IPS  \\\n",
              "84              AMD Radeon R5  Windows 10    2.10  21045.60            0    0   \n",
              "804     Intel HD Graphics 505  Windows 10    1.63  39640.32            0    0   \n",
              "280      Nvidia GeForce 940MX  Windows 10    2.80  45767.52            0    0   \n",
              "1012    Intel HD Graphics 620  Windows 10    1.48  84715.20            0    0   \n",
              "99    Nvidia GeForce GTX 1050  Windows 10    2.62  66546.72            0    0   \n",
              "\n",
              "     x_Resolution y_Resolution  \n",
              "84           1366          768  \n",
              "804          1366          768  \n",
              "280          1600          900  \n",
              "1012         1920         1080  \n",
              "99           1920         1080  "
            ]
          },
          "execution_count": 312,
          "metadata": {},
          "output_type": "execute_result"
        }
      ],
      "source": [
        "df['x_Resolution']=df['x_Resolution'].str.replace(',',' ').str.findall(r'(\\d+\\.?\\d+)').apply(lambda x:x[0])\n",
        "df.sample(5)"
      ]
    },
    {
      "cell_type": "markdown",
      "metadata": {
        "id": "uPo-jcqm1opu"
      },
      "source": [
        "* Convert x_Resolution and y_Resolution columns to integer type:-\n",
        "This ensures that resolution values are treated as numerical data for analysis and Make sure there are no missing or non-numeric values before conversion"
      ]
    },
    {
      "cell_type": "code",
      "execution_count": 313,
      "metadata": {
        "colab": {
          "base_uri": "https://localhost:8080/"
        },
        "id": "DE1z8pok1opu",
        "outputId": "326f5c78-35bb-480a-ff67-565440e2a3fb"
      },
      "outputs": [
        {
          "name": "stdout",
          "output_type": "stream",
          "text": [
            "<class 'pandas.core.frame.DataFrame'>\n",
            "RangeIndex: 1303 entries, 0 to 1302\n",
            "Data columns (total 15 columns):\n",
            " #   Column            Non-Null Count  Dtype  \n",
            "---  ------            --------------  -----  \n",
            " 0   Company           1303 non-null   object \n",
            " 1   TypeName          1303 non-null   object \n",
            " 2   Inches            1303 non-null   float64\n",
            " 3   ScreenResolution  1303 non-null   object \n",
            " 4   Cpu               1303 non-null   object \n",
            " 5   Ram               1303 non-null   int32  \n",
            " 6   Memory            1303 non-null   object \n",
            " 7   Gpu               1303 non-null   object \n",
            " 8   OpSys             1303 non-null   object \n",
            " 9   Weight            1303 non-null   float32\n",
            " 10  Price             1303 non-null   float64\n",
            " 11  Touchscreen       1303 non-null   int64  \n",
            " 12  IPS               1303 non-null   int64  \n",
            " 13  x_Resolution      1303 non-null   int64  \n",
            " 14  y_Resolution      1303 non-null   int64  \n",
            "dtypes: float32(1), float64(2), int32(1), int64(4), object(7)\n",
            "memory usage: 142.6+ KB\n"
          ]
        }
      ],
      "source": [
        "df['x_Resolution'] = df['x_Resolution'].astype('int')\n",
        "df['y_Resolution'] = df['y_Resolution'].astype('int')\n",
        "df.info()\n"
      ]
    },
    {
      "cell_type": "markdown",
      "metadata": {
        "id": "tCd4Dq-e1oqF"
      },
      "source": [
        "* Calculating Correlation with Price\n",
        "This code calculates the correlation between the 'Price' column and all other numerical columns in the dataset. The result will help identify which features are strongly related to the price of the laptops. High positive or negative correlations can provide insights into the key factors affecting the price."
      ]
    },
    {
      "cell_type": "code",
      "execution_count": 314,
      "metadata": {
        "colab": {
          "base_uri": "https://localhost:8080/",
          "height": 335
        },
        "id": "lEHhlqy11oqF",
        "outputId": "84b3cc7a-0d18-49d7-dc8a-24dac7d25c2a"
      },
      "outputs": [
        {
          "data": {
            "text/plain": [
              "Inches          0.068197\n",
              "Ram             0.743007\n",
              "Weight          0.210370\n",
              "Price           1.000000\n",
              "Touchscreen     0.191226\n",
              "IPS             0.191226\n",
              "x_Resolution    0.556529\n",
              "y_Resolution    0.552809\n",
              "Name: Price, dtype: float64"
            ]
          },
          "execution_count": 314,
          "metadata": {},
          "output_type": "execute_result"
        }
      ],
      "source": [
        "# Calculate correlation of all numerical columns with the 'Price' column\n",
        "df.select_dtypes(include=['number']).corr()['Price']\n"
      ]
    },
    {
      "cell_type": "markdown",
      "metadata": {
        "id": "HHlQ-QN21oqG"
      },
      "source": [
        "* Calculating Pixels Per Inch (PPI):- The code calculates the Pixels Per Inch (PPI) for each laptop. PPI is a measurement of the pixel density of the screen and can give an idea of the screen's clarity and sharpness. It is computed using the resolution (x and y) and the diagonal size of the screen in inches. The formula used is:\n",
        "\n",
        "* ![alt text](image.png)"
      ]
    },
    {
      "cell_type": "code",
      "execution_count": 315,
      "metadata": {
        "colab": {
          "base_uri": "https://localhost:8080/"
        },
        "id": "kReEeHaf1oqG",
        "outputId": "97994d48-ff58-4b74-a865-24dcdfe371b6"
      },
      "outputs": [
        {
          "name": "stdout",
          "output_type": "stream",
          "text": [
            "<class 'pandas.core.frame.DataFrame'>\n",
            "RangeIndex: 1303 entries, 0 to 1302\n",
            "Data columns (total 16 columns):\n",
            " #   Column            Non-Null Count  Dtype  \n",
            "---  ------            --------------  -----  \n",
            " 0   Company           1303 non-null   object \n",
            " 1   TypeName          1303 non-null   object \n",
            " 2   Inches            1303 non-null   float64\n",
            " 3   ScreenResolution  1303 non-null   object \n",
            " 4   Cpu               1303 non-null   object \n",
            " 5   Ram               1303 non-null   int32  \n",
            " 6   Memory            1303 non-null   object \n",
            " 7   Gpu               1303 non-null   object \n",
            " 8   OpSys             1303 non-null   object \n",
            " 9   Weight            1303 non-null   float32\n",
            " 10  Price             1303 non-null   float64\n",
            " 11  Touchscreen       1303 non-null   int64  \n",
            " 12  IPS               1303 non-null   int64  \n",
            " 13  x_Resolution      1303 non-null   int64  \n",
            " 14  y_Resolution      1303 non-null   int64  \n",
            " 15  ppi               1303 non-null   float64\n",
            "dtypes: float32(1), float64(3), int32(1), int64(4), object(7)\n",
            "memory usage: 152.8+ KB\n"
          ]
        }
      ],
      "source": [
        "# Calculate Pixels Per Inch (PPI) based on screen resolution and size in inches\n",
        "df['ppi'] = ((df['x_Resolution']**2 + df['y_Resolution']**2)**0.5) / df['Inches'].astype('float')\n",
        "df.info()"
      ]
    },
    {
      "cell_type": "markdown",
      "metadata": {
        "id": "t7-fvIJ21oqH"
      },
      "source": [
        "* Analyzing Correlation of PPI with Price:-Based on the correlation matrix, PPI (Pixels Per Inch) shows a high correlation with Price. This suggests that laptops with higher pixel density (sharper displays) tend to have higher prices. The PPI value, which reflects the display quality, may be an important factor influencing the price of the laptop."
      ]
    },
    {
      "cell_type": "code",
      "execution_count": 316,
      "metadata": {
        "colab": {
          "base_uri": "https://localhost:8080/",
          "height": 366
        },
        "id": "msUFY_Ip1oqH",
        "outputId": "a3d209ba-5b0a-4583-adce-a5efa0cf0739"
      },
      "outputs": [
        {
          "data": {
            "text/plain": [
              "Inches          0.068197\n",
              "Ram             0.743007\n",
              "Weight          0.210370\n",
              "Price           1.000000\n",
              "Touchscreen     0.191226\n",
              "IPS             0.191226\n",
              "x_Resolution    0.556529\n",
              "y_Resolution    0.552809\n",
              "ppi             0.473487\n",
              "Name: Price, dtype: float64"
            ]
          },
          "execution_count": 316,
          "metadata": {},
          "output_type": "execute_result"
        }
      ],
      "source": [
        "df.select_dtypes(include=['number']).corr()['Price']"
      ]
    },
    {
      "cell_type": "markdown",
      "metadata": {
        "id": "UVnokLug1oqH"
      },
      "source": [
        "* Dropping Unnecessary Columns for Analysis:-\n",
        "In the previous steps, I created new features such as PPI (Pixels Per Inch) based on x_Resolution, y_Resolution, and Inches. The ScreenResolution column was used to extract these values but is now redundant as we have the necessary columns for display analysis (like PPI). Additionally, the x_Resolution, y_Resolution, and Inches columns are no longer needed for further analysis since PPI captures the important information related to the display. Dropping these columns helps streamline the dataset and avoid unnecessary complexity in future analysis."
      ]
    },
    {
      "cell_type": "code",
      "execution_count": 317,
      "metadata": {
        "colab": {
          "base_uri": "https://localhost:8080/",
          "height": 206
        },
        "id": "iJHBkPO11oqI",
        "outputId": "5e43b950-c20f-42d2-871a-0dcbf77c4c9d"
      },
      "outputs": [
        {
          "data": {
            "text/html": [
              "<div>\n",
              "<style scoped>\n",
              "    .dataframe tbody tr th:only-of-type {\n",
              "        vertical-align: middle;\n",
              "    }\n",
              "\n",
              "    .dataframe tbody tr th {\n",
              "        vertical-align: top;\n",
              "    }\n",
              "\n",
              "    .dataframe thead th {\n",
              "        text-align: right;\n",
              "    }\n",
              "</style>\n",
              "<table border=\"1\" class=\"dataframe\">\n",
              "  <thead>\n",
              "    <tr style=\"text-align: right;\">\n",
              "      <th></th>\n",
              "      <th>Company</th>\n",
              "      <th>TypeName</th>\n",
              "      <th>Cpu</th>\n",
              "      <th>Ram</th>\n",
              "      <th>Memory</th>\n",
              "      <th>Gpu</th>\n",
              "      <th>OpSys</th>\n",
              "      <th>Weight</th>\n",
              "      <th>Price</th>\n",
              "      <th>Touchscreen</th>\n",
              "      <th>IPS</th>\n",
              "      <th>ppi</th>\n",
              "    </tr>\n",
              "  </thead>\n",
              "  <tbody>\n",
              "    <tr>\n",
              "      <th>893</th>\n",
              "      <td>Lenovo</td>\n",
              "      <td>Ultrabook</td>\n",
              "      <td>Intel Core i5 7200U 2.5GHz</td>\n",
              "      <td>8</td>\n",
              "      <td>256GB SSD</td>\n",
              "      <td>Intel HD Graphics 620</td>\n",
              "      <td>Windows 10</td>\n",
              "      <td>1.32</td>\n",
              "      <td>95850.720</td>\n",
              "      <td>0</td>\n",
              "      <td>0</td>\n",
              "      <td>157.350512</td>\n",
              "    </tr>\n",
              "    <tr>\n",
              "      <th>435</th>\n",
              "      <td>Asus</td>\n",
              "      <td>Gaming</td>\n",
              "      <td>AMD Ryzen 1600 3.2GHz</td>\n",
              "      <td>8</td>\n",
              "      <td>256GB SSD +  1TB HDD</td>\n",
              "      <td>AMD Radeon RX 580</td>\n",
              "      <td>Windows 10</td>\n",
              "      <td>3.20</td>\n",
              "      <td>90309.600</td>\n",
              "      <td>0</td>\n",
              "      <td>0</td>\n",
              "      <td>127.335675</td>\n",
              "    </tr>\n",
              "    <tr>\n",
              "      <th>310</th>\n",
              "      <td>Lenovo</td>\n",
              "      <td>Notebook</td>\n",
              "      <td>Intel Core i5 7200U 2.5GHz</td>\n",
              "      <td>8</td>\n",
              "      <td>256GB SSD</td>\n",
              "      <td>Intel HD Graphics 620</td>\n",
              "      <td>Windows 10</td>\n",
              "      <td>1.10</td>\n",
              "      <td>53226.720</td>\n",
              "      <td>0</td>\n",
              "      <td>0</td>\n",
              "      <td>165.632118</td>\n",
              "    </tr>\n",
              "    <tr>\n",
              "      <th>1146</th>\n",
              "      <td>HP</td>\n",
              "      <td>Ultrabook</td>\n",
              "      <td>Intel Core i7 6500U 2.50GHz</td>\n",
              "      <td>8</td>\n",
              "      <td>256GB SSD</td>\n",
              "      <td>Intel HD Graphics 520</td>\n",
              "      <td>Windows 7</td>\n",
              "      <td>1.26</td>\n",
              "      <td>122381.496</td>\n",
              "      <td>0</td>\n",
              "      <td>0</td>\n",
              "      <td>176.232574</td>\n",
              "    </tr>\n",
              "    <tr>\n",
              "      <th>642</th>\n",
              "      <td>Lenovo</td>\n",
              "      <td>Ultrabook</td>\n",
              "      <td>Intel Core i7 7500U 2.7GHz</td>\n",
              "      <td>16</td>\n",
              "      <td>512GB SSD</td>\n",
              "      <td>Intel HD Graphics 620</td>\n",
              "      <td>Windows 10</td>\n",
              "      <td>1.14</td>\n",
              "      <td>130536.000</td>\n",
              "      <td>0</td>\n",
              "      <td>0</td>\n",
              "      <td>157.350512</td>\n",
              "    </tr>\n",
              "  </tbody>\n",
              "</table>\n",
              "</div>"
            ],
            "text/plain": [
              "     Company   TypeName                          Cpu  Ram  \\\n",
              "893   Lenovo  Ultrabook   Intel Core i5 7200U 2.5GHz    8   \n",
              "435     Asus     Gaming        AMD Ryzen 1600 3.2GHz    8   \n",
              "310   Lenovo   Notebook   Intel Core i5 7200U 2.5GHz    8   \n",
              "1146      HP  Ultrabook  Intel Core i7 6500U 2.50GHz    8   \n",
              "642   Lenovo  Ultrabook   Intel Core i7 7500U 2.7GHz   16   \n",
              "\n",
              "                    Memory                    Gpu       OpSys  Weight  \\\n",
              "893              256GB SSD  Intel HD Graphics 620  Windows 10    1.32   \n",
              "435   256GB SSD +  1TB HDD      AMD Radeon RX 580  Windows 10    3.20   \n",
              "310              256GB SSD  Intel HD Graphics 620  Windows 10    1.10   \n",
              "1146             256GB SSD  Intel HD Graphics 520   Windows 7    1.26   \n",
              "642              512GB SSD  Intel HD Graphics 620  Windows 10    1.14   \n",
              "\n",
              "           Price  Touchscreen  IPS         ppi  \n",
              "893    95850.720            0    0  157.350512  \n",
              "435    90309.600            0    0  127.335675  \n",
              "310    53226.720            0    0  165.632118  \n",
              "1146  122381.496            0    0  176.232574  \n",
              "642   130536.000            0    0  157.350512  "
            ]
          },
          "execution_count": 317,
          "metadata": {},
          "output_type": "execute_result"
        }
      ],
      "source": [
        "df.drop(columns=['Inches','x_Resolution','y_Resolution','ScreenResolution'],inplace=True)\n",
        "df.sample(5)"
      ]
    },
    {
      "cell_type": "markdown",
      "metadata": {
        "id": "P9YPEAOx1oqI"
      },
      "source": [
        "* Extracting CPU Brand and Model Category :- The 'Cpu' column contains detailed processor descriptions. To categorize CPUs into broader groups, we extract the first three words (e.g., 'Intel Core i7', 'AMD Ryzen 5').This helps in analyzing how different CPU models impact laptop pricing and performance."
      ]
    },
    {
      "cell_type": "code",
      "execution_count": 318,
      "metadata": {
        "colab": {
          "base_uri": "https://localhost:8080/",
          "height": 293
        },
        "id": "zIVu3CRO1oqI",
        "outputId": "998c8f01-3ec5-47e4-a5c6-11be3a5baaa0"
      },
      "outputs": [
        {
          "data": {
            "text/html": [
              "<div>\n",
              "<style scoped>\n",
              "    .dataframe tbody tr th:only-of-type {\n",
              "        vertical-align: middle;\n",
              "    }\n",
              "\n",
              "    .dataframe tbody tr th {\n",
              "        vertical-align: top;\n",
              "    }\n",
              "\n",
              "    .dataframe thead th {\n",
              "        text-align: right;\n",
              "    }\n",
              "</style>\n",
              "<table border=\"1\" class=\"dataframe\">\n",
              "  <thead>\n",
              "    <tr style=\"text-align: right;\">\n",
              "      <th></th>\n",
              "      <th>Company</th>\n",
              "      <th>TypeName</th>\n",
              "      <th>Cpu</th>\n",
              "      <th>Ram</th>\n",
              "      <th>Memory</th>\n",
              "      <th>Gpu</th>\n",
              "      <th>OpSys</th>\n",
              "      <th>Weight</th>\n",
              "      <th>Price</th>\n",
              "      <th>Touchscreen</th>\n",
              "      <th>IPS</th>\n",
              "      <th>ppi</th>\n",
              "      <th>CPU Name</th>\n",
              "    </tr>\n",
              "  </thead>\n",
              "  <tbody>\n",
              "    <tr>\n",
              "      <th>770</th>\n",
              "      <td>Dell</td>\n",
              "      <td>Notebook</td>\n",
              "      <td>Intel Core i7 7500U 2.7GHz</td>\n",
              "      <td>16</td>\n",
              "      <td>256GB SSD</td>\n",
              "      <td>AMD Radeon R7 M445</td>\n",
              "      <td>Windows 10</td>\n",
              "      <td>2.300</td>\n",
              "      <td>62938.0656</td>\n",
              "      <td>0</td>\n",
              "      <td>0</td>\n",
              "      <td>141.211998</td>\n",
              "      <td>Intel Core i7</td>\n",
              "    </tr>\n",
              "    <tr>\n",
              "      <th>670</th>\n",
              "      <td>Microsoft</td>\n",
              "      <td>Ultrabook</td>\n",
              "      <td>Intel Core i7 7600U 2.8GHz</td>\n",
              "      <td>8</td>\n",
              "      <td>256GB SSD</td>\n",
              "      <td>Intel Iris Plus Graphics 640</td>\n",
              "      <td>Windows 10 S</td>\n",
              "      <td>1.252</td>\n",
              "      <td>99519.0480</td>\n",
              "      <td>1</td>\n",
              "      <td>1</td>\n",
              "      <td>200.842560</td>\n",
              "      <td>Intel Core i7</td>\n",
              "    </tr>\n",
              "    <tr>\n",
              "      <th>608</th>\n",
              "      <td>Lenovo</td>\n",
              "      <td>2 in 1 Convertible</td>\n",
              "      <td>Intel Core i7 7700HQ 2.8GHz</td>\n",
              "      <td>8</td>\n",
              "      <td>256GB SSD</td>\n",
              "      <td>Intel HD Graphics 630</td>\n",
              "      <td>Windows 10</td>\n",
              "      <td>2.000</td>\n",
              "      <td>69210.7200</td>\n",
              "      <td>1</td>\n",
              "      <td>1</td>\n",
              "      <td>141.211998</td>\n",
              "      <td>Intel Core i7</td>\n",
              "    </tr>\n",
              "    <tr>\n",
              "      <th>952</th>\n",
              "      <td>Toshiba</td>\n",
              "      <td>Notebook</td>\n",
              "      <td>Intel Core i5 6200U 2.3GHz</td>\n",
              "      <td>8</td>\n",
              "      <td>256GB SSD</td>\n",
              "      <td>Intel HD Graphics 520</td>\n",
              "      <td>Windows 7</td>\n",
              "      <td>1.200</td>\n",
              "      <td>77788.8000</td>\n",
              "      <td>0</td>\n",
              "      <td>0</td>\n",
              "      <td>165.632118</td>\n",
              "      <td>Intel Core i5</td>\n",
              "    </tr>\n",
              "    <tr>\n",
              "      <th>161</th>\n",
              "      <td>Acer</td>\n",
              "      <td>Notebook</td>\n",
              "      <td>Intel Core i5 8250U 1.6GHz</td>\n",
              "      <td>4</td>\n",
              "      <td>256GB SSD</td>\n",
              "      <td>Nvidia GeForce MX150</td>\n",
              "      <td>Windows 10</td>\n",
              "      <td>3.000</td>\n",
              "      <td>42890.4000</td>\n",
              "      <td>0</td>\n",
              "      <td>0</td>\n",
              "      <td>127.335675</td>\n",
              "      <td>Intel Core i5</td>\n",
              "    </tr>\n",
              "  </tbody>\n",
              "</table>\n",
              "</div>"
            ],
            "text/plain": [
              "       Company            TypeName                          Cpu  Ram  \\\n",
              "770       Dell            Notebook   Intel Core i7 7500U 2.7GHz   16   \n",
              "670  Microsoft           Ultrabook   Intel Core i7 7600U 2.8GHz    8   \n",
              "608     Lenovo  2 in 1 Convertible  Intel Core i7 7700HQ 2.8GHz    8   \n",
              "952    Toshiba            Notebook   Intel Core i5 6200U 2.3GHz    8   \n",
              "161       Acer            Notebook   Intel Core i5 8250U 1.6GHz    4   \n",
              "\n",
              "        Memory                           Gpu         OpSys  Weight  \\\n",
              "770  256GB SSD            AMD Radeon R7 M445    Windows 10   2.300   \n",
              "670  256GB SSD  Intel Iris Plus Graphics 640  Windows 10 S   1.252   \n",
              "608  256GB SSD         Intel HD Graphics 630    Windows 10   2.000   \n",
              "952  256GB SSD         Intel HD Graphics 520     Windows 7   1.200   \n",
              "161  256GB SSD          Nvidia GeForce MX150    Windows 10   3.000   \n",
              "\n",
              "          Price  Touchscreen  IPS         ppi       CPU Name  \n",
              "770  62938.0656            0    0  141.211998  Intel Core i7  \n",
              "670  99519.0480            1    1  200.842560  Intel Core i7  \n",
              "608  69210.7200            1    1  141.211998  Intel Core i7  \n",
              "952  77788.8000            0    0  165.632118  Intel Core i5  \n",
              "161  42890.4000            0    0  127.335675  Intel Core i5  "
            ]
          },
          "execution_count": 318,
          "metadata": {},
          "output_type": "execute_result"
        }
      ],
      "source": [
        "df['CPU Name'] = df['Cpu'].apply(lambda x: ' '.join(x.split()[0:3]))\n",
        "df.sample(5)"
      ]
    },
    {
      "cell_type": "markdown",
      "metadata": {
        "id": "GWGkwERx1oqJ"
      },
      "source": [
        "* Extracting CPU Brand and Model Category :- The 'Cpu' column contains detailed processor descriptions. To categorize CPUs into broader groups, we extract the first three words (e.g., 'Intel Core i7', 'AMD Ryzen 5').\n",
        "This helps in analyzing how different CPU models impact laptop pricing and performance."
      ]
    },
    {
      "cell_type": "code",
      "execution_count": 319,
      "metadata": {
        "id": "8RsGdhov1oqJ"
      },
      "outputs": [],
      "source": [
        "def fetch_processor(text):\n",
        "    if text in ['Intel Core i3', 'Intel Core i5', 'Intel Core i7']:\n",
        "        return text\n",
        "    else:\n",
        "        if text.split()[0] == 'Intel':\n",
        "            return 'Other Intel Processor'\n",
        "        else:\n",
        "            return 'AMD Processor'"
      ]
    },
    {
      "cell_type": "markdown",
      "metadata": {
        "id": "b19hgbel1oqJ"
      },
      "source": [
        "* Extracting CPU Brand :- The 'CPU Name' column contains processor details, and using the fetch_processor function, we categorize each processor into a broader brand and model group. This allows us to group processors into 'Intel Core i3/i5/i7', 'Other Intel Processors', and 'AMD Processors,' simplifying the analysis of their impact on laptop pricing and performance."
      ]
    },
    {
      "cell_type": "code",
      "execution_count": 320,
      "metadata": {
        "colab": {
          "base_uri": "https://localhost:8080/",
          "height": 310
        },
        "id": "vjUnGl3u1oqK",
        "outputId": "0c0a8863-018a-4671-e95f-7d8c49986511"
      },
      "outputs": [
        {
          "data": {
            "text/html": [
              "<div>\n",
              "<style scoped>\n",
              "    .dataframe tbody tr th:only-of-type {\n",
              "        vertical-align: middle;\n",
              "    }\n",
              "\n",
              "    .dataframe tbody tr th {\n",
              "        vertical-align: top;\n",
              "    }\n",
              "\n",
              "    .dataframe thead th {\n",
              "        text-align: right;\n",
              "    }\n",
              "</style>\n",
              "<table border=\"1\" class=\"dataframe\">\n",
              "  <thead>\n",
              "    <tr style=\"text-align: right;\">\n",
              "      <th></th>\n",
              "      <th>Company</th>\n",
              "      <th>TypeName</th>\n",
              "      <th>Cpu</th>\n",
              "      <th>Ram</th>\n",
              "      <th>Memory</th>\n",
              "      <th>Gpu</th>\n",
              "      <th>OpSys</th>\n",
              "      <th>Weight</th>\n",
              "      <th>Price</th>\n",
              "      <th>Touchscreen</th>\n",
              "      <th>IPS</th>\n",
              "      <th>ppi</th>\n",
              "      <th>CPU Name</th>\n",
              "      <th>CPU Brand</th>\n",
              "    </tr>\n",
              "  </thead>\n",
              "  <tbody>\n",
              "    <tr>\n",
              "      <th>70</th>\n",
              "      <td>Microsoft</td>\n",
              "      <td>Ultrabook</td>\n",
              "      <td>Intel Core i5 7200U 2.5GHz</td>\n",
              "      <td>4</td>\n",
              "      <td>128GB SSD</td>\n",
              "      <td>Intel HD Graphics 620</td>\n",
              "      <td>Windows 10 S</td>\n",
              "      <td>1.252</td>\n",
              "      <td>58021.92</td>\n",
              "      <td>1</td>\n",
              "      <td>1</td>\n",
              "      <td>200.842560</td>\n",
              "      <td>Intel Core i5</td>\n",
              "      <td>Intel Core i5</td>\n",
              "    </tr>\n",
              "    <tr>\n",
              "      <th>266</th>\n",
              "      <td>Asus</td>\n",
              "      <td>2 in 1 Convertible</td>\n",
              "      <td>Intel Core i7 8550U 1.8GHz</td>\n",
              "      <td>8</td>\n",
              "      <td>512GB SSD +  512GB SSD</td>\n",
              "      <td>Intel UHD Graphics 620</td>\n",
              "      <td>Windows 10</td>\n",
              "      <td>1.100</td>\n",
              "      <td>79866.72</td>\n",
              "      <td>1</td>\n",
              "      <td>1</td>\n",
              "      <td>165.632118</td>\n",
              "      <td>Intel Core i7</td>\n",
              "      <td>Intel Core i7</td>\n",
              "    </tr>\n",
              "    <tr>\n",
              "      <th>286</th>\n",
              "      <td>Lenovo</td>\n",
              "      <td>Notebook</td>\n",
              "      <td>Intel Core i7 7500U 2.7GHz</td>\n",
              "      <td>8</td>\n",
              "      <td>256GB SSD</td>\n",
              "      <td>Intel HD Graphics 630</td>\n",
              "      <td>Windows 10</td>\n",
              "      <td>1.950</td>\n",
              "      <td>58448.16</td>\n",
              "      <td>0</td>\n",
              "      <td>0</td>\n",
              "      <td>141.211998</td>\n",
              "      <td>Intel Core i7</td>\n",
              "      <td>Intel Core i7</td>\n",
              "    </tr>\n",
              "    <tr>\n",
              "      <th>123</th>\n",
              "      <td>HP</td>\n",
              "      <td>Notebook</td>\n",
              "      <td>Intel Core i7 8550U 1.8GHz</td>\n",
              "      <td>16</td>\n",
              "      <td>512GB SSD</td>\n",
              "      <td>Nvidia GeForce 930MX</td>\n",
              "      <td>Windows 10</td>\n",
              "      <td>2.500</td>\n",
              "      <td>67718.88</td>\n",
              "      <td>0</td>\n",
              "      <td>0</td>\n",
              "      <td>127.335675</td>\n",
              "      <td>Intel Core i7</td>\n",
              "      <td>Intel Core i7</td>\n",
              "    </tr>\n",
              "    <tr>\n",
              "      <th>1124</th>\n",
              "      <td>Asus</td>\n",
              "      <td>Notebook</td>\n",
              "      <td>Intel Core i3 7100U 2.4GHz</td>\n",
              "      <td>4</td>\n",
              "      <td>1TB HDD</td>\n",
              "      <td>Intel HD Graphics 620</td>\n",
              "      <td>Windows 10</td>\n",
              "      <td>2.000</td>\n",
              "      <td>23176.80</td>\n",
              "      <td>0</td>\n",
              "      <td>0</td>\n",
              "      <td>100.454670</td>\n",
              "      <td>Intel Core i3</td>\n",
              "      <td>Intel Core i3</td>\n",
              "    </tr>\n",
              "  </tbody>\n",
              "</table>\n",
              "</div>"
            ],
            "text/plain": [
              "        Company            TypeName                         Cpu  Ram  \\\n",
              "70    Microsoft           Ultrabook  Intel Core i5 7200U 2.5GHz    4   \n",
              "266        Asus  2 in 1 Convertible  Intel Core i7 8550U 1.8GHz    8   \n",
              "286      Lenovo            Notebook  Intel Core i7 7500U 2.7GHz    8   \n",
              "123          HP            Notebook  Intel Core i7 8550U 1.8GHz   16   \n",
              "1124       Asus            Notebook  Intel Core i3 7100U 2.4GHz    4   \n",
              "\n",
              "                      Memory                     Gpu         OpSys  Weight  \\\n",
              "70                 128GB SSD   Intel HD Graphics 620  Windows 10 S   1.252   \n",
              "266   512GB SSD +  512GB SSD  Intel UHD Graphics 620    Windows 10   1.100   \n",
              "286                256GB SSD   Intel HD Graphics 630    Windows 10   1.950   \n",
              "123                512GB SSD   Nvidia GeForce 930MX     Windows 10   2.500   \n",
              "1124                 1TB HDD   Intel HD Graphics 620    Windows 10   2.000   \n",
              "\n",
              "         Price  Touchscreen  IPS         ppi       CPU Name      CPU Brand  \n",
              "70    58021.92            1    1  200.842560  Intel Core i5  Intel Core i5  \n",
              "266   79866.72            1    1  165.632118  Intel Core i7  Intel Core i7  \n",
              "286   58448.16            0    0  141.211998  Intel Core i7  Intel Core i7  \n",
              "123   67718.88            0    0  127.335675  Intel Core i7  Intel Core i7  \n",
              "1124  23176.80            0    0  100.454670  Intel Core i3  Intel Core i3  "
            ]
          },
          "execution_count": 320,
          "metadata": {},
          "output_type": "execute_result"
        }
      ],
      "source": [
        "df['CPU Brand'] = df ['CPU Name'].apply(fetch_processor)\n",
        "df.sample(5)"
      ]
    },
    {
      "cell_type": "markdown",
      "metadata": {
        "id": "JLCULroE1oqK"
      },
      "source": [
        "* A bar plot is used to visualize the distribution of different CPU brands in the dataset. This helps in understanding the prevalence of each processor type (Intel vs AMD)"
      ]
    },
    {
      "cell_type": "code",
      "execution_count": 321,
      "metadata": {
        "colab": {
          "base_uri": "https://localhost:8080/",
          "height": 603
        },
        "id": "4L-NdTEH1oqL",
        "outputId": "f6948a7f-f6bf-4b8b-a138-242f9a72f9ea"
      },
      "outputs": [
        {
          "data": {
            "image/png": "[encoded data removed]",
            "text/plain": [
              "<Figure size 640x480 with 1 Axes>"
            ]
          },
          "metadata": {},
          "output_type": "display_data"
        }
      ],
      "source": [
        "#Visualizing CPU Brand Distribution\n",
        "df['CPU Brand'].value_counts().plot(kind='bar', color=['lightblue', 'orange'])\n",
        "plt.xlabel('CPU Brand')\n",
        "plt.ylabel('Count')\n",
        "plt.title('Distribution of CPU Brands')\n",
        "plt.show()\n"
      ]
    },
    {
      "cell_type": "markdown",
      "metadata": {
        "id": "Wuj_IiRh1oqL"
      },
      "source": [
        "* Comparing Average Price of Laptops by CPU Model:- The bar plot is used to visualize the average laptop price for each CPU model. This helps in analyzing the relationship between CPU models and their impact on laptop pricing"
      ]
    },
    {
      "cell_type": "code",
      "execution_count": 322,
      "metadata": {
        "colab": {
          "base_uri": "https://localhost:8080/",
          "height": 677
        },
        "id": "ftyyF3uO1oqM",
        "outputId": "94d4237f-78b2-4fa9-82bd-effe206bb6b3"
      },
      "outputs": [
        {
          "name": "stderr",
          "output_type": "stream",
          "text": [
            "C:\\Users\\User\\AppData\\Local\\Temp\\ipykernel_6876\\1264805113.py:1: FutureWarning: \n",
            "\n",
            "Passing `palette` without assigning `hue` is deprecated and will be removed in v0.14.0. Assign the `x` variable to `hue` and set `legend=False` for the same effect.\n",
            "\n",
            "  sns.barplot(x=df['CPU Brand'], y=df['Price'], palette='Set2')  # 'Set2' is a predefined color palette in seaborn\n"
          ]
        },
        {
          "data": {
            "image/png": "[encoded data removed]",
            "text/plain": [
              "<Figure size 640x480 with 1 Axes>"
            ]
          },
          "metadata": {},
          "output_type": "display_data"
        }
      ],
      "source": [
        "sns.barplot(x=df['CPU Brand'], y=df['Price'], palette='Set2')  # 'Set2' is a predefined color palette in seaborn\n",
        "\n",
        "plt.xlabel('CPU Brand')\n",
        "plt.ylabel('Average Price')\n",
        "plt.title('Average Price of Laptops by CPU Brand')\n",
        "plt.xticks(rotation=45)\n",
        "plt.show()\n"
      ]
    },
    {
      "cell_type": "markdown",
      "metadata": {
        "id": "Qoc9Vjba1oqN"
      },
      "source": [
        "*  Removing unnecessary columns ('Cpu' and 'Cpu Name') after categorizing the processor data into 'CPU Brand'. This helps streamline the dataset and focus on the relevant features for further analysis"
      ]
    },
    {
      "cell_type": "code",
      "execution_count": 323,
      "metadata": {
        "colab": {
          "base_uri": "https://localhost:8080/",
          "height": 276
        },
        "id": "aKnDXgmV1oqO",
        "outputId": "d635ad10-f701-432f-8431-b6d27616a5db"
      },
      "outputs": [
        {
          "data": {
            "text/html": [
              "<div>\n",
              "<style scoped>\n",
              "    .dataframe tbody tr th:only-of-type {\n",
              "        vertical-align: middle;\n",
              "    }\n",
              "\n",
              "    .dataframe tbody tr th {\n",
              "        vertical-align: top;\n",
              "    }\n",
              "\n",
              "    .dataframe thead th {\n",
              "        text-align: right;\n",
              "    }\n",
              "</style>\n",
              "<table border=\"1\" class=\"dataframe\">\n",
              "  <thead>\n",
              "    <tr style=\"text-align: right;\">\n",
              "      <th></th>\n",
              "      <th>Company</th>\n",
              "      <th>TypeName</th>\n",
              "      <th>Ram</th>\n",
              "      <th>Memory</th>\n",
              "      <th>Gpu</th>\n",
              "      <th>OpSys</th>\n",
              "      <th>Weight</th>\n",
              "      <th>Price</th>\n",
              "      <th>Touchscreen</th>\n",
              "      <th>IPS</th>\n",
              "      <th>ppi</th>\n",
              "      <th>CPU Brand</th>\n",
              "    </tr>\n",
              "  </thead>\n",
              "  <tbody>\n",
              "    <tr>\n",
              "      <th>819</th>\n",
              "      <td>Dell</td>\n",
              "      <td>Notebook</td>\n",
              "      <td>4</td>\n",
              "      <td>500GB HDD</td>\n",
              "      <td>Intel HD Graphics 520</td>\n",
              "      <td>Windows 10</td>\n",
              "      <td>1.76</td>\n",
              "      <td>40226.4000</td>\n",
              "      <td>0</td>\n",
              "      <td>0</td>\n",
              "      <td>111.935204</td>\n",
              "      <td>Intel Core i5</td>\n",
              "    </tr>\n",
              "    <tr>\n",
              "      <th>310</th>\n",
              "      <td>Lenovo</td>\n",
              "      <td>Notebook</td>\n",
              "      <td>8</td>\n",
              "      <td>256GB SSD</td>\n",
              "      <td>Intel HD Graphics 620</td>\n",
              "      <td>Windows 10</td>\n",
              "      <td>1.10</td>\n",
              "      <td>53226.7200</td>\n",
              "      <td>0</td>\n",
              "      <td>0</td>\n",
              "      <td>165.632118</td>\n",
              "      <td>Intel Core i5</td>\n",
              "    </tr>\n",
              "    <tr>\n",
              "      <th>61</th>\n",
              "      <td>Dell</td>\n",
              "      <td>Ultrabook</td>\n",
              "      <td>8</td>\n",
              "      <td>256GB SSD</td>\n",
              "      <td>Intel UHD Graphics 620</td>\n",
              "      <td>Windows 10</td>\n",
              "      <td>1.70</td>\n",
              "      <td>46833.1200</td>\n",
              "      <td>0</td>\n",
              "      <td>0</td>\n",
              "      <td>157.350512</td>\n",
              "      <td>Intel Core i5</td>\n",
              "    </tr>\n",
              "    <tr>\n",
              "      <th>818</th>\n",
              "      <td>Dell</td>\n",
              "      <td>Gaming</td>\n",
              "      <td>16</td>\n",
              "      <td>128GB SSD +  1TB HDD</td>\n",
              "      <td>Nvidia GeForce GTX 1060</td>\n",
              "      <td>Windows 10</td>\n",
              "      <td>4.36</td>\n",
              "      <td>133467.4656</td>\n",
              "      <td>0</td>\n",
              "      <td>0</td>\n",
              "      <td>127.335675</td>\n",
              "      <td>Intel Core i7</td>\n",
              "    </tr>\n",
              "    <tr>\n",
              "      <th>760</th>\n",
              "      <td>Lenovo</td>\n",
              "      <td>Gaming</td>\n",
              "      <td>8</td>\n",
              "      <td>128GB SSD +  1TB HDD</td>\n",
              "      <td>Nvidia GeForce GTX 1050</td>\n",
              "      <td>Windows 10</td>\n",
              "      <td>2.50</td>\n",
              "      <td>55837.4400</td>\n",
              "      <td>0</td>\n",
              "      <td>0</td>\n",
              "      <td>141.211998</td>\n",
              "      <td>Intel Core i7</td>\n",
              "    </tr>\n",
              "  </tbody>\n",
              "</table>\n",
              "</div>"
            ],
            "text/plain": [
              "    Company   TypeName  Ram                Memory                      Gpu  \\\n",
              "819    Dell   Notebook    4             500GB HDD    Intel HD Graphics 520   \n",
              "310  Lenovo   Notebook    8             256GB SSD    Intel HD Graphics 620   \n",
              "61     Dell  Ultrabook    8             256GB SSD   Intel UHD Graphics 620   \n",
              "818    Dell     Gaming   16  128GB SSD +  1TB HDD  Nvidia GeForce GTX 1060   \n",
              "760  Lenovo     Gaming    8  128GB SSD +  1TB HDD  Nvidia GeForce GTX 1050   \n",
              "\n",
              "          OpSys  Weight        Price  Touchscreen  IPS         ppi  \\\n",
              "819  Windows 10    1.76   40226.4000            0    0  111.935204   \n",
              "310  Windows 10    1.10   53226.7200            0    0  165.632118   \n",
              "61   Windows 10    1.70   46833.1200            0    0  157.350512   \n",
              "818  Windows 10    4.36  133467.4656            0    0  127.335675   \n",
              "760  Windows 10    2.50   55837.4400            0    0  141.211998   \n",
              "\n",
              "         CPU Brand  \n",
              "819  Intel Core i5  \n",
              "310  Intel Core i5  \n",
              "61   Intel Core i5  \n",
              "818  Intel Core i7  \n",
              "760  Intel Core i7  "
            ]
          },
          "execution_count": 323,
          "metadata": {},
          "output_type": "execute_result"
        }
      ],
      "source": [
        "# Dropping 'Cpu' and 'CPU Name' columns as they are no longer needed for analysis\n",
        "df.drop(columns=['Cpu', 'CPU Name','CPU Name'], inplace=True)\n",
        "df.sample(5)"
      ]
    },
    {
      "cell_type": "markdown",
      "metadata": {
        "id": "4nqJqXao1oqO"
      },
      "source": [
        "* Bar plot to visualize the distribution of RAM sizes across the dataset\n"
      ]
    },
    {
      "cell_type": "code",
      "execution_count": 324,
      "metadata": {
        "colab": {
          "base_uri": "https://localhost:8080/",
          "height": 475
        },
        "id": "hdRywtGE1oqP",
        "outputId": "a737efaf-acfa-4a6f-97fb-a2ad3f66e121"
      },
      "outputs": [
        {
          "data": {
            "image/png": "[encoded data removed]",
            "text/plain": [
              "<Figure size 640x480 with 1 Axes>"
            ]
          },
          "metadata": {},
          "output_type": "display_data"
        }
      ],
      "source": [
        "df['Ram'].value_counts().plot(kind='bar')\n",
        "plt.xlabel('RAM Size')\n",
        "plt.ylabel('Count')\n",
        "plt.title('Distribution of RAM Sizes')\n",
        "plt.show()\n"
      ]
    },
    {
      "cell_type": "markdown",
      "metadata": {
        "id": "LXuWGrjY1oqP"
      },
      "source": [
        "* Bar plot to compare average price of laptops with different RAM sizes"
      ]
    },
    {
      "cell_type": "code",
      "execution_count": 325,
      "metadata": {
        "colab": {
          "base_uri": "https://localhost:8080/",
          "height": 582
        },
        "id": "Tdykxk-_1oqQ",
        "outputId": "e1f553e5-b35c-475c-fc18-928539153f46"
      },
      "outputs": [
        {
          "name": "stderr",
          "output_type": "stream",
          "text": [
            "C:\\Users\\User\\AppData\\Local\\Temp\\ipykernel_6876\\3967477198.py:1: FutureWarning: \n",
            "\n",
            "Passing `palette` without assigning `hue` is deprecated and will be removed in v0.14.0. Assign the `x` variable to `hue` and set `legend=False` for the same effect.\n",
            "\n",
            "  sns.barplot(x=df['Ram'], y=df['Price'], palette='Set2')\n"
          ]
        },
        {
          "data": {
            "image/png": "[encoded data removed]",
            "text/plain": [
              "<Figure size 640x480 with 1 Axes>"
            ]
          },
          "metadata": {},
          "output_type": "display_data"
        }
      ],
      "source": [
        "sns.barplot(x=df['Ram'], y=df['Price'], palette='Set2')\n",
        "plt.xlabel('Ram')\n",
        "plt.ylabel('Average Price')\n",
        "plt.title('Average Price of Laptops by Ram')\n",
        "plt.xticks(rotation='vertical')\n",
        "plt.show()"
      ]
    },
    {
      "cell_type": "markdown",
      "metadata": {
        "id": "OMAd8tWe1oqQ"
      },
      "source": [
        "The bar plot shows a linear relationship between RAM size and laptop price—as RAM increases, the average price also increases. This indicates that laptops with higher RAM tend to be more expensiv"
      ]
    },
    {
      "cell_type": "code",
      "execution_count": 326,
      "metadata": {
        "colab": {
          "base_uri": "https://localhost:8080/",
          "height": 1000
        },
        "id": "lHSmKKWO1oqR",
        "outputId": "9a6fdf97-06c6-46c6-e451-cc1615d1ee07"
      },
      "outputs": [
        {
          "data": {
            "text/plain": [
              "Memory\n",
              "256GB SSD                        412\n",
              "1TB HDD                          223\n",
              "500GB HDD                        132\n",
              "512GB SSD                        118\n",
              "128GB SSD +  1TB HDD              94\n",
              "128GB SSD                         76\n",
              "256GB SSD +  1TB HDD              73\n",
              "32GB Flash Storage                38\n",
              "2TB HDD                           16\n",
              "64GB Flash Storage                15\n",
              "1TB SSD                           14\n",
              "512GB SSD +  1TB HDD              14\n",
              "256GB SSD +  2TB HDD              10\n",
              "1.0TB Hybrid                       9\n",
              "256GB Flash Storage                8\n",
              "16GB Flash Storage                 7\n",
              "32GB SSD                           6\n",
              "180GB SSD                          5\n",
              "128GB Flash Storage                4\n",
              "16GB SSD                           3\n",
              "512GB SSD +  2TB HDD               3\n",
              "128GB SSD +  2TB HDD               2\n",
              "256GB SSD +  256GB SSD             2\n",
              "512GB Flash Storage                2\n",
              "1TB SSD +  1TB HDD                 2\n",
              "256GB SSD +  500GB HDD             2\n",
              "64GB SSD                           1\n",
              "512GB SSD +  512GB SSD             1\n",
              "64GB Flash Storage +  1TB HDD      1\n",
              "1TB HDD +  1TB HDD                 1\n",
              "512GB SSD +  256GB SSD             1\n",
              "32GB HDD                           1\n",
              "128GB HDD                          1\n",
              "240GB SSD                          1\n",
              "8GB SSD                            1\n",
              "508GB Hybrid                       1\n",
              "1.0TB HDD                          1\n",
              "512GB SSD +  1.0TB Hybrid          1\n",
              "256GB SSD +  1.0TB Hybrid          1\n",
              "Name: count, dtype: int64"
            ]
          },
          "execution_count": 326,
          "metadata": {},
          "output_type": "execute_result"
        }
      ],
      "source": [
        "df['Memory'].value_counts()"
      ]
    },
    {
      "cell_type": "markdown",
      "metadata": {
        "id": "YkIH7GBd1oqR"
      },
      "source": [
        "##### Extracting and Transforming Storage Information from 'Memory' Column\n",
        "* The goal is to extract specific storage types (HDD, SSD, Hybrid, and Flash Storage)\n",
        " from the 'Memory' column and convert their sizes into a consistent unit (GB).\n",
        " The 'Memory' column contains storage information in formats like:\n",
        "- \"1TB HDD + 256GB SSD\"\n",
        "- \"512GB SSD\"\n",
        "- \"2TB Hybrid + 128GB SSD\"\n",
        "- \"128GB Flash Storage"
      ]
    },
    {
      "cell_type": "code",
      "execution_count": 327,
      "metadata": {
        "colab": {
          "base_uri": "https://localhost:8080/",
          "height": 310
        },
        "id": "rqHINdZR1oqS",
        "outputId": "ee0cc677-f185-4de4-ff73-de4b8580ae45"
      },
      "outputs": [
        {
          "data": {
            "text/html": [
              "<div>\n",
              "<style scoped>\n",
              "    .dataframe tbody tr th:only-of-type {\n",
              "        vertical-align: middle;\n",
              "    }\n",
              "\n",
              "    .dataframe tbody tr th {\n",
              "        vertical-align: top;\n",
              "    }\n",
              "\n",
              "    .dataframe thead th {\n",
              "        text-align: right;\n",
              "    }\n",
              "</style>\n",
              "<table border=\"1\" class=\"dataframe\">\n",
              "  <thead>\n",
              "    <tr style=\"text-align: right;\">\n",
              "      <th></th>\n",
              "      <th>Company</th>\n",
              "      <th>TypeName</th>\n",
              "      <th>Ram</th>\n",
              "      <th>Memory</th>\n",
              "      <th>Gpu</th>\n",
              "      <th>OpSys</th>\n",
              "      <th>Weight</th>\n",
              "      <th>Price</th>\n",
              "      <th>Touchscreen</th>\n",
              "      <th>IPS</th>\n",
              "      <th>ppi</th>\n",
              "      <th>CPU Brand</th>\n",
              "      <th>HDD</th>\n",
              "      <th>SSD</th>\n",
              "      <th>Hybrid</th>\n",
              "      <th>Flash_Storage</th>\n",
              "    </tr>\n",
              "  </thead>\n",
              "  <tbody>\n",
              "    <tr>\n",
              "      <th>3</th>\n",
              "      <td>Apple</td>\n",
              "      <td>Ultrabook</td>\n",
              "      <td>16</td>\n",
              "      <td>512GB SSD</td>\n",
              "      <td>AMD Radeon Pro 455</td>\n",
              "      <td>macOS</td>\n",
              "      <td>1.83</td>\n",
              "      <td>135195.336</td>\n",
              "      <td>0</td>\n",
              "      <td>0</td>\n",
              "      <td>220.534624</td>\n",
              "      <td>Intel Core i7</td>\n",
              "      <td>0</td>\n",
              "      <td>512</td>\n",
              "      <td>0</td>\n",
              "      <td>0</td>\n",
              "    </tr>\n",
              "    <tr>\n",
              "      <th>870</th>\n",
              "      <td>Lenovo</td>\n",
              "      <td>Notebook</td>\n",
              "      <td>4</td>\n",
              "      <td>500GB HDD</td>\n",
              "      <td>Intel HD Graphics 620</td>\n",
              "      <td>Windows 10</td>\n",
              "      <td>2.38</td>\n",
              "      <td>56210.400</td>\n",
              "      <td>0</td>\n",
              "      <td>0</td>\n",
              "      <td>100.454670</td>\n",
              "      <td>Intel Core i5</td>\n",
              "      <td>500</td>\n",
              "      <td>0</td>\n",
              "      <td>0</td>\n",
              "      <td>0</td>\n",
              "    </tr>\n",
              "    <tr>\n",
              "      <th>1122</th>\n",
              "      <td>HP</td>\n",
              "      <td>Notebook</td>\n",
              "      <td>8</td>\n",
              "      <td>256GB SSD</td>\n",
              "      <td>Intel HD Graphics 520</td>\n",
              "      <td>Windows 7</td>\n",
              "      <td>1.43</td>\n",
              "      <td>80612.640</td>\n",
              "      <td>0</td>\n",
              "      <td>0</td>\n",
              "      <td>157.350512</td>\n",
              "      <td>Intel Core i5</td>\n",
              "      <td>0</td>\n",
              "      <td>256</td>\n",
              "      <td>0</td>\n",
              "      <td>0</td>\n",
              "    </tr>\n",
              "    <tr>\n",
              "      <th>778</th>\n",
              "      <td>Razer</td>\n",
              "      <td>Gaming</td>\n",
              "      <td>16</td>\n",
              "      <td>512GB SSD</td>\n",
              "      <td>Nvidia GeForce GTX 1060</td>\n",
              "      <td>Windows 10</td>\n",
              "      <td>1.95</td>\n",
              "      <td>154458.720</td>\n",
              "      <td>0</td>\n",
              "      <td>0</td>\n",
              "      <td>157.350512</td>\n",
              "      <td>Intel Core i7</td>\n",
              "      <td>0</td>\n",
              "      <td>512</td>\n",
              "      <td>0</td>\n",
              "      <td>0</td>\n",
              "    </tr>\n",
              "    <tr>\n",
              "      <th>900</th>\n",
              "      <td>Dell</td>\n",
              "      <td>2 in 1 Convertible</td>\n",
              "      <td>8</td>\n",
              "      <td>512GB SSD</td>\n",
              "      <td>Intel HD Graphics 615</td>\n",
              "      <td>Windows 10</td>\n",
              "      <td>1.24</td>\n",
              "      <td>107257.968</td>\n",
              "      <td>1</td>\n",
              "      <td>1</td>\n",
              "      <td>276.053530</td>\n",
              "      <td>Intel Core i7</td>\n",
              "      <td>0</td>\n",
              "      <td>512</td>\n",
              "      <td>0</td>\n",
              "      <td>0</td>\n",
              "    </tr>\n",
              "  </tbody>\n",
              "</table>\n",
              "</div>"
            ],
            "text/plain": [
              "     Company            TypeName  Ram     Memory                      Gpu  \\\n",
              "3      Apple           Ultrabook   16  512GB SSD       AMD Radeon Pro 455   \n",
              "870   Lenovo            Notebook    4  500GB HDD    Intel HD Graphics 620   \n",
              "1122      HP            Notebook    8  256GB SSD    Intel HD Graphics 520   \n",
              "778    Razer              Gaming   16  512GB SSD  Nvidia GeForce GTX 1060   \n",
              "900     Dell  2 in 1 Convertible    8  512GB SSD    Intel HD Graphics 615   \n",
              "\n",
              "           OpSys  Weight       Price  Touchscreen  IPS         ppi  \\\n",
              "3          macOS    1.83  135195.336            0    0  220.534624   \n",
              "870   Windows 10    2.38   56210.400            0    0  100.454670   \n",
              "1122   Windows 7    1.43   80612.640            0    0  157.350512   \n",
              "778   Windows 10    1.95  154458.720            0    0  157.350512   \n",
              "900   Windows 10    1.24  107257.968            1    1  276.053530   \n",
              "\n",
              "          CPU Brand  HDD  SSD  Hybrid  Flash_Storage  \n",
              "3     Intel Core i7    0  512       0              0  \n",
              "870   Intel Core i5  500    0       0              0  \n",
              "1122  Intel Core i5    0  256       0              0  \n",
              "778   Intel Core i7    0  512       0              0  \n",
              "900   Intel Core i7    0  512       0              0  "
            ]
          },
          "execution_count": 327,
          "metadata": {},
          "output_type": "execute_result"
        }
      ],
      "source": [
        "df['HDD'] = df['Memory'].apply(lambda x: sum(\n",
        "    int(float(s.split()[0].replace('TB', '')) * 1000) if 'TB' in s else int(s.split()[0].replace('GB', ''))\n",
        "    for s in x.split('+') if 'HDD' in s\n",
        "))\n",
        "\n",
        "df['SSD'] = df['Memory'].apply(lambda x: sum(\n",
        "    int(float(s.split()[0].replace('TB', '')) * 1000) if 'TB' in s else int(s.split()[0].replace('GB', ''))\n",
        "    for s in x.split('+') if 'SSD' in s\n",
        "))\n",
        "\n",
        "df['Hybrid'] = df['Memory'].apply(lambda x: sum(\n",
        "    int(float(s.split()[0].replace('TB', '')) * 1000) if 'TB' in s else int(s.split()[0].replace('GB', ''))\n",
        "    for s in x.split('+') if 'Hybrid' in s\n",
        "))\n",
        "\n",
        "df['Flash_Storage'] = df['Memory'].apply(lambda x: sum(\n",
        "    int(float(s.split()[0].replace('TB', '')) * 1000) if 'TB' in s else int(s.split()[0].replace('GB', ''))\n",
        "    for s in x.split('+') if 'Flash Storage' in s\n",
        "))\n",
        "\n",
        "df.sample(5)  # Displaying sample output\n",
        "\n"
      ]
    },
    {
      "cell_type": "markdown",
      "metadata": {
        "id": "Nuqd4KhB1oqS"
      },
      "source": [
        "* Dropping the 'Memory' Column After Feature Extraction:- The 'Memory' column originally contained mixed storage types (HDD, SSD, Hybrid, Flash Storage) in an unstructured format. After extracting individual storage components into separate columns (HDD, SSD, Hybrid, Flash_Storage), the original 'Memory' column becomes redundant."
      ]
    },
    {
      "cell_type": "code",
      "execution_count": 328,
      "metadata": {
        "colab": {
          "base_uri": "https://localhost:8080/",
          "height": 293
        },
        "id": "KzHf6zIi1oqT",
        "outputId": "22a29cd8-9883-4636-b0c7-208b8de0c427"
      },
      "outputs": [
        {
          "data": {
            "text/html": [
              "<div>\n",
              "<style scoped>\n",
              "    .dataframe tbody tr th:only-of-type {\n",
              "        vertical-align: middle;\n",
              "    }\n",
              "\n",
              "    .dataframe tbody tr th {\n",
              "        vertical-align: top;\n",
              "    }\n",
              "\n",
              "    .dataframe thead th {\n",
              "        text-align: right;\n",
              "    }\n",
              "</style>\n",
              "<table border=\"1\" class=\"dataframe\">\n",
              "  <thead>\n",
              "    <tr style=\"text-align: right;\">\n",
              "      <th></th>\n",
              "      <th>Company</th>\n",
              "      <th>TypeName</th>\n",
              "      <th>Ram</th>\n",
              "      <th>Gpu</th>\n",
              "      <th>OpSys</th>\n",
              "      <th>Weight</th>\n",
              "      <th>Price</th>\n",
              "      <th>Touchscreen</th>\n",
              "      <th>IPS</th>\n",
              "      <th>ppi</th>\n",
              "      <th>CPU Brand</th>\n",
              "      <th>HDD</th>\n",
              "      <th>SSD</th>\n",
              "      <th>Hybrid</th>\n",
              "      <th>Flash_Storage</th>\n",
              "    </tr>\n",
              "  </thead>\n",
              "  <tbody>\n",
              "    <tr>\n",
              "      <th>1103</th>\n",
              "      <td>HP</td>\n",
              "      <td>Workstation</td>\n",
              "      <td>8</td>\n",
              "      <td>AMD FirePro W6150M</td>\n",
              "      <td>Windows 7</td>\n",
              "      <td>3.00</td>\n",
              "      <td>154458.72</td>\n",
              "      <td>0</td>\n",
              "      <td>0</td>\n",
              "      <td>127.335675</td>\n",
              "      <td>Intel Core i7</td>\n",
              "      <td>1000</td>\n",
              "      <td>0</td>\n",
              "      <td>0</td>\n",
              "      <td>0</td>\n",
              "    </tr>\n",
              "    <tr>\n",
              "      <th>162</th>\n",
              "      <td>Dell</td>\n",
              "      <td>Notebook</td>\n",
              "      <td>8</td>\n",
              "      <td>AMD Radeon 520</td>\n",
              "      <td>Windows 10</td>\n",
              "      <td>2.13</td>\n",
              "      <td>38787.84</td>\n",
              "      <td>0</td>\n",
              "      <td>0</td>\n",
              "      <td>141.211998</td>\n",
              "      <td>Intel Core i5</td>\n",
              "      <td>0</td>\n",
              "      <td>256</td>\n",
              "      <td>0</td>\n",
              "      <td>0</td>\n",
              "    </tr>\n",
              "    <tr>\n",
              "      <th>101</th>\n",
              "      <td>HP</td>\n",
              "      <td>Notebook</td>\n",
              "      <td>4</td>\n",
              "      <td>AMD Radeon R2</td>\n",
              "      <td>Windows 10</td>\n",
              "      <td>2.10</td>\n",
              "      <td>18594.72</td>\n",
              "      <td>0</td>\n",
              "      <td>0</td>\n",
              "      <td>141.211998</td>\n",
              "      <td>AMD Processor</td>\n",
              "      <td>500</td>\n",
              "      <td>0</td>\n",
              "      <td>0</td>\n",
              "      <td>0</td>\n",
              "    </tr>\n",
              "    <tr>\n",
              "      <th>590</th>\n",
              "      <td>Asus</td>\n",
              "      <td>2 in 1 Convertible</td>\n",
              "      <td>8</td>\n",
              "      <td>Intel HD Graphics 520</td>\n",
              "      <td>Windows 10</td>\n",
              "      <td>2.20</td>\n",
              "      <td>39373.92</td>\n",
              "      <td>1</td>\n",
              "      <td>1</td>\n",
              "      <td>100.454670</td>\n",
              "      <td>Intel Core i5</td>\n",
              "      <td>1000</td>\n",
              "      <td>0</td>\n",
              "      <td>0</td>\n",
              "      <td>0</td>\n",
              "    </tr>\n",
              "    <tr>\n",
              "      <th>787</th>\n",
              "      <td>Lenovo</td>\n",
              "      <td>Gaming</td>\n",
              "      <td>4</td>\n",
              "      <td>Nvidia GeForce GTX 1050</td>\n",
              "      <td>Windows 10</td>\n",
              "      <td>2.40</td>\n",
              "      <td>53226.72</td>\n",
              "      <td>0</td>\n",
              "      <td>0</td>\n",
              "      <td>141.211998</td>\n",
              "      <td>Intel Core i7</td>\n",
              "      <td>1000</td>\n",
              "      <td>0</td>\n",
              "      <td>0</td>\n",
              "      <td>0</td>\n",
              "    </tr>\n",
              "  </tbody>\n",
              "</table>\n",
              "</div>"
            ],
            "text/plain": [
              "     Company            TypeName  Ram                      Gpu       OpSys  \\\n",
              "1103      HP         Workstation    8       AMD FirePro W6150M   Windows 7   \n",
              "162     Dell            Notebook    8           AMD Radeon 520  Windows 10   \n",
              "101       HP            Notebook    4            AMD Radeon R2  Windows 10   \n",
              "590     Asus  2 in 1 Convertible    8    Intel HD Graphics 520  Windows 10   \n",
              "787   Lenovo              Gaming    4  Nvidia GeForce GTX 1050  Windows 10   \n",
              "\n",
              "      Weight      Price  Touchscreen  IPS         ppi      CPU Brand   HDD  \\\n",
              "1103    3.00  154458.72            0    0  127.335675  Intel Core i7  1000   \n",
              "162     2.13   38787.84            0    0  141.211998  Intel Core i5     0   \n",
              "101     2.10   18594.72            0    0  141.211998  AMD Processor   500   \n",
              "590     2.20   39373.92            1    1  100.454670  Intel Core i5  1000   \n",
              "787     2.40   53226.72            0    0  141.211998  Intel Core i7  1000   \n",
              "\n",
              "      SSD  Hybrid  Flash_Storage  \n",
              "1103    0       0              0  \n",
              "162   256       0              0  \n",
              "101     0       0              0  \n",
              "590     0       0              0  \n",
              "787     0       0              0  "
            ]
          },
          "execution_count": 328,
          "metadata": {},
          "output_type": "execute_result"
        }
      ],
      "source": [
        "df.drop(columns=['Memory'],inplace=True)\n",
        "df.sample(5)"
      ]
    },
    {
      "cell_type": "markdown",
      "metadata": {
        "id": "qEIaxuqC1oqT"
      },
      "source": [
        "* Correlation of Features with Laptop Price :- This helps in understanding which specifications (e.g., RAM, storage) most influence the laptop price, providing insights for feature selection and price prediction models in the EDA process."
      ]
    },
    {
      "cell_type": "code",
      "execution_count": 329,
      "metadata": {
        "colab": {
          "base_uri": "https://localhost:8080/",
          "height": 398
        },
        "id": "-wU-YPoS1oqT",
        "outputId": "d76d958d-ceac-4ad2-d9ab-03d56bd3e273"
      },
      "outputs": [
        {
          "data": {
            "text/plain": [
              "Ram              0.743007\n",
              "Weight           0.210370\n",
              "Price            1.000000\n",
              "Touchscreen      0.191226\n",
              "IPS              0.191226\n",
              "ppi              0.473487\n",
              "HDD             -0.096441\n",
              "SSD              0.670799\n",
              "Hybrid           0.007989\n",
              "Flash_Storage   -0.040511\n",
              "Name: Price, dtype: float64"
            ]
          },
          "execution_count": 329,
          "metadata": {},
          "output_type": "execute_result"
        }
      ],
      "source": [
        "df.select_dtypes(include=['number']).corr()['Price']"
      ]
    },
    {
      "cell_type": "markdown",
      "metadata": {
        "id": "bMQ-WRIc1oqU"
      },
      "source": [
        "- RAM, SSD, and PPI show strong positive correlations with laptop price, suggesting that these features have a major impact on pricing.\n",
        "- HDD, Flash_Storage, and Hybrid show weak or negligible correlations, implying that they are less relevant to price variation in this dataset."
      ]
    },
    {
      "cell_type": "markdown",
      "metadata": {
        "id": "v9DQ3PbN1oqU"
      },
      "source": [
        "#### Due to Low or Negligible Correlation with Price: Both Hybrid and Flash_Storage have weak correlations with Price\n",
        "- By dropping the Hybrid and Flash_Storage columns, your DataFrame will be more focused on the features that have higher correlations with the Price or are more relevant for analysis, such as Ram, Weight, SSD, and ppi."
      ]
    },
    {
      "cell_type": "code",
      "execution_count": 330,
      "metadata": {
        "colab": {
          "base_uri": "https://localhost:8080/",
          "height": 206
        },
        "id": "nenjdRtj1oqV",
        "outputId": "39fdb92e-475e-4fc2-e663-e3f15be3c36a"
      },
      "outputs": [
        {
          "data": {
            "text/html": [
              "<div>\n",
              "<style scoped>\n",
              "    .dataframe tbody tr th:only-of-type {\n",
              "        vertical-align: middle;\n",
              "    }\n",
              "\n",
              "    .dataframe tbody tr th {\n",
              "        vertical-align: top;\n",
              "    }\n",
              "\n",
              "    .dataframe thead th {\n",
              "        text-align: right;\n",
              "    }\n",
              "</style>\n",
              "<table border=\"1\" class=\"dataframe\">\n",
              "  <thead>\n",
              "    <tr style=\"text-align: right;\">\n",
              "      <th></th>\n",
              "      <th>Company</th>\n",
              "      <th>TypeName</th>\n",
              "      <th>Ram</th>\n",
              "      <th>Gpu</th>\n",
              "      <th>OpSys</th>\n",
              "      <th>Weight</th>\n",
              "      <th>Price</th>\n",
              "      <th>Touchscreen</th>\n",
              "      <th>IPS</th>\n",
              "      <th>ppi</th>\n",
              "      <th>CPU Brand</th>\n",
              "      <th>HDD</th>\n",
              "      <th>SSD</th>\n",
              "    </tr>\n",
              "  </thead>\n",
              "  <tbody>\n",
              "    <tr>\n",
              "      <th>360</th>\n",
              "      <td>HP</td>\n",
              "      <td>Notebook</td>\n",
              "      <td>4</td>\n",
              "      <td>Intel HD Graphics 520</td>\n",
              "      <td>Windows 10</td>\n",
              "      <td>1.86</td>\n",
              "      <td>23389.920</td>\n",
              "      <td>0</td>\n",
              "      <td>0</td>\n",
              "      <td>100.454670</td>\n",
              "      <td>Intel Core i3</td>\n",
              "      <td>500</td>\n",
              "      <td>0</td>\n",
              "    </tr>\n",
              "    <tr>\n",
              "      <th>746</th>\n",
              "      <td>Samsung</td>\n",
              "      <td>Ultrabook</td>\n",
              "      <td>16</td>\n",
              "      <td>Intel HD Graphics 620</td>\n",
              "      <td>Windows 10</td>\n",
              "      <td>0.81</td>\n",
              "      <td>87858.720</td>\n",
              "      <td>0</td>\n",
              "      <td>0</td>\n",
              "      <td>165.632118</td>\n",
              "      <td>Intel Core i7</td>\n",
              "      <td>0</td>\n",
              "      <td>256</td>\n",
              "    </tr>\n",
              "    <tr>\n",
              "      <th>10</th>\n",
              "      <td>HP</td>\n",
              "      <td>Notebook</td>\n",
              "      <td>4</td>\n",
              "      <td>Intel HD Graphics 620</td>\n",
              "      <td>No OS</td>\n",
              "      <td>1.86</td>\n",
              "      <td>20986.992</td>\n",
              "      <td>0</td>\n",
              "      <td>0</td>\n",
              "      <td>100.454670</td>\n",
              "      <td>Intel Core i5</td>\n",
              "      <td>500</td>\n",
              "      <td>0</td>\n",
              "    </tr>\n",
              "    <tr>\n",
              "      <th>863</th>\n",
              "      <td>Lenovo</td>\n",
              "      <td>Gaming</td>\n",
              "      <td>8</td>\n",
              "      <td>Nvidia GeForce GTX 1050</td>\n",
              "      <td>No OS</td>\n",
              "      <td>2.50</td>\n",
              "      <td>54185.760</td>\n",
              "      <td>0</td>\n",
              "      <td>0</td>\n",
              "      <td>141.211998</td>\n",
              "      <td>Intel Core i5</td>\n",
              "      <td>1000</td>\n",
              "      <td>0</td>\n",
              "    </tr>\n",
              "    <tr>\n",
              "      <th>325</th>\n",
              "      <td>Lenovo</td>\n",
              "      <td>Notebook</td>\n",
              "      <td>4</td>\n",
              "      <td>Intel HD Graphics 500</td>\n",
              "      <td>Windows 10</td>\n",
              "      <td>1.44</td>\n",
              "      <td>15557.760</td>\n",
              "      <td>0</td>\n",
              "      <td>0</td>\n",
              "      <td>111.935204</td>\n",
              "      <td>Other Intel Processor</td>\n",
              "      <td>0</td>\n",
              "      <td>0</td>\n",
              "    </tr>\n",
              "  </tbody>\n",
              "</table>\n",
              "</div>"
            ],
            "text/plain": [
              "     Company   TypeName  Ram                      Gpu       OpSys  Weight  \\\n",
              "360       HP   Notebook    4    Intel HD Graphics 520  Windows 10    1.86   \n",
              "746  Samsung  Ultrabook   16    Intel HD Graphics 620  Windows 10    0.81   \n",
              "10        HP   Notebook    4    Intel HD Graphics 620       No OS    1.86   \n",
              "863   Lenovo     Gaming    8  Nvidia GeForce GTX 1050       No OS    2.50   \n",
              "325   Lenovo   Notebook    4    Intel HD Graphics 500  Windows 10    1.44   \n",
              "\n",
              "         Price  Touchscreen  IPS         ppi              CPU Brand   HDD  SSD  \n",
              "360  23389.920            0    0  100.454670          Intel Core i3   500    0  \n",
              "746  87858.720            0    0  165.632118          Intel Core i7     0  256  \n",
              "10   20986.992            0    0  100.454670          Intel Core i5   500    0  \n",
              "863  54185.760            0    0  141.211998          Intel Core i5  1000    0  \n",
              "325  15557.760            0    0  111.935204  Other Intel Processor     0    0  "
            ]
          },
          "execution_count": 330,
          "metadata": {},
          "output_type": "execute_result"
        }
      ],
      "source": [
        "# Dropping the 'Hybrid' and 'Flash_Storage' columns\n",
        "df.drop(columns=['Hybrid', 'Flash_Storage'], inplace=True)\n",
        "df.sample(5)"
      ]
    },
    {
      "cell_type": "markdown",
      "metadata": {
        "id": "7kvFSsZl1oqV"
      },
      "source": [
        "#### Analysis of the GPU Column\n",
        "- The GPU (Graphics Processing Unit) plays a significant role in determining the performance and price of a laptop, especially for tasks like gaming, video editing, and machine learning. To analyze its impact on laptop pricing, we extracted the GPU Brand from the original 'Gpu' column. This allows us to compare different GPU brands and their influence on laptop prices more effectively."
      ]
    },
    {
      "cell_type": "code",
      "execution_count": 331,
      "metadata": {
        "colab": {
          "base_uri": "https://localhost:8080/",
          "height": 490
        },
        "id": "R6tSUyfd1oqV",
        "outputId": "4d1c1a31-34ff-4194-81be-a8e4d65a2f00"
      },
      "outputs": [
        {
          "data": {
            "text/plain": [
              "Gpu\n",
              "Intel HD Graphics 620      281\n",
              "Intel HD Graphics 520      185\n",
              "Intel UHD Graphics 620      68\n",
              "Nvidia GeForce GTX 1050     66\n",
              "Nvidia GeForce GTX 1060     48\n",
              "                          ... \n",
              "Nvidia Quadro M500M          1\n",
              "AMD Radeon R7 M360           1\n",
              "Nvidia Quadro M3000M         1\n",
              "Nvidia GeForce 960M          1\n",
              "ARM Mali T860 MP4            1\n",
              "Name: count, Length: 110, dtype: int64"
            ]
          },
          "execution_count": 331,
          "metadata": {},
          "output_type": "execute_result"
        }
      ],
      "source": [
        "df['Gpu'].value_counts()"
      ]
    },
    {
      "cell_type": "markdown",
      "metadata": {
        "id": "cfm0gmrZ1oqW"
      },
      "source": [
        "* Extracting GPU Brand:- Since the 'Gpu' column contains detailed GPU model names, we extracted only the brand name (e.g., NVIDIA, AMD, Intel) to simplify comparisons\n",
        "- This step will create a new column, 'Gpu Brand,' which contains only the brand name of the GPU."
      ]
    },
    {
      "cell_type": "code",
      "execution_count": 332,
      "metadata": {
        "colab": {
          "base_uri": "https://localhost:8080/",
          "height": 206
        },
        "id": "A9WlTIck1oqW",
        "outputId": "daacbad8-1b73-4229-f685-85b4822dca31"
      },
      "outputs": [
        {
          "data": {
            "text/html": [
              "<div>\n",
              "<style scoped>\n",
              "    .dataframe tbody tr th:only-of-type {\n",
              "        vertical-align: middle;\n",
              "    }\n",
              "\n",
              "    .dataframe tbody tr th {\n",
              "        vertical-align: top;\n",
              "    }\n",
              "\n",
              "    .dataframe thead th {\n",
              "        text-align: right;\n",
              "    }\n",
              "</style>\n",
              "<table border=\"1\" class=\"dataframe\">\n",
              "  <thead>\n",
              "    <tr style=\"text-align: right;\">\n",
              "      <th></th>\n",
              "      <th>Company</th>\n",
              "      <th>TypeName</th>\n",
              "      <th>Ram</th>\n",
              "      <th>Gpu</th>\n",
              "      <th>OpSys</th>\n",
              "      <th>Weight</th>\n",
              "      <th>Price</th>\n",
              "      <th>Touchscreen</th>\n",
              "      <th>IPS</th>\n",
              "      <th>ppi</th>\n",
              "      <th>CPU Brand</th>\n",
              "      <th>HDD</th>\n",
              "      <th>SSD</th>\n",
              "      <th>Gpu Brand</th>\n",
              "    </tr>\n",
              "  </thead>\n",
              "  <tbody>\n",
              "    <tr>\n",
              "      <th>577</th>\n",
              "      <td>Lenovo</td>\n",
              "      <td>Gaming</td>\n",
              "      <td>32</td>\n",
              "      <td>Nvidia GeForce GTX 1070</td>\n",
              "      <td>Windows 10</td>\n",
              "      <td>4.60</td>\n",
              "      <td>141884.64</td>\n",
              "      <td>0</td>\n",
              "      <td>0</td>\n",
              "      <td>127.335675</td>\n",
              "      <td>Intel Core i7</td>\n",
              "      <td>1000</td>\n",
              "      <td>256</td>\n",
              "      <td>Nvidia</td>\n",
              "    </tr>\n",
              "    <tr>\n",
              "      <th>1145</th>\n",
              "      <td>HP</td>\n",
              "      <td>Workstation</td>\n",
              "      <td>8</td>\n",
              "      <td>Nvidia Quadro M1000M</td>\n",
              "      <td>Windows 7</td>\n",
              "      <td>2.00</td>\n",
              "      <td>101178.72</td>\n",
              "      <td>0</td>\n",
              "      <td>0</td>\n",
              "      <td>141.211998</td>\n",
              "      <td>Intel Core i7</td>\n",
              "      <td>0</td>\n",
              "      <td>256</td>\n",
              "      <td>Nvidia</td>\n",
              "    </tr>\n",
              "    <tr>\n",
              "      <th>454</th>\n",
              "      <td>Dell</td>\n",
              "      <td>Notebook</td>\n",
              "      <td>8</td>\n",
              "      <td>AMD Radeon 530</td>\n",
              "      <td>Windows 10</td>\n",
              "      <td>2.36</td>\n",
              "      <td>52161.12</td>\n",
              "      <td>0</td>\n",
              "      <td>0</td>\n",
              "      <td>141.211998</td>\n",
              "      <td>Intel Core i7</td>\n",
              "      <td>1000</td>\n",
              "      <td>128</td>\n",
              "      <td>AMD</td>\n",
              "    </tr>\n",
              "    <tr>\n",
              "      <th>986</th>\n",
              "      <td>HP</td>\n",
              "      <td>Notebook</td>\n",
              "      <td>8</td>\n",
              "      <td>Intel HD Graphics 620</td>\n",
              "      <td>Windows 10</td>\n",
              "      <td>2.04</td>\n",
              "      <td>42943.68</td>\n",
              "      <td>0</td>\n",
              "      <td>0</td>\n",
              "      <td>141.211998</td>\n",
              "      <td>Intel Core i5</td>\n",
              "      <td>1000</td>\n",
              "      <td>0</td>\n",
              "      <td>Intel</td>\n",
              "    </tr>\n",
              "    <tr>\n",
              "      <th>639</th>\n",
              "      <td>Dell</td>\n",
              "      <td>Notebook</td>\n",
              "      <td>16</td>\n",
              "      <td>Nvidia GeForce GTX 1050</td>\n",
              "      <td>Windows 10</td>\n",
              "      <td>2.06</td>\n",
              "      <td>127818.72</td>\n",
              "      <td>1</td>\n",
              "      <td>1</td>\n",
              "      <td>282.423996</td>\n",
              "      <td>Intel Core i7</td>\n",
              "      <td>0</td>\n",
              "      <td>1000</td>\n",
              "      <td>Nvidia</td>\n",
              "    </tr>\n",
              "  </tbody>\n",
              "</table>\n",
              "</div>"
            ],
            "text/plain": [
              "     Company     TypeName  Ram                      Gpu       OpSys  Weight  \\\n",
              "577   Lenovo       Gaming   32  Nvidia GeForce GTX 1070  Windows 10    4.60   \n",
              "1145      HP  Workstation    8     Nvidia Quadro M1000M   Windows 7    2.00   \n",
              "454     Dell     Notebook    8           AMD Radeon 530  Windows 10    2.36   \n",
              "986       HP     Notebook    8    Intel HD Graphics 620  Windows 10    2.04   \n",
              "639     Dell     Notebook   16  Nvidia GeForce GTX 1050  Windows 10    2.06   \n",
              "\n",
              "          Price  Touchscreen  IPS         ppi      CPU Brand   HDD   SSD  \\\n",
              "577   141884.64            0    0  127.335675  Intel Core i7  1000   256   \n",
              "1145  101178.72            0    0  141.211998  Intel Core i7     0   256   \n",
              "454    52161.12            0    0  141.211998  Intel Core i7  1000   128   \n",
              "986    42943.68            0    0  141.211998  Intel Core i5  1000     0   \n",
              "639   127818.72            1    1  282.423996  Intel Core i7     0  1000   \n",
              "\n",
              "     Gpu Brand  \n",
              "577     Nvidia  \n",
              "1145    Nvidia  \n",
              "454        AMD  \n",
              "986      Intel  \n",
              "639     Nvidia  "
            ]
          },
          "execution_count": 332,
          "metadata": {},
          "output_type": "execute_result"
        }
      ],
      "source": [
        "df['Gpu Brand']=df['Gpu'].apply(lambda x:x.split()[0])\n",
        "df.sample(5)"
      ]
    },
    {
      "cell_type": "markdown",
      "metadata": {
        "id": "423lu-EI1oqW"
      },
      "source": [
        "* The count of each unique value in the 'Gpu Brand' column of your DataFrame. This is useful for understanding the distribution of different GPU brands in your dataset."
      ]
    },
    {
      "cell_type": "code",
      "execution_count": 333,
      "metadata": {
        "colab": {
          "base_uri": "https://localhost:8080/",
          "height": 241
        },
        "id": "OEOWV2_w1oqX",
        "outputId": "2457e52a-fb5c-4280-a8db-86490b3e017c"
      },
      "outputs": [
        {
          "data": {
            "text/plain": [
              "Gpu Brand\n",
              "Intel     722\n",
              "Nvidia    400\n",
              "AMD       180\n",
              "ARM         1\n",
              "Name: count, dtype: int64"
            ]
          },
          "execution_count": 333,
          "metadata": {},
          "output_type": "execute_result"
        }
      ],
      "source": [
        "df['Gpu Brand'].value_counts()"
      ]
    },
    {
      "cell_type": "markdown",
      "metadata": {
        "id": "aJEgGO771oqX"
      },
      "source": [
        "* Doing the conparition while ploting a bar chart where each GPU brand is compared with the corresponding laptop price."
      ]
    },
    {
      "cell_type": "code",
      "execution_count": 334,
      "metadata": {
        "colab": {
          "base_uri": "https://localhost:8080/",
          "height": 649
        },
        "id": "VCNjupNC1oqX",
        "outputId": "2abb8f9f-8444-48f2-e978-acf13cc55f6e"
      },
      "outputs": [
        {
          "data": {
            "text/plain": [
              "<function matplotlib.pyplot.show(close=None, block=None)>"
            ]
          },
          "execution_count": 334,
          "metadata": {},
          "output_type": "execute_result"
        },
        {
          "data": {
            "image/png": "[encoded data removed]",
            "text/plain": [
              "<Figure size 640x480 with 1 Axes>"
            ]
          },
          "metadata": {},
          "output_type": "display_data"
        }
      ],
      "source": [
        "sns.barplot(x= df['Gpu Brand'], y= df['Price'])\n",
        "plt.xticks(rotation='vertical')\n",
        "plt.show"
      ]
    },
    {
      "cell_type": "markdown",
      "metadata": {
        "id": "9XQogZUx1oqY"
      },
      "source": [
        "- Dropping the 'Gpu' Column: After extracting the brand, the original 'Gpu' column became redundant and was removed to optimize the dataset for further analysis."
      ]
    },
    {
      "cell_type": "code",
      "execution_count": 335,
      "metadata": {
        "colab": {
          "base_uri": "https://localhost:8080/",
          "height": 206
        },
        "id": "FRbr3Jr01oqY",
        "outputId": "97d10ec5-52c5-4cea-e3aa-5d2a57cfdbf5"
      },
      "outputs": [
        {
          "data": {
            "text/html": [
              "<div>\n",
              "<style scoped>\n",
              "    .dataframe tbody tr th:only-of-type {\n",
              "        vertical-align: middle;\n",
              "    }\n",
              "\n",
              "    .dataframe tbody tr th {\n",
              "        vertical-align: top;\n",
              "    }\n",
              "\n",
              "    .dataframe thead th {\n",
              "        text-align: right;\n",
              "    }\n",
              "</style>\n",
              "<table border=\"1\" class=\"dataframe\">\n",
              "  <thead>\n",
              "    <tr style=\"text-align: right;\">\n",
              "      <th></th>\n",
              "      <th>Company</th>\n",
              "      <th>TypeName</th>\n",
              "      <th>Ram</th>\n",
              "      <th>OpSys</th>\n",
              "      <th>Weight</th>\n",
              "      <th>Price</th>\n",
              "      <th>Touchscreen</th>\n",
              "      <th>IPS</th>\n",
              "      <th>ppi</th>\n",
              "      <th>CPU Brand</th>\n",
              "      <th>HDD</th>\n",
              "      <th>SSD</th>\n",
              "      <th>Gpu Brand</th>\n",
              "    </tr>\n",
              "  </thead>\n",
              "  <tbody>\n",
              "    <tr>\n",
              "      <th>940</th>\n",
              "      <td>HP</td>\n",
              "      <td>Gaming</td>\n",
              "      <td>8</td>\n",
              "      <td>Windows 10</td>\n",
              "      <td>2.75</td>\n",
              "      <td>74538.7200</td>\n",
              "      <td>0</td>\n",
              "      <td>0</td>\n",
              "      <td>127.335675</td>\n",
              "      <td>Intel Core i5</td>\n",
              "      <td>1000</td>\n",
              "      <td>128</td>\n",
              "      <td>Nvidia</td>\n",
              "    </tr>\n",
              "    <tr>\n",
              "      <th>303</th>\n",
              "      <td>Lenovo</td>\n",
              "      <td>Notebook</td>\n",
              "      <td>8</td>\n",
              "      <td>No OS</td>\n",
              "      <td>2.20</td>\n",
              "      <td>29250.7200</td>\n",
              "      <td>0</td>\n",
              "      <td>0</td>\n",
              "      <td>100.454670</td>\n",
              "      <td>Intel Core i5</td>\n",
              "      <td>2000</td>\n",
              "      <td>0</td>\n",
              "      <td>Nvidia</td>\n",
              "    </tr>\n",
              "    <tr>\n",
              "      <th>14</th>\n",
              "      <td>Apple</td>\n",
              "      <td>Ultrabook</td>\n",
              "      <td>8</td>\n",
              "      <td>macOS</td>\n",
              "      <td>0.92</td>\n",
              "      <td>67260.6720</td>\n",
              "      <td>0</td>\n",
              "      <td>0</td>\n",
              "      <td>226.415547</td>\n",
              "      <td>Other Intel Processor</td>\n",
              "      <td>0</td>\n",
              "      <td>256</td>\n",
              "      <td>Intel</td>\n",
              "    </tr>\n",
              "    <tr>\n",
              "      <th>1281</th>\n",
              "      <td>Dell</td>\n",
              "      <td>Notebook</td>\n",
              "      <td>8</td>\n",
              "      <td>Linux</td>\n",
              "      <td>2.30</td>\n",
              "      <td>42943.1472</td>\n",
              "      <td>0</td>\n",
              "      <td>0</td>\n",
              "      <td>100.454670</td>\n",
              "      <td>Intel Core i7</td>\n",
              "      <td>1000</td>\n",
              "      <td>0</td>\n",
              "      <td>AMD</td>\n",
              "    </tr>\n",
              "    <tr>\n",
              "      <th>1262</th>\n",
              "      <td>Dell</td>\n",
              "      <td>Notebook</td>\n",
              "      <td>6</td>\n",
              "      <td>Windows 10</td>\n",
              "      <td>2.30</td>\n",
              "      <td>24455.5200</td>\n",
              "      <td>0</td>\n",
              "      <td>0</td>\n",
              "      <td>100.454670</td>\n",
              "      <td>Intel Core i3</td>\n",
              "      <td>1000</td>\n",
              "      <td>0</td>\n",
              "      <td>Intel</td>\n",
              "    </tr>\n",
              "  </tbody>\n",
              "</table>\n",
              "</div>"
            ],
            "text/plain": [
              "     Company   TypeName  Ram       OpSys  Weight       Price  Touchscreen  \\\n",
              "940       HP     Gaming    8  Windows 10    2.75  74538.7200            0   \n",
              "303   Lenovo   Notebook    8       No OS    2.20  29250.7200            0   \n",
              "14     Apple  Ultrabook    8       macOS    0.92  67260.6720            0   \n",
              "1281    Dell   Notebook    8       Linux    2.30  42943.1472            0   \n",
              "1262    Dell   Notebook    6  Windows 10    2.30  24455.5200            0   \n",
              "\n",
              "      IPS         ppi              CPU Brand   HDD  SSD Gpu Brand  \n",
              "940     0  127.335675          Intel Core i5  1000  128    Nvidia  \n",
              "303     0  100.454670          Intel Core i5  2000    0    Nvidia  \n",
              "14      0  226.415547  Other Intel Processor     0  256     Intel  \n",
              "1281    0  100.454670          Intel Core i7  1000    0       AMD  \n",
              "1262    0  100.454670          Intel Core i3  1000    0     Intel  "
            ]
          },
          "execution_count": 335,
          "metadata": {},
          "output_type": "execute_result"
        }
      ],
      "source": [
        "df.drop(columns=['Gpu'],inplace= True)\n",
        "df.sample(5)"
      ]
    },
    {
      "cell_type": "markdown",
      "metadata": {
        "id": "jyVXLHVr1oqY"
      },
      "source": [
        "#### Analysis of the Operating System Column\n",
        "- The Operating System (OS) is an important factor in determining a laptop's usability, software compatibility, and price. Different operating systems cater to different user needs, whether for general use, professional work, or gaming."
      ]
    },
    {
      "cell_type": "code",
      "execution_count": 336,
      "metadata": {
        "colab": {
          "base_uri": "https://localhost:8080/",
          "height": 398
        },
        "id": "-mu1VeMy1oqZ",
        "outputId": "73b7483a-9181-4a3a-f7c2-716c20b3fec7"
      },
      "outputs": [
        {
          "data": {
            "text/plain": [
              "OpSys\n",
              "Windows 10      1072\n",
              "No OS             66\n",
              "Linux             62\n",
              "Windows 7         45\n",
              "Chrome OS         27\n",
              "macOS             13\n",
              "Mac OS X           8\n",
              "Windows 10 S       8\n",
              "Android            2\n",
              "Name: count, dtype: int64"
            ]
          },
          "execution_count": 336,
          "metadata": {},
          "output_type": "execute_result"
        }
      ],
      "source": [
        "df['OpSys'].value_counts()"
      ]
    },
    {
      "cell_type": "markdown",
      "metadata": {
        "id": "ZUfXtcQZ1oqZ"
      },
      "source": [
        "- Categorizing OS Types: To simplify the analysis, OS types may be grouped into broad categories such as Windows-based, macOS, Linux, and Chrome OS"
      ]
    },
    {
      "cell_type": "code",
      "execution_count": 337,
      "metadata": {
        "colab": {
          "base_uri": "https://localhost:8080/",
          "height": 206
        },
        "id": "aGK07BP51oqZ",
        "outputId": "c6d79a64-4984-472e-929f-b162b8624130"
      },
      "outputs": [
        {
          "data": {
            "text/html": [
              "<div>\n",
              "<style scoped>\n",
              "    .dataframe tbody tr th:only-of-type {\n",
              "        vertical-align: middle;\n",
              "    }\n",
              "\n",
              "    .dataframe tbody tr th {\n",
              "        vertical-align: top;\n",
              "    }\n",
              "\n",
              "    .dataframe thead th {\n",
              "        text-align: right;\n",
              "    }\n",
              "</style>\n",
              "<table border=\"1\" class=\"dataframe\">\n",
              "  <thead>\n",
              "    <tr style=\"text-align: right;\">\n",
              "      <th></th>\n",
              "      <th>Company</th>\n",
              "      <th>TypeName</th>\n",
              "      <th>Ram</th>\n",
              "      <th>OpSys</th>\n",
              "      <th>Weight</th>\n",
              "      <th>Price</th>\n",
              "      <th>Touchscreen</th>\n",
              "      <th>IPS</th>\n",
              "      <th>ppi</th>\n",
              "      <th>CPU Brand</th>\n",
              "      <th>HDD</th>\n",
              "      <th>SSD</th>\n",
              "      <th>Gpu Brand</th>\n",
              "      <th>OS Category</th>\n",
              "    </tr>\n",
              "  </thead>\n",
              "  <tbody>\n",
              "    <tr>\n",
              "      <th>725</th>\n",
              "      <td>Lenovo</td>\n",
              "      <td>Notebook</td>\n",
              "      <td>4</td>\n",
              "      <td>No OS</td>\n",
              "      <td>1.90</td>\n",
              "      <td>26101.872</td>\n",
              "      <td>0</td>\n",
              "      <td>0</td>\n",
              "      <td>100.454670</td>\n",
              "      <td>Intel Core i5</td>\n",
              "      <td>1000</td>\n",
              "      <td>0</td>\n",
              "      <td>Intel</td>\n",
              "      <td>Other/Linux</td>\n",
              "    </tr>\n",
              "    <tr>\n",
              "      <th>604</th>\n",
              "      <td>Dell</td>\n",
              "      <td>Notebook</td>\n",
              "      <td>4</td>\n",
              "      <td>Linux</td>\n",
              "      <td>2.18</td>\n",
              "      <td>24775.200</td>\n",
              "      <td>0</td>\n",
              "      <td>0</td>\n",
              "      <td>100.454670</td>\n",
              "      <td>Intel Core i3</td>\n",
              "      <td>1000</td>\n",
              "      <td>0</td>\n",
              "      <td>AMD</td>\n",
              "      <td>Other/Linux</td>\n",
              "    </tr>\n",
              "    <tr>\n",
              "      <th>282</th>\n",
              "      <td>Lenovo</td>\n",
              "      <td>Gaming</td>\n",
              "      <td>8</td>\n",
              "      <td>Windows 10</td>\n",
              "      <td>2.50</td>\n",
              "      <td>44169.120</td>\n",
              "      <td>0</td>\n",
              "      <td>0</td>\n",
              "      <td>141.211998</td>\n",
              "      <td>Intel Core i5</td>\n",
              "      <td>0</td>\n",
              "      <td>256</td>\n",
              "      <td>Nvidia</td>\n",
              "      <td>Windows</td>\n",
              "    </tr>\n",
              "    <tr>\n",
              "      <th>1201</th>\n",
              "      <td>Lenovo</td>\n",
              "      <td>Notebook</td>\n",
              "      <td>8</td>\n",
              "      <td>No OS</td>\n",
              "      <td>2.20</td>\n",
              "      <td>33513.120</td>\n",
              "      <td>0</td>\n",
              "      <td>0</td>\n",
              "      <td>100.454670</td>\n",
              "      <td>Intel Core i7</td>\n",
              "      <td>500</td>\n",
              "      <td>0</td>\n",
              "      <td>Nvidia</td>\n",
              "      <td>Other/Linux</td>\n",
              "    </tr>\n",
              "    <tr>\n",
              "      <th>623</th>\n",
              "      <td>Fujitsu</td>\n",
              "      <td>Notebook</td>\n",
              "      <td>8</td>\n",
              "      <td>Windows 10</td>\n",
              "      <td>2.20</td>\n",
              "      <td>42570.720</td>\n",
              "      <td>0</td>\n",
              "      <td>0</td>\n",
              "      <td>100.454670</td>\n",
              "      <td>Intel Core i5</td>\n",
              "      <td>0</td>\n",
              "      <td>256</td>\n",
              "      <td>Intel</td>\n",
              "      <td>Windows</td>\n",
              "    </tr>\n",
              "  </tbody>\n",
              "</table>\n",
              "</div>"
            ],
            "text/plain": [
              "      Company  TypeName  Ram       OpSys  Weight      Price  Touchscreen  IPS  \\\n",
              "725    Lenovo  Notebook    4       No OS    1.90  26101.872            0    0   \n",
              "604      Dell  Notebook    4       Linux    2.18  24775.200            0    0   \n",
              "282    Lenovo    Gaming    8  Windows 10    2.50  44169.120            0    0   \n",
              "1201   Lenovo  Notebook    8       No OS    2.20  33513.120            0    0   \n",
              "623   Fujitsu  Notebook    8  Windows 10    2.20  42570.720            0    0   \n",
              "\n",
              "             ppi      CPU Brand   HDD  SSD Gpu Brand  OS Category  \n",
              "725   100.454670  Intel Core i5  1000    0     Intel  Other/Linux  \n",
              "604   100.454670  Intel Core i3  1000    0       AMD  Other/Linux  \n",
              "282   141.211998  Intel Core i5     0  256    Nvidia      Windows  \n",
              "1201  100.454670  Intel Core i7   500    0    Nvidia  Other/Linux  \n",
              "623   100.454670  Intel Core i5     0  256     Intel      Windows  "
            ]
          },
          "execution_count": 337,
          "metadata": {},
          "output_type": "execute_result"
        }
      ],
      "source": [
        "def categorize_os(os):\n",
        "    if os == \"Windows 10\" or os == \"Windows 10 s\" or os == \"Windows 7\":\n",
        "        return \"Windows\"\n",
        "    elif os == \"macOS\" or os == \"Mac OS X\":\n",
        "        return \"Mac\"\n",
        "    else:\n",
        "        return \"Other/Linux\"\n",
        "\n",
        "df['OS Category'] = df['OpSys'].apply(categorize_os)\n",
        "df.sample(5)  # Displaying sample output\n"
      ]
    },
    {
      "cell_type": "markdown",
      "metadata": {
        "id": "XCPBJYu21oqa"
      },
      "source": [
        "- Impact on Price: Comparing the average laptop price for each OS provides insights into how the operating system influences cost. For example, macOS-based laptops (Apple) are generally priced higher than Windows or Linux laptops."
      ]
    },
    {
      "cell_type": "markdown",
      "metadata": {
        "id": "W6nRbTP-1oqa"
      },
      "source": [
        "- This analysis helps in understanding how different operating systems affect laptop pricing."
      ]
    },
    {
      "cell_type": "code",
      "execution_count": 338,
      "metadata": {
        "colab": {
          "base_uri": "https://localhost:8080/",
          "height": 525
        },
        "id": "qq8pYir91oqb",
        "outputId": "a8be3d48-1d85-406a-de57-81a69fd7c7bc"
      },
      "outputs": [
        {
          "data": {
            "image/png": "[encoded data removed]",
            "text/plain": [
              "<Figure size 640x480 with 1 Axes>"
            ]
          },
          "metadata": {},
          "output_type": "display_data"
        }
      ],
      "source": [
        "sns.barplot(x=df[\"OS Category\"], y=df[\"Price\"], estimator=np.mean)\n",
        "plt.xticks(rotation=45)\n",
        "plt.xlabel(\"Operating System Category\")\n",
        "plt.ylabel(\"Average Price\")\n",
        "plt.title(\"Comparison of Laptop Prices by OS Category\")\n",
        "plt.show()\n"
      ]
    },
    {
      "cell_type": "markdown",
      "metadata": {
        "id": "jjPgTGOS1oqb"
      },
      "source": [
        "- Since we have extracted and categorized the operating system into a new column 'OS Category', the original 'Operating System' column is now redundant. Removing it helps in:\n",
        "\n",
        "- Avoiding duplicate information – The new 'OS Category' column serves the same purpose but in a more structured way.\n",
        "- Reducing dataset complexity – Keeping only relevant features improves model performance and interpretability.\n",
        "- Enhancing data analysis – Working with categorical OS types makes comparisons easier without unnecessary textual variations.\n",
        "\n",
        "\n",
        "\n",
        "\n",
        "\n",
        "\n"
      ]
    },
    {
      "cell_type": "code",
      "execution_count": 339,
      "metadata": {
        "colab": {
          "base_uri": "https://localhost:8080/",
          "height": 248
        },
        "id": "t4zNSxPT1oqc",
        "outputId": "16d50715-abed-4e36-fd2b-23c98f87eed6"
      },
      "outputs": [
        {
          "data": {
            "text/html": [
              "<div>\n",
              "<style scoped>\n",
              "    .dataframe tbody tr th:only-of-type {\n",
              "        vertical-align: middle;\n",
              "    }\n",
              "\n",
              "    .dataframe tbody tr th {\n",
              "        vertical-align: top;\n",
              "    }\n",
              "\n",
              "    .dataframe thead th {\n",
              "        text-align: right;\n",
              "    }\n",
              "</style>\n",
              "<table border=\"1\" class=\"dataframe\">\n",
              "  <thead>\n",
              "    <tr style=\"text-align: right;\">\n",
              "      <th></th>\n",
              "      <th>Company</th>\n",
              "      <th>TypeName</th>\n",
              "      <th>Ram</th>\n",
              "      <th>Weight</th>\n",
              "      <th>Price</th>\n",
              "      <th>Touchscreen</th>\n",
              "      <th>IPS</th>\n",
              "      <th>ppi</th>\n",
              "      <th>CPU Brand</th>\n",
              "      <th>HDD</th>\n",
              "      <th>SSD</th>\n",
              "      <th>Gpu Brand</th>\n",
              "      <th>OS Category</th>\n",
              "    </tr>\n",
              "  </thead>\n",
              "  <tbody>\n",
              "    <tr>\n",
              "      <th>225</th>\n",
              "      <td>Acer</td>\n",
              "      <td>Notebook</td>\n",
              "      <td>8</td>\n",
              "      <td>2.20</td>\n",
              "      <td>44328.96</td>\n",
              "      <td>0</td>\n",
              "      <td>0</td>\n",
              "      <td>141.211998</td>\n",
              "      <td>Intel Core i7</td>\n",
              "      <td>0</td>\n",
              "      <td>256</td>\n",
              "      <td>Nvidia</td>\n",
              "      <td>Windows</td>\n",
              "    </tr>\n",
              "    <tr>\n",
              "      <th>592</th>\n",
              "      <td>Dell</td>\n",
              "      <td>2 in 1 Convertible</td>\n",
              "      <td>4</td>\n",
              "      <td>1.39</td>\n",
              "      <td>32127.84</td>\n",
              "      <td>1</td>\n",
              "      <td>1</td>\n",
              "      <td>135.094211</td>\n",
              "      <td>Other Intel Processor</td>\n",
              "      <td>0</td>\n",
              "      <td>128</td>\n",
              "      <td>Intel</td>\n",
              "      <td>Windows</td>\n",
              "    </tr>\n",
              "    <tr>\n",
              "      <th>1279</th>\n",
              "      <td>Lenovo</td>\n",
              "      <td>Notebook</td>\n",
              "      <td>8</td>\n",
              "      <td>2.60</td>\n",
              "      <td>47898.72</td>\n",
              "      <td>0</td>\n",
              "      <td>0</td>\n",
              "      <td>141.211998</td>\n",
              "      <td>Intel Core i7</td>\n",
              "      <td>1000</td>\n",
              "      <td>0</td>\n",
              "      <td>Nvidia</td>\n",
              "      <td>Windows</td>\n",
              "    </tr>\n",
              "    <tr>\n",
              "      <th>50</th>\n",
              "      <td>Lenovo</td>\n",
              "      <td>2 in 1 Convertible</td>\n",
              "      <td>4</td>\n",
              "      <td>0.69</td>\n",
              "      <td>16996.32</td>\n",
              "      <td>1</td>\n",
              "      <td>1</td>\n",
              "      <td>224.173809</td>\n",
              "      <td>Other Intel Processor</td>\n",
              "      <td>0</td>\n",
              "      <td>0</td>\n",
              "      <td>Intel</td>\n",
              "      <td>Other/Linux</td>\n",
              "    </tr>\n",
              "    <tr>\n",
              "      <th>959</th>\n",
              "      <td>Acer</td>\n",
              "      <td>2 in 1 Convertible</td>\n",
              "      <td>4</td>\n",
              "      <td>1.25</td>\n",
              "      <td>20725.92</td>\n",
              "      <td>1</td>\n",
              "      <td>1</td>\n",
              "      <td>135.094211</td>\n",
              "      <td>Other Intel Processor</td>\n",
              "      <td>0</td>\n",
              "      <td>0</td>\n",
              "      <td>Intel</td>\n",
              "      <td>Other/Linux</td>\n",
              "    </tr>\n",
              "  </tbody>\n",
              "</table>\n",
              "</div>"
            ],
            "text/plain": [
              "     Company            TypeName  Ram  Weight     Price  Touchscreen  IPS  \\\n",
              "225     Acer            Notebook    8    2.20  44328.96            0    0   \n",
              "592     Dell  2 in 1 Convertible    4    1.39  32127.84            1    1   \n",
              "1279  Lenovo            Notebook    8    2.60  47898.72            0    0   \n",
              "50    Lenovo  2 in 1 Convertible    4    0.69  16996.32            1    1   \n",
              "959     Acer  2 in 1 Convertible    4    1.25  20725.92            1    1   \n",
              "\n",
              "             ppi              CPU Brand   HDD  SSD Gpu Brand  OS Category  \n",
              "225   141.211998          Intel Core i7     0  256    Nvidia      Windows  \n",
              "592   135.094211  Other Intel Processor     0  128     Intel      Windows  \n",
              "1279  141.211998          Intel Core i7  1000    0    Nvidia      Windows  \n",
              "50    224.173809  Other Intel Processor     0    0     Intel  Other/Linux  \n",
              "959   135.094211  Other Intel Processor     0    0     Intel  Other/Linux  "
            ]
          },
          "execution_count": 339,
          "metadata": {},
          "output_type": "execute_result"
        }
      ],
      "source": [
        "df.drop(columns=['OpSys'],inplace= True)\n",
        "df.sample(5)"
      ]
    },
    {
      "cell_type": "markdown",
      "metadata": {
        "id": "x4culQXW1oqd"
      },
      "source": [
        "#### Analysis of the 'Weight' Column\n"
      ]
    },
    {
      "cell_type": "markdown",
      "metadata": {
        "id": "2lf3NKOf1oqe"
      },
      "source": [
        "- Understanding Weight Distribution – Analyzing the distribution of laptop weights helps identify typical weight ranges"
      ]
    },
    {
      "cell_type": "code",
      "execution_count": 340,
      "metadata": {
        "colab": {
          "base_uri": "https://localhost:8080/",
          "height": 657
        },
        "id": "hCHre3nW1oqf",
        "outputId": "431f4d2c-5ee0-4cdb-f999-ab878aefab2e"
      },
      "outputs": [
        {
          "name": "stderr",
          "output_type": "stream",
          "text": [
            "C:\\Users\\User\\AppData\\Local\\Temp\\ipykernel_6876\\1125578356.py:1: UserWarning: \n",
            "\n",
            "`distplot` is a deprecated function and will be removed in seaborn v0.14.0.\n",
            "\n",
            "Please adapt your code to use either `displot` (a figure-level function with\n",
            "similar flexibility) or `histplot` (an axes-level function for histograms).\n",
            "\n",
            "For a guide to updating your code to use the new functions, please see\n",
            "https://gist.github.com/mwaskom/de44147ed2974457ad6372750bbe5751\n",
            "\n",
            "  sns.distplot(df['Weight'])\n"
          ]
        },
        {
          "data": {
            "text/plain": [
              "<Axes: xlabel='Weight', ylabel='Density'>"
            ]
          },
          "execution_count": 340,
          "metadata": {},
          "output_type": "execute_result"
        },
        {
          "data": {
            "image/png": "[encoded data removed]",
            "text/plain": [
              "<Figure size 640x480 with 1 Axes>"
            ]
          },
          "metadata": {},
          "output_type": "display_data"
        }
      ],
      "source": [
        "sns.distplot(df['Weight'])"
      ]
    },
    {
      "cell_type": "markdown",
      "metadata": {
        "id": "zkOcWCNW1oqf"
      },
      "source": [
        "- Correlation of Weight with Other Numerical Features"
      ]
    },
    {
      "cell_type": "code",
      "execution_count": 341,
      "metadata": {
        "colab": {
          "base_uri": "https://localhost:8080/",
          "height": 335
        },
        "id": "z62NfRrN1oqg",
        "outputId": "0e5887b5-2bab-40c9-dd2e-9b40ecda9abd"
      },
      "outputs": [
        {
          "data": {
            "text/plain": [
              "Ram            0.743007\n",
              "Weight         0.210370\n",
              "Price          1.000000\n",
              "Touchscreen    0.191226\n",
              "IPS            0.191226\n",
              "ppi            0.473487\n",
              "HDD           -0.096441\n",
              "SSD            0.670799\n",
              "Name: Price, dtype: float64"
            ]
          },
          "execution_count": 341,
          "metadata": {},
          "output_type": "execute_result"
        }
      ],
      "source": [
        "df.select_dtypes(include=['number']).corr()['Price']\n"
      ]
    },
    {
      "cell_type": "code",
      "execution_count": 342,
      "metadata": {
        "colab": {
          "base_uri": "https://localhost:8080/",
          "height": 466
        },
        "id": "j4jflGVA1oqg",
        "outputId": "1ed00282-22b2-4d8e-a2c1-b2d8c6b87061"
      },
      "outputs": [
        {
          "data": {
            "text/plain": [
              "<Axes: xlabel='Weight', ylabel='Price'>"
            ]
          },
          "execution_count": 342,
          "metadata": {},
          "output_type": "execute_result"
        },
        {
          "data": {
            "image/png": "[encoded data removed]",
            "text/plain": [
              "<Figure size 640x480 with 1 Axes>"
            ]
          },
          "metadata": {},
          "output_type": "display_data"
        }
      ],
      "source": [
        "sns.scatterplot(x=df[\"Weight\"],y=df[\"Price\"])"
      ]
    },
    {
      "cell_type": "markdown",
      "metadata": {
        "id": "H7OWlfnt1oqg"
      },
      "source": [
        "- RESULT - Since the correlation between Weight and Price is very low, this suggests that laptop weight does not significantly influence the price in a linear manner."
      ]
    },
    {
      "cell_type": "markdown",
      "metadata": {
        "id": "THmSIpVo1oqh"
      },
      "source": [
        "### Comprehensive Correlation Analysis of All Columns\n",
        "- To analyze the correlation between all numerical columns in the dataset, we will compute and visualize the correlation matrix."
      ]
    },
    {
      "cell_type": "markdown",
      "metadata": {
        "id": "TZ1RNxU11oqh"
      },
      "source": [
        "1. Compute Correlation Matrix : To see how all numeric columns correlate with each other. This will help us identify relationships between variables.\n"
      ]
    },
    {
      "cell_type": "code",
      "execution_count": 343,
      "metadata": {
        "colab": {
          "base_uri": "https://localhost:8080/",
          "height": 1725
        },
        "id": "oVHdoHIj1oqh",
        "outputId": "b0106ff6-e20f-4e7a-96fa-95c07456c6a3"
      },
      "outputs": [
        {
          "data": {
            "text/html": [
              "<div>\n",
              "<style scoped>\n",
              "    .dataframe tbody tr th:only-of-type {\n",
              "        vertical-align: middle;\n",
              "    }\n",
              "\n",
              "    .dataframe tbody tr th {\n",
              "        vertical-align: top;\n",
              "    }\n",
              "\n",
              "    .dataframe thead th {\n",
              "        text-align: right;\n",
              "    }\n",
              "</style>\n",
              "<table border=\"1\" class=\"dataframe\">\n",
              "  <thead>\n",
              "    <tr style=\"text-align: right;\">\n",
              "      <th></th>\n",
              "      <th>Ram</th>\n",
              "      <th>Weight</th>\n",
              "      <th>Price</th>\n",
              "      <th>Touchscreen</th>\n",
              "      <th>IPS</th>\n",
              "      <th>ppi</th>\n",
              "      <th>HDD</th>\n",
              "      <th>SSD</th>\n",
              "    </tr>\n",
              "  </thead>\n",
              "  <tbody>\n",
              "    <tr>\n",
              "      <th>Ram</th>\n",
              "      <td>1.000000</td>\n",
              "      <td>0.383874</td>\n",
              "      <td>0.743007</td>\n",
              "      <td>0.116984</td>\n",
              "      <td>0.116984</td>\n",
              "      <td>0.303763</td>\n",
              "      <td>0.096288</td>\n",
              "      <td>0.603634</td>\n",
              "    </tr>\n",
              "    <tr>\n",
              "      <th>Weight</th>\n",
              "      <td>0.383874</td>\n",
              "      <td>1.000000</td>\n",
              "      <td>0.210370</td>\n",
              "      <td>-0.294620</td>\n",
              "      <td>-0.294620</td>\n",
              "      <td>-0.323240</td>\n",
              "      <td>0.514491</td>\n",
              "      <td>-0.062742</td>\n",
              "    </tr>\n",
              "    <tr>\n",
              "      <th>Price</th>\n",
              "      <td>0.743007</td>\n",
              "      <td>0.210370</td>\n",
              "      <td>1.000000</td>\n",
              "      <td>0.191226</td>\n",
              "      <td>0.191226</td>\n",
              "      <td>0.473487</td>\n",
              "      <td>-0.096441</td>\n",
              "      <td>0.670799</td>\n",
              "    </tr>\n",
              "    <tr>\n",
              "      <th>Touchscreen</th>\n",
              "      <td>0.116984</td>\n",
              "      <td>-0.294620</td>\n",
              "      <td>0.191226</td>\n",
              "      <td>1.000000</td>\n",
              "      <td>1.000000</td>\n",
              "      <td>0.460587</td>\n",
              "      <td>-0.209733</td>\n",
              "      <td>0.255092</td>\n",
              "    </tr>\n",
              "    <tr>\n",
              "      <th>IPS</th>\n",
              "      <td>0.116984</td>\n",
              "      <td>-0.294620</td>\n",
              "      <td>0.191226</td>\n",
              "      <td>1.000000</td>\n",
              "      <td>1.000000</td>\n",
              "      <td>0.460587</td>\n",
              "      <td>-0.209733</td>\n",
              "      <td>0.255092</td>\n",
              "    </tr>\n",
              "    <tr>\n",
              "      <th>ppi</th>\n",
              "      <td>0.303763</td>\n",
              "      <td>-0.323240</td>\n",
              "      <td>0.473487</td>\n",
              "      <td>0.460587</td>\n",
              "      <td>0.460587</td>\n",
              "      <td>1.000000</td>\n",
              "      <td>-0.295411</td>\n",
              "      <td>0.506895</td>\n",
              "    </tr>\n",
              "    <tr>\n",
              "      <th>HDD</th>\n",
              "      <td>0.096288</td>\n",
              "      <td>0.514491</td>\n",
              "      <td>-0.096441</td>\n",
              "      <td>-0.209733</td>\n",
              "      <td>-0.209733</td>\n",
              "      <td>-0.295411</td>\n",
              "      <td>1.000000</td>\n",
              "      <td>-0.399896</td>\n",
              "    </tr>\n",
              "    <tr>\n",
              "      <th>SSD</th>\n",
              "      <td>0.603634</td>\n",
              "      <td>-0.062742</td>\n",
              "      <td>0.670799</td>\n",
              "      <td>0.255092</td>\n",
              "      <td>0.255092</td>\n",
              "      <td>0.506895</td>\n",
              "      <td>-0.399896</td>\n",
              "      <td>1.000000</td>\n",
              "    </tr>\n",
              "  </tbody>\n",
              "</table>\n",
              "</div>"
            ],
            "text/plain": [
              "                  Ram    Weight     Price  Touchscreen       IPS       ppi  \\\n",
              "Ram          1.000000  0.383874  0.743007     0.116984  0.116984  0.303763   \n",
              "Weight       0.383874  1.000000  0.210370    -0.294620 -0.294620 -0.323240   \n",
              "Price        0.743007  0.210370  1.000000     0.191226  0.191226  0.473487   \n",
              "Touchscreen  0.116984 -0.294620  0.191226     1.000000  1.000000  0.460587   \n",
              "IPS          0.116984 -0.294620  0.191226     1.000000  1.000000  0.460587   \n",
              "ppi          0.303763 -0.323240  0.473487     0.460587  0.460587  1.000000   \n",
              "HDD          0.096288  0.514491 -0.096441    -0.209733 -0.209733 -0.295411   \n",
              "SSD          0.603634 -0.062742  0.670799     0.255092  0.255092  0.506895   \n",
              "\n",
              "                  HDD       SSD  \n",
              "Ram          0.096288  0.603634  \n",
              "Weight       0.514491 -0.062742  \n",
              "Price       -0.096441  0.670799  \n",
              "Touchscreen -0.209733  0.255092  \n",
              "IPS         -0.209733  0.255092  \n",
              "ppi         -0.295411  0.506895  \n",
              "HDD          1.000000 -0.399896  \n",
              "SSD         -0.399896  1.000000  "
            ]
          },
          "execution_count": 343,
          "metadata": {},
          "output_type": "execute_result"
        }
      ],
      "source": [
        "df.select_dtypes(include=['number']).corr()\n",
        "\n"
      ]
    },
    {
      "cell_type": "markdown",
      "metadata": {
        "id": "G2LIZii-1oqi"
      },
      "source": [
        "2. Visualizing the Correlation Matrix (Heatmap):A heatmap provides an intuitive way to observe strong and weak correlations."
      ]
    },
    {
      "cell_type": "code",
      "execution_count": 344,
      "metadata": {
        "colab": {
          "base_uri": "https://localhost:8080/",
          "height": 699
        },
        "id": "5IfX4mPc1oqi",
        "outputId": "f65de89e-2ade-4d0a-910f-f1d5f1ea66de"
      },
      "outputs": [
        {
          "data": {
            "image/png": "[encoded data removed]",
            "text/plain": [
              "<Figure size 1200x800 with 2 Axes>"
            ]
          },
          "metadata": {},
          "output_type": "display_data"
        }
      ],
      "source": [
        "plt.figure(figsize=(12,8))\n",
        "sns.heatmap(df.select_dtypes(include=['number']).corr(), annot=True, cmap=\"coolwarm\", fmt=\".2f\", linewidths=0.5)\n",
        "plt.title(\"Correlation Matrix of Laptop Features\")\n",
        "plt.show()\n"
      ]
    },
    {
      "cell_type": "markdown",
      "metadata": {
        "id": "5CHq4uNi1oqi"
      },
      "source": [
        "- RESULT :-\n",
        "1. RAM, SSD, and PPI are the strongest contributors to price.\n",
        "2. HDD storage is becoming less relevant in high-end laptops.\n",
        "3. Features like Touchscreen and IPS screens slightly increase cost but are not major price drivers."
      ]
    },
    {
      "cell_type": "markdown",
      "metadata": {
        "id": "KOIotU6c1oqj"
      },
      "source": [
        "#### Target Column: \"Price\" in Laptop Price Prediction ML Project"
      ]
    },
    {
      "cell_type": "markdown",
      "metadata": {
        "id": "yJOEFH3x1oqj"
      },
      "source": [
        "In a Laptop Price Prediction machine learning project, the target column (also called the dependent variable or output variable) is \"Price\". This means the goal of the model is to predict the laptop's price based on various independent features."
      ]
    },
    {
      "cell_type": "markdown",
      "metadata": {
        "id": "KtYsC0g71oqk"
      },
      "source": [
        "- Role of the Target Column (\"Price\")\n",
        "1. Supervised Learning: This is a regression problem since the target variable (Price) is a continuous numerical value.\n",
        "2. Model Training: The ML model learns patterns from historical data and predicts laptop prices for new data points.\n",
        "3. Evaluation: The accuracy of the model is measured using metrics like Mean Squared Error (MSE), Root Mean Squared Error (RMSE), and R² Score."
      ]
    },
    {
      "cell_type": "markdown",
      "metadata": {
        "id": "uX9zKMXV1oqk"
      },
      "source": [
        "- Visualizing the Distribution of Laptop Prices This code uses Seaborn's displot function to create a histogram of the 'Price' column. It helps in understanding the distribution of laptop prices in the dataset, allowing us to identify patterns such as skewness, outliers, and the overall price range."
      ]
    },
    {
      "cell_type": "code",
      "execution_count": 345,
      "metadata": {
        "colab": {
          "base_uri": "https://localhost:8080/",
          "height": 673
        },
        "id": "_flygv3P1oqk",
        "outputId": "4d780e0a-0d0a-420e-fcee-dadb5424009b"
      },
      "outputs": [
        {
          "name": "stderr",
          "output_type": "stream",
          "text": [
            "C:\\Users\\User\\AppData\\Local\\Temp\\ipykernel_6876\\834922981.py:1: UserWarning: \n",
            "\n",
            "`distplot` is a deprecated function and will be removed in seaborn v0.14.0.\n",
            "\n",
            "Please adapt your code to use either `displot` (a figure-level function with\n",
            "similar flexibility) or `histplot` (an axes-level function for histograms).\n",
            "\n",
            "For a guide to updating your code to use the new functions, please see\n",
            "https://gist.github.com/mwaskom/de44147ed2974457ad6372750bbe5751\n",
            "\n",
            "  sns.distplot(df['Price'])\n"
          ]
        },
        {
          "data": {
            "text/plain": [
              "<Axes: xlabel='Price', ylabel='Density'>"
            ]
          },
          "execution_count": 345,
          "metadata": {},
          "output_type": "execute_result"
        },
        {
          "data": {
            "image/png": "[encoded data removed]",
            "text/plain": [
              "<Figure size 640x480 with 1 Axes>"
            ]
          },
          "metadata": {},
          "output_type": "display_data"
        }
      ],
      "source": [
        "sns.distplot(df['Price'])"
      ]
    },
    {
      "cell_type": "markdown",
      "metadata": {
        "id": "uGZIrcc01oql"
      },
      "source": [
        "- Transforming the 'Price' Variable :- Log transformation can help to normalize the distribution by compressing the larger values and expanding the smaller values. It can help to:\n",
        "\n",
        "1. Reduce skewness: By reducing the impact of outliers.\n",
        "2. Improve model performance: By making the data more closely resemble a normal distribution, improving the performance of linear models and other algorithms."
      ]
    },
    {
      "cell_type": "code",
      "execution_count": 346,
      "metadata": {
        "colab": {
          "base_uri": "https://localhost:8080/",
          "height": 640
        },
        "id": "1kgSNnKP1oql",
        "outputId": "946c8fdb-7eac-4977-b884-69b57328ca86"
      },
      "outputs": [
        {
          "name": "stderr",
          "output_type": "stream",
          "text": [
            "C:\\Users\\User\\AppData\\Local\\Temp\\ipykernel_6876\\2085135574.py:1: UserWarning: \n",
            "\n",
            "`distplot` is a deprecated function and will be removed in seaborn v0.14.0.\n",
            "\n",
            "Please adapt your code to use either `displot` (a figure-level function with\n",
            "similar flexibility) or `histplot` (an axes-level function for histograms).\n",
            "\n",
            "For a guide to updating your code to use the new functions, please see\n",
            "https://gist.github.com/mwaskom/de44147ed2974457ad6372750bbe5751\n",
            "\n",
            "  sns.distplot(np.log(df['Price']))\n"
          ]
        },
        {
          "data": {
            "image/png": "[encoded data removed]",
            "text/plain": [
              "<Figure size 640x480 with 1 Axes>"
            ]
          },
          "metadata": {},
          "output_type": "display_data"
        }
      ],
      "source": [
        "sns.distplot(np.log(df['Price']))\n",
        "plt.xlabel('Log Price')\n",
        "plt.ylabel('Count')\n",
        "plt.show()"
      ]
    },
    {
      "cell_type": "markdown",
      "metadata": {
        "id": "vZzOejIb1oql"
      },
      "source": [
        "- Analysis of the Histogram"
      ]
    },
    {
      "cell_type": "code",
      "execution_count": 347,
      "metadata": {
        "id": "oriLLaRv1oqm"
      },
      "outputs": [],
      "source": [
        "X = df.drop(columns = ['Price'])\n",
        "Y = np.log(df['Price'])"
      ]
    },
    {
      "cell_type": "markdown",
      "metadata": {
        "id": "L5_PRj521oqm"
      },
      "source": [
        "1. x = df.drop(columns = ['Price']):- This line removes the 'Price' column from your DataFrame and stores the remaining columns in a new DataFrame called 'x'. This is likely because you're planning to use the other variables to predict the transformed 'Price'.\n",
        "\n",
        "2. y = df.np.log(df['Price']): - This line calculates the natural logarithm of the 'Price' column and stores it in a new variable called 'y'."
      ]
    },
    {
      "cell_type": "markdown",
      "metadata": {
        "id": "fs76DVsG1oqm"
      },
      "source": [
        "- Now Output"
      ]
    },
    {
      "cell_type": "code",
      "execution_count": 348,
      "metadata": {
        "colab": {
          "base_uri": "https://localhost:8080/",
          "height": 687
        },
        "id": "hMj0JrP_1oqn",
        "outputId": "02046a1e-29c6-4852-d24f-eaf138ef6112"
      },
      "outputs": [
        {
          "data": {
            "text/html": [
              "<div>\n",
              "<style scoped>\n",
              "    .dataframe tbody tr th:only-of-type {\n",
              "        vertical-align: middle;\n",
              "    }\n",
              "\n",
              "    .dataframe tbody tr th {\n",
              "        vertical-align: top;\n",
              "    }\n",
              "\n",
              "    .dataframe thead th {\n",
              "        text-align: right;\n",
              "    }\n",
              "</style>\n",
              "<table border=\"1\" class=\"dataframe\">\n",
              "  <thead>\n",
              "    <tr style=\"text-align: right;\">\n",
              "      <th></th>\n",
              "      <th>Company</th>\n",
              "      <th>TypeName</th>\n",
              "      <th>Ram</th>\n",
              "      <th>Weight</th>\n",
              "      <th>Touchscreen</th>\n",
              "      <th>IPS</th>\n",
              "      <th>ppi</th>\n",
              "      <th>CPU Brand</th>\n",
              "      <th>HDD</th>\n",
              "      <th>SSD</th>\n",
              "      <th>Gpu Brand</th>\n",
              "      <th>OS Category</th>\n",
              "    </tr>\n",
              "  </thead>\n",
              "  <tbody>\n",
              "    <tr>\n",
              "      <th>0</th>\n",
              "      <td>Apple</td>\n",
              "      <td>Ultrabook</td>\n",
              "      <td>8</td>\n",
              "      <td>1.37</td>\n",
              "      <td>0</td>\n",
              "      <td>0</td>\n",
              "      <td>226.983005</td>\n",
              "      <td>Intel Core i5</td>\n",
              "      <td>0</td>\n",
              "      <td>128</td>\n",
              "      <td>Intel</td>\n",
              "      <td>Mac</td>\n",
              "    </tr>\n",
              "    <tr>\n",
              "      <th>1</th>\n",
              "      <td>Apple</td>\n",
              "      <td>Ultrabook</td>\n",
              "      <td>8</td>\n",
              "      <td>1.34</td>\n",
              "      <td>0</td>\n",
              "      <td>0</td>\n",
              "      <td>127.677940</td>\n",
              "      <td>Intel Core i5</td>\n",
              "      <td>0</td>\n",
              "      <td>0</td>\n",
              "      <td>Intel</td>\n",
              "      <td>Mac</td>\n",
              "    </tr>\n",
              "    <tr>\n",
              "      <th>2</th>\n",
              "      <td>HP</td>\n",
              "      <td>Notebook</td>\n",
              "      <td>8</td>\n",
              "      <td>1.86</td>\n",
              "      <td>0</td>\n",
              "      <td>0</td>\n",
              "      <td>141.211998</td>\n",
              "      <td>Intel Core i5</td>\n",
              "      <td>0</td>\n",
              "      <td>256</td>\n",
              "      <td>Intel</td>\n",
              "      <td>Other/Linux</td>\n",
              "    </tr>\n",
              "    <tr>\n",
              "      <th>3</th>\n",
              "      <td>Apple</td>\n",
              "      <td>Ultrabook</td>\n",
              "      <td>16</td>\n",
              "      <td>1.83</td>\n",
              "      <td>0</td>\n",
              "      <td>0</td>\n",
              "      <td>220.534624</td>\n",
              "      <td>Intel Core i7</td>\n",
              "      <td>0</td>\n",
              "      <td>512</td>\n",
              "      <td>AMD</td>\n",
              "      <td>Mac</td>\n",
              "    </tr>\n",
              "    <tr>\n",
              "      <th>4</th>\n",
              "      <td>Apple</td>\n",
              "      <td>Ultrabook</td>\n",
              "      <td>8</td>\n",
              "      <td>1.37</td>\n",
              "      <td>0</td>\n",
              "      <td>0</td>\n",
              "      <td>226.983005</td>\n",
              "      <td>Intel Core i5</td>\n",
              "      <td>0</td>\n",
              "      <td>256</td>\n",
              "      <td>Intel</td>\n",
              "      <td>Mac</td>\n",
              "    </tr>\n",
              "    <tr>\n",
              "      <th>...</th>\n",
              "      <td>...</td>\n",
              "      <td>...</td>\n",
              "      <td>...</td>\n",
              "      <td>...</td>\n",
              "      <td>...</td>\n",
              "      <td>...</td>\n",
              "      <td>...</td>\n",
              "      <td>...</td>\n",
              "      <td>...</td>\n",
              "      <td>...</td>\n",
              "      <td>...</td>\n",
              "      <td>...</td>\n",
              "    </tr>\n",
              "    <tr>\n",
              "      <th>1298</th>\n",
              "      <td>Lenovo</td>\n",
              "      <td>2 in 1 Convertible</td>\n",
              "      <td>4</td>\n",
              "      <td>1.80</td>\n",
              "      <td>1</td>\n",
              "      <td>1</td>\n",
              "      <td>157.350512</td>\n",
              "      <td>Intel Core i7</td>\n",
              "      <td>0</td>\n",
              "      <td>128</td>\n",
              "      <td>Intel</td>\n",
              "      <td>Windows</td>\n",
              "    </tr>\n",
              "    <tr>\n",
              "      <th>1299</th>\n",
              "      <td>Lenovo</td>\n",
              "      <td>2 in 1 Convertible</td>\n",
              "      <td>16</td>\n",
              "      <td>1.30</td>\n",
              "      <td>1</td>\n",
              "      <td>1</td>\n",
              "      <td>276.053530</td>\n",
              "      <td>Intel Core i7</td>\n",
              "      <td>0</td>\n",
              "      <td>512</td>\n",
              "      <td>Intel</td>\n",
              "      <td>Windows</td>\n",
              "    </tr>\n",
              "    <tr>\n",
              "      <th>1300</th>\n",
              "      <td>Lenovo</td>\n",
              "      <td>Notebook</td>\n",
              "      <td>2</td>\n",
              "      <td>1.50</td>\n",
              "      <td>0</td>\n",
              "      <td>0</td>\n",
              "      <td>111.935204</td>\n",
              "      <td>Other Intel Processor</td>\n",
              "      <td>0</td>\n",
              "      <td>0</td>\n",
              "      <td>Intel</td>\n",
              "      <td>Windows</td>\n",
              "    </tr>\n",
              "    <tr>\n",
              "      <th>1301</th>\n",
              "      <td>HP</td>\n",
              "      <td>Notebook</td>\n",
              "      <td>6</td>\n",
              "      <td>2.19</td>\n",
              "      <td>0</td>\n",
              "      <td>0</td>\n",
              "      <td>100.454670</td>\n",
              "      <td>Intel Core i7</td>\n",
              "      <td>1000</td>\n",
              "      <td>0</td>\n",
              "      <td>AMD</td>\n",
              "      <td>Windows</td>\n",
              "    </tr>\n",
              "    <tr>\n",
              "      <th>1302</th>\n",
              "      <td>Asus</td>\n",
              "      <td>Notebook</td>\n",
              "      <td>4</td>\n",
              "      <td>2.20</td>\n",
              "      <td>0</td>\n",
              "      <td>0</td>\n",
              "      <td>100.454670</td>\n",
              "      <td>Other Intel Processor</td>\n",
              "      <td>500</td>\n",
              "      <td>0</td>\n",
              "      <td>Intel</td>\n",
              "      <td>Windows</td>\n",
              "    </tr>\n",
              "  </tbody>\n",
              "</table>\n",
              "<p>1303 rows × 12 columns</p>\n",
              "</div>"
            ],
            "text/plain": [
              "     Company            TypeName  Ram  Weight  Touchscreen  IPS         ppi  \\\n",
              "0      Apple           Ultrabook    8    1.37            0    0  226.983005   \n",
              "1      Apple           Ultrabook    8    1.34            0    0  127.677940   \n",
              "2         HP            Notebook    8    1.86            0    0  141.211998   \n",
              "3      Apple           Ultrabook   16    1.83            0    0  220.534624   \n",
              "4      Apple           Ultrabook    8    1.37            0    0  226.983005   \n",
              "...      ...                 ...  ...     ...          ...  ...         ...   \n",
              "1298  Lenovo  2 in 1 Convertible    4    1.80            1    1  157.350512   \n",
              "1299  Lenovo  2 in 1 Convertible   16    1.30            1    1  276.053530   \n",
              "1300  Lenovo            Notebook    2    1.50            0    0  111.935204   \n",
              "1301      HP            Notebook    6    2.19            0    0  100.454670   \n",
              "1302    Asus            Notebook    4    2.20            0    0  100.454670   \n",
              "\n",
              "                  CPU Brand   HDD  SSD Gpu Brand  OS Category  \n",
              "0             Intel Core i5     0  128     Intel          Mac  \n",
              "1             Intel Core i5     0    0     Intel          Mac  \n",
              "2             Intel Core i5     0  256     Intel  Other/Linux  \n",
              "3             Intel Core i7     0  512       AMD          Mac  \n",
              "4             Intel Core i5     0  256     Intel          Mac  \n",
              "...                     ...   ...  ...       ...          ...  \n",
              "1298          Intel Core i7     0  128     Intel      Windows  \n",
              "1299          Intel Core i7     0  512     Intel      Windows  \n",
              "1300  Other Intel Processor     0    0     Intel      Windows  \n",
              "1301          Intel Core i7  1000    0       AMD      Windows  \n",
              "1302  Other Intel Processor   500    0     Intel      Windows  \n",
              "\n",
              "[1303 rows x 12 columns]"
            ]
          },
          "execution_count": 348,
          "metadata": {},
          "output_type": "execute_result"
        }
      ],
      "source": [
        "X"
      ]
    },
    {
      "cell_type": "markdown",
      "metadata": {},
      "source": [
        "### Apply Data Preprocessing & Feature Transformation"
      ]
    },
    {
      "cell_type": "markdown",
      "metadata": {},
      "source": [
        "- The following step is used to split the dataset into training and testing sets.\n",
        "\n",
        "1. X represents the features (independent variables).\n",
        "2. Y represents the target variable (laptop price).\n",
        "- train_test_split() is used to randomly split the dataset:\n",
        "1. 85% of data is used for training (X_train, y_train).\n",
        "2. 15% of data is used for testing (X_test, y_test)"
      ]
    },
    {
      "cell_type": "code",
      "execution_count": 349,
      "metadata": {
        "id": "6QqJdj611oqo"
      },
      "outputs": [],
      "source": [
        "from sklearn.model_selection import train_test_split\n",
        "X_train,X_test,y_train,y_test = train_test_split(X,Y,test_size=0.15,random_state=2)"
      ]
    },
    {
      "cell_type": "code",
      "execution_count": 350,
      "metadata": {
        "colab": {
          "base_uri": "https://localhost:8080/",
          "height": 687
        },
        "id": "SKH-SdDI1oqo",
        "outputId": "a2d9dd4d-ddf8-4e19-b67a-e51f1c1eec7d"
      },
      "outputs": [
        {
          "data": {
            "text/html": [
              "<div>\n",
              "<style scoped>\n",
              "    .dataframe tbody tr th:only-of-type {\n",
              "        vertical-align: middle;\n",
              "    }\n",
              "\n",
              "    .dataframe tbody tr th {\n",
              "        vertical-align: top;\n",
              "    }\n",
              "\n",
              "    .dataframe thead th {\n",
              "        text-align: right;\n",
              "    }\n",
              "</style>\n",
              "<table border=\"1\" class=\"dataframe\">\n",
              "  <thead>\n",
              "    <tr style=\"text-align: right;\">\n",
              "      <th></th>\n",
              "      <th>Company</th>\n",
              "      <th>TypeName</th>\n",
              "      <th>Ram</th>\n",
              "      <th>Weight</th>\n",
              "      <th>Touchscreen</th>\n",
              "      <th>IPS</th>\n",
              "      <th>ppi</th>\n",
              "      <th>CPU Brand</th>\n",
              "      <th>HDD</th>\n",
              "      <th>SSD</th>\n",
              "      <th>Gpu Brand</th>\n",
              "      <th>OS Category</th>\n",
              "    </tr>\n",
              "  </thead>\n",
              "  <tbody>\n",
              "    <tr>\n",
              "      <th>183</th>\n",
              "      <td>Toshiba</td>\n",
              "      <td>Notebook</td>\n",
              "      <td>8</td>\n",
              "      <td>2.00</td>\n",
              "      <td>0</td>\n",
              "      <td>0</td>\n",
              "      <td>100.454670</td>\n",
              "      <td>Intel Core i5</td>\n",
              "      <td>0</td>\n",
              "      <td>128</td>\n",
              "      <td>Intel</td>\n",
              "      <td>Windows</td>\n",
              "    </tr>\n",
              "    <tr>\n",
              "      <th>699</th>\n",
              "      <td>HP</td>\n",
              "      <td>Notebook</td>\n",
              "      <td>4</td>\n",
              "      <td>2.10</td>\n",
              "      <td>0</td>\n",
              "      <td>0</td>\n",
              "      <td>141.211998</td>\n",
              "      <td>Intel Core i7</td>\n",
              "      <td>500</td>\n",
              "      <td>0</td>\n",
              "      <td>AMD</td>\n",
              "      <td>Windows</td>\n",
              "    </tr>\n",
              "    <tr>\n",
              "      <th>419</th>\n",
              "      <td>Lenovo</td>\n",
              "      <td>Ultrabook</td>\n",
              "      <td>8</td>\n",
              "      <td>1.75</td>\n",
              "      <td>0</td>\n",
              "      <td>0</td>\n",
              "      <td>157.350512</td>\n",
              "      <td>Intel Core i7</td>\n",
              "      <td>0</td>\n",
              "      <td>256</td>\n",
              "      <td>AMD</td>\n",
              "      <td>Windows</td>\n",
              "    </tr>\n",
              "    <tr>\n",
              "      <th>997</th>\n",
              "      <td>Acer</td>\n",
              "      <td>Notebook</td>\n",
              "      <td>4</td>\n",
              "      <td>2.40</td>\n",
              "      <td>0</td>\n",
              "      <td>0</td>\n",
              "      <td>100.454670</td>\n",
              "      <td>Other Intel Processor</td>\n",
              "      <td>500</td>\n",
              "      <td>0</td>\n",
              "      <td>Intel</td>\n",
              "      <td>Windows</td>\n",
              "    </tr>\n",
              "    <tr>\n",
              "      <th>502</th>\n",
              "      <td>Lenovo</td>\n",
              "      <td>2 in 1 Convertible</td>\n",
              "      <td>8</td>\n",
              "      <td>1.40</td>\n",
              "      <td>1</td>\n",
              "      <td>1</td>\n",
              "      <td>158.482530</td>\n",
              "      <td>Intel Core i5</td>\n",
              "      <td>0</td>\n",
              "      <td>256</td>\n",
              "      <td>Intel</td>\n",
              "      <td>Windows</td>\n",
              "    </tr>\n",
              "    <tr>\n",
              "      <th>...</th>\n",
              "      <td>...</td>\n",
              "      <td>...</td>\n",
              "      <td>...</td>\n",
              "      <td>...</td>\n",
              "      <td>...</td>\n",
              "      <td>...</td>\n",
              "      <td>...</td>\n",
              "      <td>...</td>\n",
              "      <td>...</td>\n",
              "      <td>...</td>\n",
              "      <td>...</td>\n",
              "      <td>...</td>\n",
              "    </tr>\n",
              "    <tr>\n",
              "      <th>466</th>\n",
              "      <td>Acer</td>\n",
              "      <td>Notebook</td>\n",
              "      <td>4</td>\n",
              "      <td>2.20</td>\n",
              "      <td>0</td>\n",
              "      <td>0</td>\n",
              "      <td>100.454670</td>\n",
              "      <td>Intel Core i3</td>\n",
              "      <td>500</td>\n",
              "      <td>0</td>\n",
              "      <td>Nvidia</td>\n",
              "      <td>Windows</td>\n",
              "    </tr>\n",
              "    <tr>\n",
              "      <th>299</th>\n",
              "      <td>Asus</td>\n",
              "      <td>Ultrabook</td>\n",
              "      <td>16</td>\n",
              "      <td>1.63</td>\n",
              "      <td>0</td>\n",
              "      <td>0</td>\n",
              "      <td>141.211998</td>\n",
              "      <td>Intel Core i7</td>\n",
              "      <td>0</td>\n",
              "      <td>512</td>\n",
              "      <td>Nvidia</td>\n",
              "      <td>Windows</td>\n",
              "    </tr>\n",
              "    <tr>\n",
              "      <th>493</th>\n",
              "      <td>Acer</td>\n",
              "      <td>Notebook</td>\n",
              "      <td>8</td>\n",
              "      <td>2.20</td>\n",
              "      <td>0</td>\n",
              "      <td>0</td>\n",
              "      <td>100.454670</td>\n",
              "      <td>AMD Processor</td>\n",
              "      <td>1000</td>\n",
              "      <td>0</td>\n",
              "      <td>AMD</td>\n",
              "      <td>Windows</td>\n",
              "    </tr>\n",
              "    <tr>\n",
              "      <th>527</th>\n",
              "      <td>Lenovo</td>\n",
              "      <td>Notebook</td>\n",
              "      <td>8</td>\n",
              "      <td>2.20</td>\n",
              "      <td>0</td>\n",
              "      <td>0</td>\n",
              "      <td>100.454670</td>\n",
              "      <td>Intel Core i3</td>\n",
              "      <td>2000</td>\n",
              "      <td>0</td>\n",
              "      <td>Nvidia</td>\n",
              "      <td>Other/Linux</td>\n",
              "    </tr>\n",
              "    <tr>\n",
              "      <th>1192</th>\n",
              "      <td>HP</td>\n",
              "      <td>Notebook</td>\n",
              "      <td>4</td>\n",
              "      <td>1.86</td>\n",
              "      <td>0</td>\n",
              "      <td>0</td>\n",
              "      <td>100.454670</td>\n",
              "      <td>Intel Core i5</td>\n",
              "      <td>500</td>\n",
              "      <td>0</td>\n",
              "      <td>Intel</td>\n",
              "      <td>Windows</td>\n",
              "    </tr>\n",
              "  </tbody>\n",
              "</table>\n",
              "<p>1107 rows × 12 columns</p>\n",
              "</div>"
            ],
            "text/plain": [
              "      Company            TypeName  Ram  Weight  Touchscreen  IPS         ppi  \\\n",
              "183   Toshiba            Notebook    8    2.00            0    0  100.454670   \n",
              "699        HP            Notebook    4    2.10            0    0  141.211998   \n",
              "419    Lenovo           Ultrabook    8    1.75            0    0  157.350512   \n",
              "997      Acer            Notebook    4    2.40            0    0  100.454670   \n",
              "502    Lenovo  2 in 1 Convertible    8    1.40            1    1  158.482530   \n",
              "...       ...                 ...  ...     ...          ...  ...         ...   \n",
              "466      Acer            Notebook    4    2.20            0    0  100.454670   \n",
              "299      Asus           Ultrabook   16    1.63            0    0  141.211998   \n",
              "493      Acer            Notebook    8    2.20            0    0  100.454670   \n",
              "527    Lenovo            Notebook    8    2.20            0    0  100.454670   \n",
              "1192       HP            Notebook    4    1.86            0    0  100.454670   \n",
              "\n",
              "                  CPU Brand   HDD  SSD Gpu Brand  OS Category  \n",
              "183           Intel Core i5     0  128     Intel      Windows  \n",
              "699           Intel Core i7   500    0       AMD      Windows  \n",
              "419           Intel Core i7     0  256       AMD      Windows  \n",
              "997   Other Intel Processor   500    0     Intel      Windows  \n",
              "502           Intel Core i5     0  256     Intel      Windows  \n",
              "...                     ...   ...  ...       ...          ...  \n",
              "466           Intel Core i3   500    0    Nvidia      Windows  \n",
              "299           Intel Core i7     0  512    Nvidia      Windows  \n",
              "493           AMD Processor  1000    0       AMD      Windows  \n",
              "527           Intel Core i3  2000    0    Nvidia  Other/Linux  \n",
              "1192          Intel Core i5   500    0     Intel      Windows  \n",
              "\n",
              "[1107 rows x 12 columns]"
            ]
          },
          "execution_count": 350,
          "metadata": {},
          "output_type": "execute_result"
        }
      ],
      "source": [
        "X_train"
      ]
    },
    {
      "cell_type": "markdown",
      "metadata": {},
      "source": [
        "- Imports various machine learning libraries required for training and evaluating different regression models for laptop price prediction."
      ]
    },
    {
      "cell_type": "markdown",
      "metadata": {},
      "source": [
        "1. Preprocess Data (ColumnTransformer, OneHotEncoder, Pipeline)\n",
        "2. Train Multiple Regression Models (Linear, Tree-based, Boosting, SVM, KNN)\n",
        "3. Evaluate Performance (R² score, MAE)\n",
        "4. Split Data (train_test_split) for training & testing"
      ]
    },
    {
      "cell_type": "code",
      "execution_count": 351,
      "metadata": {
        "id": "1sLCfSqT1oqo"
      },
      "outputs": [],
      "source": [
        "from sklearn.compose import ColumnTransformer\n",
        "from sklearn.pipeline import Pipeline\n",
        "from sklearn.preprocessing import OneHotEncoder\n",
        "from sklearn.metrics import r2_score,mean_absolute_error"
      ]
    },
    {
      "cell_type": "code",
      "execution_count": 352,
      "metadata": {
        "id": "6eIdn6Uw1oqp"
      },
      "outputs": [],
      "source": [
        "from sklearn.linear_model import LinearRegression,Ridge,Lasso\n",
        "from sklearn.neighbors import KNeighborsRegressor\n",
        "from sklearn.tree import DecisionTreeRegressor\n",
        "from sklearn.ensemble import RandomForestRegressor,GradientBoostingRegressor,AdaBoostRegressor,ExtraTreesRegressor\n",
        "from sklearn.svm import SVR\n",
        "from xgboost import XGBRegressor\n",
        "from sklearn.metrics import r2_score, mean_absolute_error\n",
        "from sklearn.model_selection import train_test_split\n",
        "from sklearn.linear_model import LinearRegression"
      ]
    },
    {
      "cell_type": "markdown",
      "metadata": {
        "id": "-Ov-or421oqp"
      },
      "source": [
        "### Linear Regression for Laptop Price Prediction\n",
        "1. Encodes categorical features using OneHotEncoder.\n",
        "2. Trains a LinearRegression model in a pipeline.\n",
        "3. Evaluates performance using R² score and MAE."
      ]
    },
    {
      "cell_type": "code",
      "execution_count": 353,
      "metadata": {
        "colab": {
          "base_uri": "https://localhost:8080/"
        },
        "id": "H_miW1Nr1oqq",
        "outputId": "c36e8cbb-2583-40ce-fe2e-fb01a2d506b6"
      },
      "outputs": [
        {
          "name": "stdout",
          "output_type": "stream",
          "text": [
            "R2 score 0.8274411610485369\n",
            "MAE 0.20839216020114198\n"
          ]
        }
      ],
      "source": [
        "step1 = ColumnTransformer(transformers=[\n",
        "    ('col_tnf',OneHotEncoder(sparse_output=False,drop='first'),[0,1,7,10,11]) # Changed sparse=False to sparse_output=False\n",
        "],remainder='passthrough')\n",
        "\n",
        "step2 = LinearRegression()\n",
        "\n",
        "pipe = Pipeline([\n",
        "    ('step1',step1),\n",
        "    ('step2',step2)\n",
        "])\n",
        "\n",
        "pipe.fit(X_train,y_train)\n",
        "\n",
        "y_pred = pipe.predict(X_test)\n",
        "\n",
        "print('R2 score',r2_score(y_test,y_pred))\n",
        "print('MAE',mean_absolute_error(y_test,y_pred))\n",
        "\n"
      ]
    },
    {
      "cell_type": "markdown",
      "metadata": {},
      "source": [
        "- Result:- model explains 82.74% of the variation in laptop prices (R² = 0.8274), which is strong. The predictions are off by an average of 0.21 units (MAE = 0.2084), indicating relatively good accuracy. Overall, the model performs well for laptop price prediction."
      ]
    },
    {
      "cell_type": "markdown",
      "metadata": {
        "id": "wMfN9iTM_h9g"
      },
      "source": [
        "### Ridge Regression for Laptop Price Prediction:\n",
        "1. Encodes categorical features using OneHotEncoder.\n",
        "2. Trains a Ridge Regression model with regularization (alpha=10) in a pipeline.\n",
        "3. Evaluates performance using R² score and MAE"
      ]
    },
    {
      "cell_type": "code",
      "execution_count": 354,
      "metadata": {
        "colab": {
          "base_uri": "https://localhost:8080/"
        },
        "id": "Tlkj72CB_fZv",
        "outputId": "c9a2117f-dcd3-4693-a562-53acf54aa5fd"
      },
      "outputs": [
        {
          "name": "stdout",
          "output_type": "stream",
          "text": [
            "R2 score 0.8258978654854572\n",
            "MAE 0.20859221984455265\n"
          ]
        }
      ],
      "source": [
        "step1 = ColumnTransformer(transformers=[\n",
        "    ('col_tnf',OneHotEncoder(sparse_output=False,drop='first'),[0,1,7,10,11])\n",
        "],remainder='passthrough')\n",
        "\n",
        "step2 = Ridge(alpha=10)\n",
        "\n",
        "pipe = Pipeline([\n",
        "    ('step1',step1),\n",
        "    ('step2',step2)\n",
        "])\n",
        "\n",
        "pipe.fit(X_train,y_train)\n",
        "\n",
        "y_pred = pipe.predict(X_test)\n",
        "\n",
        "print('R2 score',r2_score(y_test,y_pred))\n",
        "print('MAE',mean_absolute_error(y_test,y_pred))"
      ]
    },
    {
      "cell_type": "markdown",
      "metadata": {},
      "source": [
        "- Result :- Ridge Regression model explains 82.59% of the variance in laptop prices (R² = 0.8259) and has an average prediction error of 0.21 units (MAE = 0.2086), showing good performance similar to your Linear Regression model."
      ]
    },
    {
      "cell_type": "markdown",
      "metadata": {
        "id": "gQx3s_pNAccZ"
      },
      "source": [
        "### Lasso Regression for Laptop Price Prediction:\n",
        "1. Encodes categorical features using OneHotEncoder.\n",
        "2. Trains a Lasso Regression model with L1 regularization (alpha=10) in a pipeline.\n",
        "3. Evaluates performance using R² score and MAE."
      ]
    },
    {
      "cell_type": "code",
      "execution_count": 355,
      "metadata": {
        "colab": {
          "base_uri": "https://localhost:8080/"
        },
        "id": "bkt8HxpBAf2j",
        "outputId": "16cd48f8-f01e-48b6-a79e-3a41958108cf"
      },
      "outputs": [
        {
          "name": "stdout",
          "output_type": "stream",
          "text": [
            "R2 score 0.8263572419223343\n",
            "MAE 0.2097277584268671\n"
          ]
        }
      ],
      "source": [
        "step1 = ColumnTransformer(transformers=[\n",
        "    ('col_tnf',OneHotEncoder(sparse_output=False,drop='first'),[0,1,7,10,11])\n",
        "],remainder='passthrough')\n",
        "\n",
        "step2 = Lasso(alpha=0.001)\n",
        "\n",
        "pipe = Pipeline([\n",
        "    ('step1',step1),\n",
        "    ('step2',step2)\n",
        "])\n",
        "\n",
        "pipe.fit(X_train,y_train)\n",
        "\n",
        "y_pred = pipe.predict(X_test)\n",
        "\n",
        "print('R2 score',r2_score(y_test,y_pred))\n",
        "print('MAE',mean_absolute_error(y_test,y_pred))"
      ]
    },
    {
      "cell_type": "markdown",
      "metadata": {},
      "source": [
        "- Result:- Lasso Regression model explains 82.64% of the variance in laptop prices (R² = 0.8264) and has an average prediction error of 0.21 units (MAE = 0.2097), showing good performance similar to the Linear and Ridge models."
      ]
    },
    {
      "cell_type": "markdown",
      "metadata": {
        "id": "mem5-KO0AqoQ"
      },
      "source": [
        "### KNN Regression for Laptop Price Prediction:\n",
        "\n",
        "1. Encodes categorical features using OneHotEncoder.\n",
        "2. Trains a KNN Regression model with K=5 neighbors.\n",
        "3. Evaluates performance using R² score and MAE\n"
      ]
    },
    {
      "cell_type": "code",
      "execution_count": 356,
      "metadata": {
        "colab": {
          "base_uri": "https://localhost:8080/"
        },
        "id": "a5b0hdM3Av7N",
        "outputId": "0626fb40-60bc-49c4-f0ea-dcd03c738219"
      },
      "outputs": [
        {
          "name": "stdout",
          "output_type": "stream",
          "text": [
            "R2 score 0.8262116854914721\n",
            "MAE 0.19753882978039158\n"
          ]
        }
      ],
      "source": [
        "step1 = ColumnTransformer(transformers=[\n",
        "    ('col_tnf',OneHotEncoder(sparse_output=False,drop='first'),[0,1,7,10,11])\n",
        "],remainder='passthrough')\n",
        "\n",
        "step2 = KNeighborsRegressor(n_neighbors=3)\n",
        "\n",
        "pipe = Pipeline([\n",
        "    ('step1',step1),\n",
        "    ('step2',step2)\n",
        "])\n",
        "\n",
        "pipe.fit(X_train,y_train)\n",
        "\n",
        "y_pred = pipe.predict(X_test)\n",
        "\n",
        "print('R2 score',r2_score(y_test,y_pred))\n",
        "print('MAE',mean_absolute_error(y_test,y_pred))"
      ]
    },
    {
      "cell_type": "markdown",
      "metadata": {},
      "source": [
        "- Result:-  KNN model explains 84.38% of the variance in laptop prices (R² = 0.8438) and has an average prediction error of 0.18 units (MAE = 0.1845), indicating it performs well with better accuracy compared to the Linear, Ridge, and Lasso models."
      ]
    },
    {
      "cell_type": "markdown",
      "metadata": {
        "id": "92do6i58CdFt"
      },
      "source": [
        "### Decision Tree"
      ]
    },
    {
      "cell_type": "code",
      "execution_count": 357,
      "metadata": {
        "colab": {
          "base_uri": "https://localhost:8080/"
        },
        "id": "psoE6Mr8AuQ0",
        "outputId": "d508a91d-3df4-41dc-8e67-bc0942616cfe"
      },
      "outputs": [
        {
          "name": "stdout",
          "output_type": "stream",
          "text": [
            "R2 score 0.8478945161276867\n",
            "MAE 0.18156427372011938\n"
          ]
        }
      ],
      "source": [
        "step1 = ColumnTransformer(transformers=[\n",
        "    ('col_tnf',OneHotEncoder(sparse_output=False,drop='first'),[0,1,7,10,11])\n",
        "],remainder='passthrough')\n",
        "\n",
        "step2 = DecisionTreeRegressor(max_depth=8)\n",
        "\n",
        "pipe = Pipeline([\n",
        "    ('step1',step1),\n",
        "    ('step2',step2)\n",
        "])\n",
        "\n",
        "pipe.fit(X_train,y_train)\n",
        "\n",
        "y_pred = pipe.predict(X_test)\n",
        "\n",
        "print('R2 score',r2_score(y_test,y_pred))\n",
        "print('MAE',mean_absolute_error(y_test,y_pred))"
      ]
    },
    {
      "cell_type": "markdown",
      "metadata": {},
      "source": [
        "- Result:  KNN model explains 84.38% of the variance in laptop prices (R² = 0.8438) and has an average prediction error of 0.18 units (MAE = 0.1845), indicating it performs well with better accuracy compared to the Linear, Ridge, and Lasso models."
      ]
    },
    {
      "cell_type": "markdown",
      "metadata": {
        "id": "Efl9dAONC8cI"
      },
      "source": [
        "### Applying SVM for Laptop Price Prediction:\n",
        "1. Encodes categorical features using OneHotEncoder.\n",
        "2. Trains a Support Vector Regression (SVR) model with an RBF kernel.\n",
        "3. Evaluates performance using R² score and MAE."
      ]
    },
    {
      "cell_type": "code",
      "execution_count": 358,
      "metadata": {
        "colab": {
          "base_uri": "https://localhost:8080/"
        },
        "id": "O3W30Lv4AnVr",
        "outputId": "fa8f0132-8ec5-4d97-fbed-42cf661b4729"
      },
      "outputs": [
        {
          "name": "stdout",
          "output_type": "stream",
          "text": [
            "R2 score 0.8532298011270751\n",
            "MAE 0.1895699683807552\n"
          ]
        }
      ],
      "source": [
        "step1 = ColumnTransformer(transformers=[\n",
        "    ('col_tnf',OneHotEncoder(sparse_output=False,drop='first'),[0,1,7,10,11])\n",
        "],remainder='passthrough')\n",
        "\n",
        "step2 = SVR(kernel='rbf',C=10000,epsilon=0.1)\n",
        "\n",
        "pipe = Pipeline([\n",
        "    ('step1',step1),\n",
        "    ('step2',step2)\n",
        "])\n",
        "\n",
        "pipe.fit(X_train,y_train)\n",
        "\n",
        "y_pred = pipe.predict(X_test)\n",
        "\n",
        "print('R2 score',r2_score(y_test,y_pred))\n",
        "print('MAE',mean_absolute_error(y_test,y_pred))"
      ]
    },
    {
      "cell_type": "markdown",
      "metadata": {},
      "source": [
        "- Result:- SVM model explains 85.32% of the variance in laptop prices (R² = 0.8532) and has an average prediction error of 0.19 units (MAE = 0.1896), showing improved performance compared to previous models."
      ]
    },
    {
      "cell_type": "markdown",
      "metadata": {
        "id": "b_LhM_QgDJnA"
      },
      "source": [
        "### Random Forest for Laptop Price Prediction\n",
        "1. Encodes categorical features using OneHotEncoder.\n",
        "2. Trains a Random Forest Regression model with 100 trees.\n",
        "3. Evaluates performance using R² score and MAE."
      ]
    },
    {
      "cell_type": "code",
      "execution_count": 359,
      "metadata": {
        "colab": {
          "base_uri": "https://localhost:8080/"
        },
        "id": "rIWjSj5BC_jD",
        "outputId": "c0de60ac-b8ef-445d-a1f4-27f2af956a98"
      },
      "outputs": [
        {
          "name": "stdout",
          "output_type": "stream",
          "text": [
            "R2 score 0.8844367286235643\n",
            "MAE 0.16047238813217993\n"
          ]
        }
      ],
      "source": [
        "step1 = ColumnTransformer(transformers=[\n",
        "    ('col_tnf',OneHotEncoder(sparse_output=False,drop='first'),[0,1,7,10,11])\n",
        "],remainder='passthrough')\n",
        "\n",
        "step2 = RandomForestRegressor(n_estimators=100,\n",
        "                              random_state=3,\n",
        "                              max_samples=0.5,\n",
        "                              max_features=0.75,\n",
        "                              max_depth=15)\n",
        "\n",
        "pipe = Pipeline([\n",
        "    ('step1',step1),\n",
        "    ('step2',step2)\n",
        "])\n",
        "\n",
        "pipe.fit(X_train,y_train)\n",
        "\n",
        "y_pred = pipe.predict(X_test)\n",
        "\n",
        "print('R2 score',r2_score(y_test,y_pred))\n",
        "print('MAE',mean_absolute_error(y_test,y_pred))"
      ]
    },
    {
      "cell_type": "markdown",
      "metadata": {},
      "source": [
        "- Result :- Random Forest model explains 88.44% of the variance in laptop prices (R² = 0.8844) and has an average prediction error of 0.16 units (MAE = 0.1605), showing strong performance with the lowest error compared to previous models."
      ]
    },
    {
      "cell_type": "markdown",
      "metadata": {
        "id": "7u5NlP6sDVta"
      },
      "source": [
        "### Applying Extra Trees for Laptop Price Prediction:\n",
        "1. Encodes categorical features using OneHotEncoder.\n",
        "2. Trains an Extra Trees Regression model with 100 trees.\n",
        "3. Evaluates performance using R² score and MAE."
      ]
    },
    {
      "cell_type": "code",
      "execution_count": 360,
      "metadata": {
        "colab": {
          "base_uri": "https://localhost:8080/"
        },
        "id": "7SXjIdlSDRyP",
        "outputId": "c2a234dc-39bb-4d4d-a944-eaa64775c0c1"
      },
      "outputs": [
        {
          "name": "stdout",
          "output_type": "stream",
          "text": [
            "R2 score 0.8625602221290833\n",
            "MAE 0.17360424973508692\n"
          ]
        }
      ],
      "source": [
        "step1 = ColumnTransformer(transformers=[\n",
        "    ('col_tnf',OneHotEncoder(sparse_output=False,drop='first'),[0,1,7,10,11])\n",
        "],remainder='passthrough')\n",
        "\n",
        "step2 = ExtraTreesRegressor(n_estimators=100,\n",
        "                              random_state=3,\n",
        "                              # Either set max_samples=None or bootstrap=True\n",
        "                              max_samples=None,  # or bootstrap=True\n",
        "                              max_features=0.75,\n",
        "                              max_depth=15)\n",
        "\n",
        "pipe = Pipeline([\n",
        "    ('step1',step1),\n",
        "    ('step2',step2)\n",
        "])\n",
        "\n",
        "pipe.fit(X_train,y_train)\n",
        "\n",
        "y_pred = pipe.predict(X_test)\n",
        "\n",
        "print('R2 score',r2_score(y_test,y_pred))\n",
        "print('MAE',mean_absolute_error(y_test,y_pred))"
      ]
    },
    {
      "cell_type": "markdown",
      "metadata": {},
      "source": [
        "- Result: - Extra Trees model explains 86.26% of the variance in laptop prices (R² = 0.8626) and has an average prediction error of 0.17 units (MAE = 0.1736), showing good performance, though slightly less accurate than the Random Forest model"
      ]
    },
    {
      "cell_type": "markdown",
      "metadata": {
        "id": "BbsG6B9RD9ax"
      },
      "source": [
        "### Applying AdaBoost for Laptop Price Prediction\n",
        "1. Encodes categorical features using OneHotEncoder.\n",
        "2. Trains an AdaBoost Regression model with 100 estimators.\n",
        "3. Evaluates performance using R² score and MAE."
      ]
    },
    {
      "cell_type": "code",
      "execution_count": 361,
      "metadata": {
        "colab": {
          "base_uri": "https://localhost:8080/"
        },
        "id": "H3_MuSUZDeUc",
        "outputId": "eb3329f2-5558-4513-d237-66e2cc00fd48"
      },
      "outputs": [
        {
          "name": "stdout",
          "output_type": "stream",
          "text": [
            "R2 score 0.7947400776117214\n",
            "MAE 0.2316085267556649\n"
          ]
        }
      ],
      "source": [
        "step1 = ColumnTransformer(transformers=[\n",
        "    ('col_tnf',OneHotEncoder(sparse_output=False,drop='first'),[0,1,7,10,11])\n",
        "],remainder='passthrough')\n",
        "\n",
        "step2 = AdaBoostRegressor(n_estimators=15,learning_rate=1.0)\n",
        "\n",
        "pipe = Pipeline([\n",
        "    ('step1',step1),\n",
        "    ('step2',step2)\n",
        "])\n",
        "\n",
        "pipe.fit(X_train,y_train)\n",
        "\n",
        "y_pred = pipe.predict(X_test)\n",
        "\n",
        "print('R2 score',r2_score(y_test,y_pred))\n",
        "print('MAE',mean_absolute_error(y_test,y_pred))"
      ]
    },
    {
      "cell_type": "markdown",
      "metadata": {},
      "source": [
        "- Result - AdaBoost model explains 79.17% of the variance in laptop prices (R² = 0.7917) and has an average prediction error of 0.23 units (MAE = 0.2293), showing lower performance compared to other models like Random Forest and Extra Trees."
      ]
    },
    {
      "cell_type": "markdown",
      "metadata": {
        "id": "6qenQvuoEQT5"
      },
      "source": [
        "### Applying Gradient Boosting for Laptop Price Prediction:\n",
        "\n",
        "1. Encodes categorical features using OneHotEncoder.\n",
        "2. Trains a Gradient Boosting Regression model with 100 estimators.\n",
        "3. Evaluates performance using R² score and MAE."
      ]
    },
    {
      "cell_type": "code",
      "execution_count": 362,
      "metadata": {
        "colab": {
          "base_uri": "https://localhost:8080/"
        },
        "id": "Ox_-3y8tEDbS",
        "outputId": "25793e0f-ff52-46c4-f4da-bba856e5d952"
      },
      "outputs": [
        {
          "name": "stdout",
          "output_type": "stream",
          "text": [
            "R2 score 0.8886639667558236\n",
            "MAE 0.16346156071514803\n"
          ]
        }
      ],
      "source": [
        "step1 = ColumnTransformer(transformers=[\n",
        "    ('col_tnf',OneHotEncoder(sparse_output=False,drop='first'),[0,1,7,10,11])\n",
        "],remainder='passthrough')\n",
        "\n",
        "step2 = GradientBoostingRegressor(n_estimators=500)\n",
        "\n",
        "pipe = Pipeline([\n",
        "    ('step1',step1),\n",
        "    ('step2',step2)\n",
        "])\n",
        "\n",
        "pipe.fit(X_train,y_train)\n",
        "\n",
        "y_pred = pipe.predict(X_test)\n",
        "\n",
        "print('R2 score',r2_score(y_test,y_pred))\n",
        "print('MAE',mean_absolute_error(y_test,y_pred))"
      ]
    },
    {
      "cell_type": "markdown",
      "metadata": {},
      "source": [
        "- Result: - Gradient Boosting model explains 88.87% of the variance in laptop prices (R² = 0.8887) and has an average prediction error of 0.16 units (MAE = 0.1635), showing strong performance, slightly outperforming the Random Forest model."
      ]
    },
    {
      "cell_type": "markdown",
      "metadata": {
        "id": "UPGvxElsFW0w"
      },
      "source": [
        "### Applying XGBoost for Laptop Price Prediction:\n",
        "\n",
        "1. Encodes categorical features using OneHotEncoder.\n",
        "2. Trains an XGBoost Regression model with 100 estimators.\n",
        "3. Evaluates performance using R² score and MAE."
      ]
    },
    {
      "cell_type": "code",
      "execution_count": 363,
      "metadata": {
        "colab": {
          "base_uri": "https://localhost:8080/"
        },
        "id": "4-cnNm_wEVjd",
        "outputId": "755f17d0-de61-4d06-f63a-96e3026ec508"
      },
      "outputs": [],
      "source": [
        "# step1 = ColumnTransformer(transformers=[\n",
        "#     ('col_tnf',OneHotEncoder(sparse_output=False,drop='first'),[0,1,7,10,11])\n",
        "# ],remainder='passthrough')\n",
        "\n",
        "# step2 = XGBRegressor(n_estimators=45,max_depth=5,learning_rate=0.5)\n",
        "\n",
        "# pipe = Pipeline([\n",
        "#     ('step1',step1),\n",
        "#     ('step2',step2)\n",
        "# ])\n",
        "\n",
        "# pipe.fit(X_train,y_train)\n",
        "\n",
        "# y_pred = pipe.predict(X_test)\n",
        "\n",
        "# print('R2 score',r2_score(y_test,y_pred))\n",
        "# print('MAE',mean_absolute_error(y_test,y_pred))"
      ]
    },
    {
      "cell_type": "markdown",
      "metadata": {},
      "source": [
        "- Result: -  XGBoost model explains 88.98% of the variance in laptop prices (R² = 0.8898) and has an average prediction error of 0.16 units (MAE = 0.1631), showing excellent performance, slightly outperforming Gradient Boosting."
      ]
    },
    {
      "cell_type": "markdown",
      "metadata": {
        "id": "Mw0fm9h_F1Ak"
      },
      "source": [
        "### Voting Regressor for Laptop Price Prediction:\n",
        "1. Encodes categorical features using OneHotEncoder.\n",
        "2. Combines predictions from Linear Regression, Random Forest, and Support Vector Regressor using Voting Regressor.\n",
        "3. Evaluates performance using R² score and MAE."
      ]
    },
    {
      "cell_type": "code",
      "execution_count": 364,
      "metadata": {
        "colab": {
          "base_uri": "https://localhost:8080/"
        },
        "id": "1lJXlnfLFusy",
        "outputId": "8768f7ef-f4db-4e9b-eb14-79c0c00ac65f"
      },
      "outputs": [
        {
          "name": "stdout",
          "output_type": "stream",
          "text": [
            "R2 score 0.8893181082100486\n",
            "MAE 0.15842756853406278\n"
          ]
        }
      ],
      "source": [
        "from sklearn.ensemble import VotingRegressor,StackingRegressor\n",
        "\n",
        "step1 = ColumnTransformer(transformers=[\n",
        "    ('col_tnf',OneHotEncoder(sparse_output=False,drop='first'),[0,1,7,10,11])\n",
        "],remainder='passthrough')\n",
        "\n",
        "\n",
        "rf = RandomForestRegressor(n_estimators=350,random_state=3,max_samples=0.5,max_features=0.75,max_depth=15)\n",
        "gbdt = GradientBoostingRegressor(n_estimators=100,max_features=0.5)\n",
        "xgb = XGBRegressor(n_estimators=25,learning_rate=0.3,max_depth=5)\n",
        "# Either set max_samples=None or bootstrap=True for ExtraTreesRegressor\n",
        "et = ExtraTreesRegressor(n_estimators=100,random_state=3,max_samples=None,max_features=0.75,max_depth=10) # or bootstrap=True\n",
        "\n",
        "\n",
        "step2 = VotingRegressor([('rf', rf), ('gbdt', gbdt), ('xgb',xgb), ('et',et)],weights=[5,1,1,1])\n",
        "\n",
        "pipe = Pipeline([\n",
        "    ('step1',step1),\n",
        "    ('step2',step2)\n",
        "])\n",
        "\n",
        "pipe.fit(X_train,y_train)\n",
        "\n",
        "y_pred = pipe.predict(X_test)\n",
        "\n",
        "print('R2 score',r2_score(y_test,y_pred))\n",
        "print('MAE',mean_absolute_error(y_test,y_pred))"
      ]
    },
    {
      "cell_type": "markdown",
      "metadata": {
        "id": "Bl5MTEZeF8hg"
      },
      "source": [
        "### Stacking"
      ]
    },
    {
      "cell_type": "code",
      "execution_count": 370,
      "metadata": {
        "colab": {
          "base_uri": "https://localhost:8080/"
        },
        "id": "oFT_-QgQF-1T",
        "outputId": "f1c7721c-576f-4d4e-dfdf-fed94421b032"
      },
      "outputs": [
        {
          "name": "stdout",
          "output_type": "stream",
          "text": [
            "R2 score 0.8673034086258666\n",
            "MAE 0.17572323878594387\n"
          ]
        }
      ],
      "source": [
        "from sklearn.ensemble import VotingRegressor,StackingRegressor\n",
        "\n",
        "step1 = ColumnTransformer(transformers=[\n",
        "    ('col_tnf',OneHotEncoder(sparse_output=False,drop='first'),[0,1,7,10,11])\n",
        "],remainder='passthrough')\n",
        "\n",
        "\n",
        "estimators = [\n",
        "    ('rf', RandomForestRegressor(n_estimators=350,random_state=3,max_samples=0.5,max_features=0.75,max_depth=15)),\n",
        "    ('gbdt',GradientBoostingRegressor(n_estimators=100,max_features=0.5)),\n",
        "    # ('xgb', XGBRegressor(n_estimators=25,learning_rate=0.3,max_depth=5))\n",
        "]\n",
        "\n",
        "step2 = StackingRegressor(estimators=estimators, final_estimator=Ridge(alpha=100))\n",
        "\n",
        "pipe = Pipeline([\n",
        "    ('step1',step1),\n",
        "    ('step2',step2)\n",
        "])\n",
        "\n",
        "pipe.fit(X_train,y_train)\n",
        "\n",
        "y_pred = pipe.predict(X_test)\n",
        "\n",
        "print('R2 score',r2_score(y_test,y_pred))\n",
        "print('MAE',mean_absolute_error(y_test,y_pred))"
      ]
    },
    {
      "cell_type": "markdown",
      "metadata": {},
      "source": [
        "- Result:-  Voting Regressor model explains 88.92% of the variance in laptop prices (R² = 0.8892) and has an average prediction error of 0.16 units (MAE = 0.1588), showing excellent performance, similar to XGBoost and Gradient Boosting."
      ]
    },
    {
      "cell_type": "markdown",
      "metadata": {
        "id": "X1wqiFgSGFDj"
      },
      "source": [
        "### Exporting the Model and Data using Pickle\n",
        "\n",
        "1. Saves the trained model pipeline and DataFrame to .pkl files for future use.\n",
        "2. This step allows reloading the objects later without retraining or reloading the data."
      ]
    },
    {
      "cell_type": "code",
      "execution_count": 371,
      "metadata": {
        "id": "cHuJsmpBF_s6"
      },
      "outputs": [],
      "source": [
        "import pickle\n",
        "\n",
        "pickle.dump(df,open('dd.pkl','wb'))\n",
        "pickle.dump(pipe,open('poppy.pkl','wb'))"
      ]
    },
    {
      "cell_type": "markdown",
      "metadata": {},
      "source": [
        "- The DataFrame (df) typically holds the dataset used for training the model. Saving it ensures that the data used for model training is preserved, making it easier to reuse the dataset later for predictions, model evaluation, or further analysis."
      ]
    },
    {
      "cell_type": "code",
      "execution_count": 367,
      "metadata": {
        "colab": {
          "base_uri": "https://localhost:8080/",
          "height": 687
        },
        "id": "f7IHN3uPGLpz",
        "outputId": "75f7a4d6-2b18-430b-9527-2e5a6eeb715e"
      },
      "outputs": [
        {
          "data": {
            "text/html": [
              "<div>\n",
              "<style scoped>\n",
              "    .dataframe tbody tr th:only-of-type {\n",
              "        vertical-align: middle;\n",
              "    }\n",
              "\n",
              "    .dataframe tbody tr th {\n",
              "        vertical-align: top;\n",
              "    }\n",
              "\n",
              "    .dataframe thead th {\n",
              "        text-align: right;\n",
              "    }\n",
              "</style>\n",
              "<table border=\"1\" class=\"dataframe\">\n",
              "  <thead>\n",
              "    <tr style=\"text-align: right;\">\n",
              "      <th></th>\n",
              "      <th>Company</th>\n",
              "      <th>TypeName</th>\n",
              "      <th>Ram</th>\n",
              "      <th>Weight</th>\n",
              "      <th>Price</th>\n",
              "      <th>Touchscreen</th>\n",
              "      <th>IPS</th>\n",
              "      <th>ppi</th>\n",
              "      <th>CPU Brand</th>\n",
              "      <th>HDD</th>\n",
              "      <th>SSD</th>\n",
              "      <th>Gpu Brand</th>\n",
              "      <th>OS Category</th>\n",
              "    </tr>\n",
              "  </thead>\n",
              "  <tbody>\n",
              "    <tr>\n",
              "      <th>0</th>\n",
              "      <td>Apple</td>\n",
              "      <td>Ultrabook</td>\n",
              "      <td>8</td>\n",
              "      <td>1.37</td>\n",
              "      <td>71378.6832</td>\n",
              "      <td>0</td>\n",
              "      <td>0</td>\n",
              "      <td>226.983005</td>\n",
              "      <td>Intel Core i5</td>\n",
              "      <td>0</td>\n",
              "      <td>128</td>\n",
              "      <td>Intel</td>\n",
              "      <td>Mac</td>\n",
              "    </tr>\n",
              "    <tr>\n",
              "      <th>1</th>\n",
              "      <td>Apple</td>\n",
              "      <td>Ultrabook</td>\n",
              "      <td>8</td>\n",
              "      <td>1.34</td>\n",
              "      <td>47895.5232</td>\n",
              "      <td>0</td>\n",
              "      <td>0</td>\n",
              "      <td>127.677940</td>\n",
              "      <td>Intel Core i5</td>\n",
              "      <td>0</td>\n",
              "      <td>0</td>\n",
              "      <td>Intel</td>\n",
              "      <td>Mac</td>\n",
              "    </tr>\n",
              "    <tr>\n",
              "      <th>2</th>\n",
              "      <td>HP</td>\n",
              "      <td>Notebook</td>\n",
              "      <td>8</td>\n",
              "      <td>1.86</td>\n",
              "      <td>30636.0000</td>\n",
              "      <td>0</td>\n",
              "      <td>0</td>\n",
              "      <td>141.211998</td>\n",
              "      <td>Intel Core i5</td>\n",
              "      <td>0</td>\n",
              "      <td>256</td>\n",
              "      <td>Intel</td>\n",
              "      <td>Other/Linux</td>\n",
              "    </tr>\n",
              "    <tr>\n",
              "      <th>3</th>\n",
              "      <td>Apple</td>\n",
              "      <td>Ultrabook</td>\n",
              "      <td>16</td>\n",
              "      <td>1.83</td>\n",
              "      <td>135195.3360</td>\n",
              "      <td>0</td>\n",
              "      <td>0</td>\n",
              "      <td>220.534624</td>\n",
              "      <td>Intel Core i7</td>\n",
              "      <td>0</td>\n",
              "      <td>512</td>\n",
              "      <td>AMD</td>\n",
              "      <td>Mac</td>\n",
              "    </tr>\n",
              "    <tr>\n",
              "      <th>4</th>\n",
              "      <td>Apple</td>\n",
              "      <td>Ultrabook</td>\n",
              "      <td>8</td>\n",
              "      <td>1.37</td>\n",
              "      <td>96095.8080</td>\n",
              "      <td>0</td>\n",
              "      <td>0</td>\n",
              "      <td>226.983005</td>\n",
              "      <td>Intel Core i5</td>\n",
              "      <td>0</td>\n",
              "      <td>256</td>\n",
              "      <td>Intel</td>\n",
              "      <td>Mac</td>\n",
              "    </tr>\n",
              "    <tr>\n",
              "      <th>...</th>\n",
              "      <td>...</td>\n",
              "      <td>...</td>\n",
              "      <td>...</td>\n",
              "      <td>...</td>\n",
              "      <td>...</td>\n",
              "      <td>...</td>\n",
              "      <td>...</td>\n",
              "      <td>...</td>\n",
              "      <td>...</td>\n",
              "      <td>...</td>\n",
              "      <td>...</td>\n",
              "      <td>...</td>\n",
              "      <td>...</td>\n",
              "    </tr>\n",
              "    <tr>\n",
              "      <th>1298</th>\n",
              "      <td>Lenovo</td>\n",
              "      <td>2 in 1 Convertible</td>\n",
              "      <td>4</td>\n",
              "      <td>1.80</td>\n",
              "      <td>33992.6400</td>\n",
              "      <td>1</td>\n",
              "      <td>1</td>\n",
              "      <td>157.350512</td>\n",
              "      <td>Intel Core i7</td>\n",
              "      <td>0</td>\n",
              "      <td>128</td>\n",
              "      <td>Intel</td>\n",
              "      <td>Windows</td>\n",
              "    </tr>\n",
              "    <tr>\n",
              "      <th>1299</th>\n",
              "      <td>Lenovo</td>\n",
              "      <td>2 in 1 Convertible</td>\n",
              "      <td>16</td>\n",
              "      <td>1.30</td>\n",
              "      <td>79866.7200</td>\n",
              "      <td>1</td>\n",
              "      <td>1</td>\n",
              "      <td>276.053530</td>\n",
              "      <td>Intel Core i7</td>\n",
              "      <td>0</td>\n",
              "      <td>512</td>\n",
              "      <td>Intel</td>\n",
              "      <td>Windows</td>\n",
              "    </tr>\n",
              "    <tr>\n",
              "      <th>1300</th>\n",
              "      <td>Lenovo</td>\n",
              "      <td>Notebook</td>\n",
              "      <td>2</td>\n",
              "      <td>1.50</td>\n",
              "      <td>12201.1200</td>\n",
              "      <td>0</td>\n",
              "      <td>0</td>\n",
              "      <td>111.935204</td>\n",
              "      <td>Other Intel Processor</td>\n",
              "      <td>0</td>\n",
              "      <td>0</td>\n",
              "      <td>Intel</td>\n",
              "      <td>Windows</td>\n",
              "    </tr>\n",
              "    <tr>\n",
              "      <th>1301</th>\n",
              "      <td>HP</td>\n",
              "      <td>Notebook</td>\n",
              "      <td>6</td>\n",
              "      <td>2.19</td>\n",
              "      <td>40705.9200</td>\n",
              "      <td>0</td>\n",
              "      <td>0</td>\n",
              "      <td>100.454670</td>\n",
              "      <td>Intel Core i7</td>\n",
              "      <td>1000</td>\n",
              "      <td>0</td>\n",
              "      <td>AMD</td>\n",
              "      <td>Windows</td>\n",
              "    </tr>\n",
              "    <tr>\n",
              "      <th>1302</th>\n",
              "      <td>Asus</td>\n",
              "      <td>Notebook</td>\n",
              "      <td>4</td>\n",
              "      <td>2.20</td>\n",
              "      <td>19660.3200</td>\n",
              "      <td>0</td>\n",
              "      <td>0</td>\n",
              "      <td>100.454670</td>\n",
              "      <td>Other Intel Processor</td>\n",
              "      <td>500</td>\n",
              "      <td>0</td>\n",
              "      <td>Intel</td>\n",
              "      <td>Windows</td>\n",
              "    </tr>\n",
              "  </tbody>\n",
              "</table>\n",
              "<p>1303 rows × 13 columns</p>\n",
              "</div>"
            ],
            "text/plain": [
              "     Company            TypeName  Ram  Weight        Price  Touchscreen  IPS  \\\n",
              "0      Apple           Ultrabook    8    1.37   71378.6832            0    0   \n",
              "1      Apple           Ultrabook    8    1.34   47895.5232            0    0   \n",
              "2         HP            Notebook    8    1.86   30636.0000            0    0   \n",
              "3      Apple           Ultrabook   16    1.83  135195.3360            0    0   \n",
              "4      Apple           Ultrabook    8    1.37   96095.8080            0    0   \n",
              "...      ...                 ...  ...     ...          ...          ...  ...   \n",
              "1298  Lenovo  2 in 1 Convertible    4    1.80   33992.6400            1    1   \n",
              "1299  Lenovo  2 in 1 Convertible   16    1.30   79866.7200            1    1   \n",
              "1300  Lenovo            Notebook    2    1.50   12201.1200            0    0   \n",
              "1301      HP            Notebook    6    2.19   40705.9200            0    0   \n",
              "1302    Asus            Notebook    4    2.20   19660.3200            0    0   \n",
              "\n",
              "             ppi              CPU Brand   HDD  SSD Gpu Brand  OS Category  \n",
              "0     226.983005          Intel Core i5     0  128     Intel          Mac  \n",
              "1     127.677940          Intel Core i5     0    0     Intel          Mac  \n",
              "2     141.211998          Intel Core i5     0  256     Intel  Other/Linux  \n",
              "3     220.534624          Intel Core i7     0  512       AMD          Mac  \n",
              "4     226.983005          Intel Core i5     0  256     Intel          Mac  \n",
              "...          ...                    ...   ...  ...       ...          ...  \n",
              "1298  157.350512          Intel Core i7     0  128     Intel      Windows  \n",
              "1299  276.053530          Intel Core i7     0  512     Intel      Windows  \n",
              "1300  111.935204  Other Intel Processor     0    0     Intel      Windows  \n",
              "1301  100.454670          Intel Core i7  1000    0       AMD      Windows  \n",
              "1302  100.454670  Other Intel Processor   500    0     Intel      Windows  \n",
              "\n",
              "[1303 rows x 13 columns]"
            ]
          },
          "execution_count": 367,
          "metadata": {},
          "output_type": "execute_result"
        }
      ],
      "source": [
        "df"
      ]
    },
    {
      "cell_type": "markdown",
      "metadata": {},
      "source": [
        "- The X_train represents the training features used to train the model. It contains the input data without the target variable"
      ]
    },
    {
      "cell_type": "code",
      "execution_count": 368,
      "metadata": {
        "colab": {
          "base_uri": "https://localhost:8080/",
          "height": 687
        },
        "id": "raSct_z-GNQI",
        "outputId": "b8c56f4e-5dac-4cc3-a83d-5f92a180996a"
      },
      "outputs": [
        {
          "data": {
            "text/html": [
              "<div>\n",
              "<style scoped>\n",
              "    .dataframe tbody tr th:only-of-type {\n",
              "        vertical-align: middle;\n",
              "    }\n",
              "\n",
              "    .dataframe tbody tr th {\n",
              "        vertical-align: top;\n",
              "    }\n",
              "\n",
              "    .dataframe thead th {\n",
              "        text-align: right;\n",
              "    }\n",
              "</style>\n",
              "<table border=\"1\" class=\"dataframe\">\n",
              "  <thead>\n",
              "    <tr style=\"text-align: right;\">\n",
              "      <th></th>\n",
              "      <th>Company</th>\n",
              "      <th>TypeName</th>\n",
              "      <th>Ram</th>\n",
              "      <th>Weight</th>\n",
              "      <th>Touchscreen</th>\n",
              "      <th>IPS</th>\n",
              "      <th>ppi</th>\n",
              "      <th>CPU Brand</th>\n",
              "      <th>HDD</th>\n",
              "      <th>SSD</th>\n",
              "      <th>Gpu Brand</th>\n",
              "      <th>OS Category</th>\n",
              "    </tr>\n",
              "  </thead>\n",
              "  <tbody>\n",
              "    <tr>\n",
              "      <th>183</th>\n",
              "      <td>Toshiba</td>\n",
              "      <td>Notebook</td>\n",
              "      <td>8</td>\n",
              "      <td>2.00</td>\n",
              "      <td>0</td>\n",
              "      <td>0</td>\n",
              "      <td>100.454670</td>\n",
              "      <td>Intel Core i5</td>\n",
              "      <td>0</td>\n",
              "      <td>128</td>\n",
              "      <td>Intel</td>\n",
              "      <td>Windows</td>\n",
              "    </tr>\n",
              "    <tr>\n",
              "      <th>699</th>\n",
              "      <td>HP</td>\n",
              "      <td>Notebook</td>\n",
              "      <td>4</td>\n",
              "      <td>2.10</td>\n",
              "      <td>0</td>\n",
              "      <td>0</td>\n",
              "      <td>141.211998</td>\n",
              "      <td>Intel Core i7</td>\n",
              "      <td>500</td>\n",
              "      <td>0</td>\n",
              "      <td>AMD</td>\n",
              "      <td>Windows</td>\n",
              "    </tr>\n",
              "    <tr>\n",
              "      <th>419</th>\n",
              "      <td>Lenovo</td>\n",
              "      <td>Ultrabook</td>\n",
              "      <td>8</td>\n",
              "      <td>1.75</td>\n",
              "      <td>0</td>\n",
              "      <td>0</td>\n",
              "      <td>157.350512</td>\n",
              "      <td>Intel Core i7</td>\n",
              "      <td>0</td>\n",
              "      <td>256</td>\n",
              "      <td>AMD</td>\n",
              "      <td>Windows</td>\n",
              "    </tr>\n",
              "    <tr>\n",
              "      <th>997</th>\n",
              "      <td>Acer</td>\n",
              "      <td>Notebook</td>\n",
              "      <td>4</td>\n",
              "      <td>2.40</td>\n",
              "      <td>0</td>\n",
              "      <td>0</td>\n",
              "      <td>100.454670</td>\n",
              "      <td>Other Intel Processor</td>\n",
              "      <td>500</td>\n",
              "      <td>0</td>\n",
              "      <td>Intel</td>\n",
              "      <td>Windows</td>\n",
              "    </tr>\n",
              "    <tr>\n",
              "      <th>502</th>\n",
              "      <td>Lenovo</td>\n",
              "      <td>2 in 1 Convertible</td>\n",
              "      <td>8</td>\n",
              "      <td>1.40</td>\n",
              "      <td>1</td>\n",
              "      <td>1</td>\n",
              "      <td>158.482530</td>\n",
              "      <td>Intel Core i5</td>\n",
              "      <td>0</td>\n",
              "      <td>256</td>\n",
              "      <td>Intel</td>\n",
              "      <td>Windows</td>\n",
              "    </tr>\n",
              "    <tr>\n",
              "      <th>...</th>\n",
              "      <td>...</td>\n",
              "      <td>...</td>\n",
              "      <td>...</td>\n",
              "      <td>...</td>\n",
              "      <td>...</td>\n",
              "      <td>...</td>\n",
              "      <td>...</td>\n",
              "      <td>...</td>\n",
              "      <td>...</td>\n",
              "      <td>...</td>\n",
              "      <td>...</td>\n",
              "      <td>...</td>\n",
              "    </tr>\n",
              "    <tr>\n",
              "      <th>466</th>\n",
              "      <td>Acer</td>\n",
              "      <td>Notebook</td>\n",
              "      <td>4</td>\n",
              "      <td>2.20</td>\n",
              "      <td>0</td>\n",
              "      <td>0</td>\n",
              "      <td>100.454670</td>\n",
              "      <td>Intel Core i3</td>\n",
              "      <td>500</td>\n",
              "      <td>0</td>\n",
              "      <td>Nvidia</td>\n",
              "      <td>Windows</td>\n",
              "    </tr>\n",
              "    <tr>\n",
              "      <th>299</th>\n",
              "      <td>Asus</td>\n",
              "      <td>Ultrabook</td>\n",
              "      <td>16</td>\n",
              "      <td>1.63</td>\n",
              "      <td>0</td>\n",
              "      <td>0</td>\n",
              "      <td>141.211998</td>\n",
              "      <td>Intel Core i7</td>\n",
              "      <td>0</td>\n",
              "      <td>512</td>\n",
              "      <td>Nvidia</td>\n",
              "      <td>Windows</td>\n",
              "    </tr>\n",
              "    <tr>\n",
              "      <th>493</th>\n",
              "      <td>Acer</td>\n",
              "      <td>Notebook</td>\n",
              "      <td>8</td>\n",
              "      <td>2.20</td>\n",
              "      <td>0</td>\n",
              "      <td>0</td>\n",
              "      <td>100.454670</td>\n",
              "      <td>AMD Processor</td>\n",
              "      <td>1000</td>\n",
              "      <td>0</td>\n",
              "      <td>AMD</td>\n",
              "      <td>Windows</td>\n",
              "    </tr>\n",
              "    <tr>\n",
              "      <th>527</th>\n",
              "      <td>Lenovo</td>\n",
              "      <td>Notebook</td>\n",
              "      <td>8</td>\n",
              "      <td>2.20</td>\n",
              "      <td>0</td>\n",
              "      <td>0</td>\n",
              "      <td>100.454670</td>\n",
              "      <td>Intel Core i3</td>\n",
              "      <td>2000</td>\n",
              "      <td>0</td>\n",
              "      <td>Nvidia</td>\n",
              "      <td>Other/Linux</td>\n",
              "    </tr>\n",
              "    <tr>\n",
              "      <th>1192</th>\n",
              "      <td>HP</td>\n",
              "      <td>Notebook</td>\n",
              "      <td>4</td>\n",
              "      <td>1.86</td>\n",
              "      <td>0</td>\n",
              "      <td>0</td>\n",
              "      <td>100.454670</td>\n",
              "      <td>Intel Core i5</td>\n",
              "      <td>500</td>\n",
              "      <td>0</td>\n",
              "      <td>Intel</td>\n",
              "      <td>Windows</td>\n",
              "    </tr>\n",
              "  </tbody>\n",
              "</table>\n",
              "<p>1107 rows × 12 columns</p>\n",
              "</div>"
            ],
            "text/plain": [
              "      Company            TypeName  Ram  Weight  Touchscreen  IPS         ppi  \\\n",
              "183   Toshiba            Notebook    8    2.00            0    0  100.454670   \n",
              "699        HP            Notebook    4    2.10            0    0  141.211998   \n",
              "419    Lenovo           Ultrabook    8    1.75            0    0  157.350512   \n",
              "997      Acer            Notebook    4    2.40            0    0  100.454670   \n",
              "502    Lenovo  2 in 1 Convertible    8    1.40            1    1  158.482530   \n",
              "...       ...                 ...  ...     ...          ...  ...         ...   \n",
              "466      Acer            Notebook    4    2.20            0    0  100.454670   \n",
              "299      Asus           Ultrabook   16    1.63            0    0  141.211998   \n",
              "493      Acer            Notebook    8    2.20            0    0  100.454670   \n",
              "527    Lenovo            Notebook    8    2.20            0    0  100.454670   \n",
              "1192       HP            Notebook    4    1.86            0    0  100.454670   \n",
              "\n",
              "                  CPU Brand   HDD  SSD Gpu Brand  OS Category  \n",
              "183           Intel Core i5     0  128     Intel      Windows  \n",
              "699           Intel Core i7   500    0       AMD      Windows  \n",
              "419           Intel Core i7     0  256       AMD      Windows  \n",
              "997   Other Intel Processor   500    0     Intel      Windows  \n",
              "502           Intel Core i5     0  256     Intel      Windows  \n",
              "...                     ...   ...  ...       ...          ...  \n",
              "466           Intel Core i3   500    0    Nvidia      Windows  \n",
              "299           Intel Core i7     0  512    Nvidia      Windows  \n",
              "493           AMD Processor  1000    0       AMD      Windows  \n",
              "527           Intel Core i3  2000    0    Nvidia  Other/Linux  \n",
              "1192          Intel Core i5   500    0     Intel      Windows  \n",
              "\n",
              "[1107 rows x 12 columns]"
            ]
          },
          "execution_count": 368,
          "metadata": {},
          "output_type": "execute_result"
        }
      ],
      "source": [
        "X_train"
      ]
    },
    {
      "cell_type": "markdown",
      "metadata": {},
      "source": [
        "### Saving the training data (or X_train) is useful for:\n",
        "\n",
        "1. Consistency: Ensuring that the same training data is available for future use.\n",
        "2. Reproducibility: Making sure that future predictions or evaluations can be done using the same training set.\n",
        "3. Further Analysis: Keeping the training data handy if you need to fine-tune the model or run further experiments."
      ]
    },
    {
      "cell_type": "markdown",
      "metadata": {},
      "source": []
    }
  ],
  "metadata": {
    "colab": {
      "provenance": []
    },
    "kernelspec": {
      "display_name": "Python 3",
      "name": "python3"
    },
    "language_info": {
      "codemirror_mode": {
        "name": "ipython",
        "version": 3
      },
      "file_extension": ".py",
      "mimetype": "text/x-python",
      "name": "python",
      "nbconvert_exporter": "python",
      "pygments_lexer": "ipython3",
      "version": "3.12.5"
    }
  },
  "nbformat": 4,
  "nbformat_minor": 0
}
